{
 "cells": [
  {
   "cell_type": "code",
   "execution_count": 1,
   "id": "ff6c8085",
   "metadata": {
    "_cell_guid": "b1076dfc-b9ad-4769-8c92-a6c4dae69d19",
    "_uuid": "8f2839f25d086af736a60e9eeb907d3b93b6e0e5",
    "execution": {
     "iopub.execute_input": "2022-09-16T22:55:29.259737Z",
     "iopub.status.busy": "2022-09-16T22:55:29.258795Z",
     "iopub.status.idle": "2022-09-16T22:55:39.176758Z",
     "shell.execute_reply": "2022-09-16T22:55:39.175001Z"
    },
    "papermill": {
     "duration": 9.935683,
     "end_time": "2022-09-16T22:55:39.180718",
     "exception": false,
     "start_time": "2022-09-16T22:55:29.245035",
     "status": "completed"
    },
    "tags": []
   },
   "outputs": [
    {
     "data": {
      "text/html": [
       "<style type='text/css'>\n",
       ".datatable table.frame { margin-bottom: 0; }\n",
       ".datatable table.frame thead { border-bottom: none; }\n",
       ".datatable table.frame tr.coltypes td {  color: #FFFFFF;  line-height: 6px;  padding: 0 0.5em;}\n",
       ".datatable .bool    { background: #DDDD99; }\n",
       ".datatable .object  { background: #565656; }\n",
       ".datatable .int     { background: #5D9E5D; }\n",
       ".datatable .float   { background: #4040CC; }\n",
       ".datatable .str     { background: #CC4040; }\n",
       ".datatable .time    { background: #40CC40; }\n",
       ".datatable .row_index {  background: var(--jp-border-color3);  border-right: 1px solid var(--jp-border-color0);  color: var(--jp-ui-font-color3);  font-size: 9px;}\n",
       ".datatable .frame tbody td { text-align: left; }\n",
       ".datatable .frame tr.coltypes .row_index {  background: var(--jp-border-color0);}\n",
       ".datatable th:nth-child(2) { padding-left: 12px; }\n",
       ".datatable .hellipsis {  color: var(--jp-cell-editor-border-color);}\n",
       ".datatable .vellipsis {  background: var(--jp-layout-color0);  color: var(--jp-cell-editor-border-color);}\n",
       ".datatable .na {  color: var(--jp-cell-editor-border-color);  font-size: 80%;}\n",
       ".datatable .sp {  opacity: 0.25;}\n",
       ".datatable .footer { font-size: 9px; }\n",
       ".datatable .frame_dimensions {  background: var(--jp-border-color3);  border-top: 1px solid var(--jp-border-color0);  color: var(--jp-ui-font-color3);  display: inline-block;  opacity: 0.6;  padding: 1px 10px 1px 5px;}\n",
       "</style>\n"
      ],
      "text/plain": [
       "<IPython.core.display.HTML object>"
      ]
     },
     "metadata": {},
     "output_type": "display_data"
    }
   ],
   "source": [
    "import numpy as np\n",
    "import pandas as pd\n",
    "\n",
    "from imblearn.over_sampling import SMOTE\n",
    "\n",
    "import matplotlib.pyplot as plt\n",
    "# import itertools\n",
    "\n",
    "%matplotlib inline\n",
    "\n",
    "from keras.utils.np_utils import to_categorical\n",
    "from keras.models import Sequential\n",
    "# from keras.layers import Convolution2D, MaxPooling2D, Flatten, Dense, Dropout, BatchNormalization\n",
    "from tensorflow.keras.optimizers import Adam\n",
    "# from keras.callbacks import ReduceLROnPlateau\n",
    "# from keras.preprocessing.image import ImageDataGenerator\n",
    "from keras.models import Sequential\n",
    "from keras.layers.core import Dense , Activation\n",
    "\n",
    "from sklearn.preprocessing import StandardScaler\n",
    "from sklearn.metrics import accuracy_score\n",
    "from sklearn.preprocessing import LabelEncoder\n",
    "from sklearn.model_selection import train_test_split\n",
    "from sklearn.model_selection import StratifiedKFold\n",
    "from sklearn.metrics import classification_report, confusion_matrix\n",
    "from sklearn.metrics import matthews_corrcoef\n",
    "\n",
    "\n",
    "import seaborn as sns\n",
    "\n",
    "import time\n",
    "\n",
    "from xgboost import XGBClassifier\n",
    "\n",
    "import lightgbm as lgb"
   ]
  },
  {
   "cell_type": "code",
   "execution_count": 2,
   "id": "ea37c96b",
   "metadata": {
    "execution": {
     "iopub.execute_input": "2022-09-16T22:55:39.201406Z",
     "iopub.status.busy": "2022-09-16T22:55:39.199900Z",
     "iopub.status.idle": "2022-09-16T22:56:59.427589Z",
     "shell.execute_reply": "2022-09-16T22:56:59.425414Z"
    },
    "papermill": {
     "duration": 80.241221,
     "end_time": "2022-09-16T22:56:59.431255",
     "exception": false,
     "start_time": "2022-09-16T22:55:39.190034",
     "status": "completed"
    },
    "tags": []
   },
   "outputs": [
    {
     "name": "stdout",
     "output_type": "stream",
     "text": [
      "Done!1\n",
      "Done!2\n",
      "Done!3\n",
      "Done!4\n",
      "Done!5\n",
      "Done!6\n",
      "Done!7\n",
      "Done!8\n",
      "Done!9\n",
      "Done!10\n",
      "Done!11\n",
      "Done!12\n",
      "Done!13\n",
      "Done!14\n",
      "Done!15\n",
      "Done!16\n",
      "Done!17\n",
      "Done!18\n",
      "Done!19\n",
      "Done!20\n",
      "Done!21\n",
      "Done!22\n",
      "Done!23\n",
      "Done!24\n",
      "Done!25\n",
      "Done!26\n",
      "Done!27\n",
      "Done!28\n",
      "Done!29\n",
      "Done!30\n",
      "Done!31\n",
      "Done!32\n",
      "Done!33\n",
      "Done!34\n",
      "Done!35\n",
      "Done!36\n",
      "Done!37\n",
      "Done!38\n",
      "Done!39\n",
      "Done!40\n",
      "Done!41\n",
      "Done!42\n",
      "Done!43\n",
      "Done!44\n",
      "Done!45\n",
      "Done!46\n",
      "Done!47\n",
      "Done!48\n",
      "Done!49\n",
      "Done!50\n",
      "Done!51\n",
      "Done!52\n",
      "Done!53\n",
      "Done!54\n",
      "Done!55\n",
      "Done!56\n",
      "Done!57\n",
      "Done!58\n",
      "Done!59\n",
      "Done!60\n",
      "Done!61\n",
      "Done!62\n",
      "Done!63\n",
      "Done!64\n",
      "Done!65\n",
      "Done!66\n",
      "Done!67\n",
      "Done!68\n",
      "Done!69\n",
      "Done!70\n",
      "Done!71\n",
      "Done!72\n",
      "Done!73\n",
      "Done!74\n",
      "Done!75\n",
      "Done!76\n",
      "Done!77\n",
      "Done!78\n",
      "Done!79\n",
      "Done!80\n",
      "Done!81\n",
      "Done!82\n",
      "Done!83\n",
      "Done!84\n",
      "Done!85\n",
      "Done!86\n",
      "Done!87\n",
      "Done!88\n",
      "Done!89\n",
      "Done!90\n",
      "Done!91\n",
      "Done!92\n"
     ]
    }
   ],
   "source": [
    "products = {}\n",
    "count = 1\n",
    "for i in range(92):\n",
    "    df = pd.read_csv('../input/products/product_{}.csv'.format(str(count)))\n",
    "    products['product_{}'.format(str(count))] = df\n",
    "    print('Done!{}'.format(str(count)))\n",
    "    count+=1"
   ]
  },
  {
   "cell_type": "code",
   "execution_count": 3,
   "id": "03d9414b",
   "metadata": {
    "execution": {
     "iopub.execute_input": "2022-09-16T22:56:59.461961Z",
     "iopub.status.busy": "2022-09-16T22:56:59.461491Z",
     "iopub.status.idle": "2022-09-16T22:56:59.513844Z",
     "shell.execute_reply": "2022-09-16T22:56:59.512331Z"
    },
    "papermill": {
     "duration": 0.070031,
     "end_time": "2022-09-16T22:56:59.516325",
     "exception": false,
     "start_time": "2022-09-16T22:56:59.446294",
     "status": "completed"
    },
    "tags": []
   },
   "outputs": [
    {
     "data": {
      "text/html": [
       "<div>\n",
       "<style scoped>\n",
       "    .dataframe tbody tr th:only-of-type {\n",
       "        vertical-align: middle;\n",
       "    }\n",
       "\n",
       "    .dataframe tbody tr th {\n",
       "        vertical-align: top;\n",
       "    }\n",
       "\n",
       "    .dataframe thead th {\n",
       "        text-align: right;\n",
       "    }\n",
       "</style>\n",
       "<table border=\"1\" class=\"dataframe\">\n",
       "  <thead>\n",
       "    <tr style=\"text-align: right;\">\n",
       "      <th></th>\n",
       "      <th>Id</th>\n",
       "      <th>L0_S0_F0</th>\n",
       "      <th>L0_S0_F2</th>\n",
       "      <th>L0_S0_F4</th>\n",
       "      <th>L0_S0_F6</th>\n",
       "      <th>L0_S0_F8</th>\n",
       "      <th>L0_S0_F10</th>\n",
       "      <th>L0_S0_F12</th>\n",
       "      <th>L0_S0_F14</th>\n",
       "      <th>L0_S0_F16</th>\n",
       "      <th>...</th>\n",
       "      <th>L3_S29_F3466_T1</th>\n",
       "      <th>L3_S29_F3469_T1</th>\n",
       "      <th>L3_S29_F3472_T1</th>\n",
       "      <th>L3_S29_F3475_T1</th>\n",
       "      <th>L3_S29_F3478_T1</th>\n",
       "      <th>L3_S29_F3481_T1</th>\n",
       "      <th>L3_S29_F3484_T1</th>\n",
       "      <th>L3_S29_F3487_T1</th>\n",
       "      <th>L3_S29_F3490_T1</th>\n",
       "      <th>L3_S29_F3493_T1</th>\n",
       "    </tr>\n",
       "  </thead>\n",
       "  <tbody>\n",
       "    <tr>\n",
       "      <th>0</th>\n",
       "      <td>365</td>\n",
       "      <td>-0.010</td>\n",
       "      <td>0.019</td>\n",
       "      <td>-0.015</td>\n",
       "      <td>0.003</td>\n",
       "      <td>0.031</td>\n",
       "      <td>0.116</td>\n",
       "      <td>0.000</td>\n",
       "      <td>-0.032</td>\n",
       "      <td>-0.031</td>\n",
       "      <td>...</td>\n",
       "      <td>1</td>\n",
       "      <td>1</td>\n",
       "      <td>1</td>\n",
       "      <td>1</td>\n",
       "      <td>1</td>\n",
       "      <td>1</td>\n",
       "      <td>1</td>\n",
       "      <td>1</td>\n",
       "      <td>1</td>\n",
       "      <td>1</td>\n",
       "    </tr>\n",
       "    <tr>\n",
       "      <th>1</th>\n",
       "      <td>409</td>\n",
       "      <td>-0.068</td>\n",
       "      <td>-0.108</td>\n",
       "      <td>0.003</td>\n",
       "      <td>-0.016</td>\n",
       "      <td>0.118</td>\n",
       "      <td>0.025</td>\n",
       "      <td>0.015</td>\n",
       "      <td>0.128</td>\n",
       "      <td>0.046</td>\n",
       "      <td>...</td>\n",
       "      <td>0</td>\n",
       "      <td>0</td>\n",
       "      <td>0</td>\n",
       "      <td>0</td>\n",
       "      <td>0</td>\n",
       "      <td>0</td>\n",
       "      <td>0</td>\n",
       "      <td>0</td>\n",
       "      <td>0</td>\n",
       "      <td>0</td>\n",
       "    </tr>\n",
       "    <tr>\n",
       "      <th>2</th>\n",
       "      <td>502</td>\n",
       "      <td>-0.049</td>\n",
       "      <td>-0.078</td>\n",
       "      <td>0.003</td>\n",
       "      <td>-0.016</td>\n",
       "      <td>0.074</td>\n",
       "      <td>0.161</td>\n",
       "      <td>0.015</td>\n",
       "      <td>0.088</td>\n",
       "      <td>-0.056</td>\n",
       "      <td>...</td>\n",
       "      <td>1</td>\n",
       "      <td>1</td>\n",
       "      <td>1</td>\n",
       "      <td>1</td>\n",
       "      <td>1</td>\n",
       "      <td>1</td>\n",
       "      <td>1</td>\n",
       "      <td>1</td>\n",
       "      <td>1</td>\n",
       "      <td>1</td>\n",
       "    </tr>\n",
       "    <tr>\n",
       "      <th>3</th>\n",
       "      <td>584</td>\n",
       "      <td>0.010</td>\n",
       "      <td>0.063</td>\n",
       "      <td>-0.015</td>\n",
       "      <td>-0.034</td>\n",
       "      <td>0.031</td>\n",
       "      <td>0.070</td>\n",
       "      <td>0.000</td>\n",
       "      <td>-0.072</td>\n",
       "      <td>0.173</td>\n",
       "      <td>...</td>\n",
       "      <td>0</td>\n",
       "      <td>0</td>\n",
       "      <td>0</td>\n",
       "      <td>0</td>\n",
       "      <td>0</td>\n",
       "      <td>0</td>\n",
       "      <td>0</td>\n",
       "      <td>0</td>\n",
       "      <td>0</td>\n",
       "      <td>0</td>\n",
       "    </tr>\n",
       "    <tr>\n",
       "      <th>4</th>\n",
       "      <td>1036</td>\n",
       "      <td>0.095</td>\n",
       "      <td>0.071</td>\n",
       "      <td>-0.179</td>\n",
       "      <td>-0.179</td>\n",
       "      <td>0.031</td>\n",
       "      <td>0.161</td>\n",
       "      <td>-0.030</td>\n",
       "      <td>-0.112</td>\n",
       "      <td>0.071</td>\n",
       "      <td>...</td>\n",
       "      <td>1</td>\n",
       "      <td>1</td>\n",
       "      <td>1</td>\n",
       "      <td>1</td>\n",
       "      <td>1</td>\n",
       "      <td>1</td>\n",
       "      <td>1</td>\n",
       "      <td>1</td>\n",
       "      <td>1</td>\n",
       "      <td>1</td>\n",
       "    </tr>\n",
       "  </tbody>\n",
       "</table>\n",
       "<p>5 rows × 426 columns</p>\n",
       "</div>"
      ],
      "text/plain": [
       "     Id  L0_S0_F0  L0_S0_F2  L0_S0_F4  L0_S0_F6  L0_S0_F8  L0_S0_F10  \\\n",
       "0   365    -0.010     0.019    -0.015     0.003     0.031      0.116   \n",
       "1   409    -0.068    -0.108     0.003    -0.016     0.118      0.025   \n",
       "2   502    -0.049    -0.078     0.003    -0.016     0.074      0.161   \n",
       "3   584     0.010     0.063    -0.015    -0.034     0.031      0.070   \n",
       "4  1036     0.095     0.071    -0.179    -0.179     0.031      0.161   \n",
       "\n",
       "   L0_S0_F12  L0_S0_F14  L0_S0_F16  ...  L3_S29_F3466_T1  L3_S29_F3469_T1  \\\n",
       "0      0.000     -0.032     -0.031  ...                1                1   \n",
       "1      0.015      0.128      0.046  ...                0                0   \n",
       "2      0.015      0.088     -0.056  ...                1                1   \n",
       "3      0.000     -0.072      0.173  ...                0                0   \n",
       "4     -0.030     -0.112      0.071  ...                1                1   \n",
       "\n",
       "   L3_S29_F3472_T1  L3_S29_F3475_T1  L3_S29_F3478_T1  L3_S29_F3481_T1  \\\n",
       "0                1                1                1                1   \n",
       "1                0                0                0                0   \n",
       "2                1                1                1                1   \n",
       "3                0                0                0                0   \n",
       "4                1                1                1                1   \n",
       "\n",
       "   L3_S29_F3484_T1  L3_S29_F3487_T1  L3_S29_F3490_T1  L3_S29_F3493_T1  \n",
       "0                1                1                1                1  \n",
       "1                0                0                0                0  \n",
       "2                1                1                1                1  \n",
       "3                0                0                0                0  \n",
       "4                1                1                1                1  \n",
       "\n",
       "[5 rows x 426 columns]"
      ]
     },
     "execution_count": 3,
     "metadata": {},
     "output_type": "execute_result"
    }
   ],
   "source": [
    "products['product_1'].head()"
   ]
  },
  {
   "cell_type": "code",
   "execution_count": 4,
   "id": "8118c48b",
   "metadata": {
    "execution": {
     "iopub.execute_input": "2022-09-16T22:56:59.549783Z",
     "iopub.status.busy": "2022-09-16T22:56:59.548819Z",
     "iopub.status.idle": "2022-09-16T22:56:59.554887Z",
     "shell.execute_reply": "2022-09-16T22:56:59.553574Z"
    },
    "papermill": {
     "duration": 0.027943,
     "end_time": "2022-09-16T22:56:59.557574",
     "exception": false,
     "start_time": "2022-09-16T22:56:59.529631",
     "status": "completed"
    },
    "tags": []
   },
   "outputs": [],
   "source": [
    "def drop_id(df):\n",
    "    df.drop('Id' , 1 , inplace = True)"
   ]
  },
  {
   "cell_type": "code",
   "execution_count": 5,
   "id": "5afb8f89",
   "metadata": {
    "execution": {
     "iopub.execute_input": "2022-09-16T22:56:59.585750Z",
     "iopub.status.busy": "2022-09-16T22:56:59.585219Z",
     "iopub.status.idle": "2022-09-16T22:56:59.591739Z",
     "shell.execute_reply": "2022-09-16T22:56:59.590569Z"
    },
    "papermill": {
     "duration": 0.023684,
     "end_time": "2022-09-16T22:56:59.594238",
     "exception": false,
     "start_time": "2022-09-16T22:56:59.570554",
     "status": "completed"
    },
    "tags": []
   },
   "outputs": [],
   "source": [
    "scaler = StandardScaler()\n",
    "def scaling(X):\n",
    "    # scaling the data\n",
    "    scaled_features = scaler.fit_transform(X)\n",
    "    X = pd.DataFrame(scaled_features, index=X.index, columns=X.columns)\n",
    "    return X"
   ]
  },
  {
   "cell_type": "code",
   "execution_count": 6,
   "id": "3982565f",
   "metadata": {
    "execution": {
     "iopub.execute_input": "2022-09-16T22:56:59.623154Z",
     "iopub.status.busy": "2022-09-16T22:56:59.622710Z",
     "iopub.status.idle": "2022-09-16T22:56:59.628652Z",
     "shell.execute_reply": "2022-09-16T22:56:59.627449Z"
    },
    "papermill": {
     "duration": 0.022673,
     "end_time": "2022-09-16T22:56:59.631060",
     "exception": false,
     "start_time": "2022-09-16T22:56:59.608387",
     "status": "completed"
    },
    "tags": []
   },
   "outputs": [],
   "source": [
    "smt = SMOTE(random_state=42)\n",
    "def sampling(X, y):\n",
    "    X_res, y_res = smt.fit_resample(X, y)\n",
    "    return X_res , y_res"
   ]
  },
  {
   "cell_type": "code",
   "execution_count": 7,
   "id": "ba6ba1c7",
   "metadata": {
    "execution": {
     "iopub.execute_input": "2022-09-16T22:56:59.658567Z",
     "iopub.status.busy": "2022-09-16T22:56:59.658122Z",
     "iopub.status.idle": "2022-09-16T22:56:59.664884Z",
     "shell.execute_reply": "2022-09-16T22:56:59.663686Z"
    },
    "papermill": {
     "duration": 0.023671,
     "end_time": "2022-09-16T22:56:59.667454",
     "exception": false,
     "start_time": "2022-09-16T22:56:59.643783",
     "status": "completed"
    },
    "tags": []
   },
   "outputs": [],
   "source": [
    "def process_data(df):\n",
    "    drop_id(df)\n",
    "    X = df.drop('Response' , 1)\n",
    "    y = df['Response']\n",
    "    X_res , y_res = sampling(X, y)\n",
    "    X_train , X_test , y_train , y_test = train_test_split(X_res , y_res, test_size = 0.2 , random_state = 42)\n",
    "    X_train = scaling(X_train)\n",
    "    X_test = scaling(X_test)\n",
    "    return X_train, X_test, y_train, y_test, X"
   ]
  },
  {
   "cell_type": "code",
   "execution_count": 8,
   "id": "2acb2526",
   "metadata": {
    "execution": {
     "iopub.execute_input": "2022-09-16T22:56:59.694969Z",
     "iopub.status.busy": "2022-09-16T22:56:59.694552Z",
     "iopub.status.idle": "2022-09-16T22:56:59.701920Z",
     "shell.execute_reply": "2022-09-16T22:56:59.700663Z"
    },
    "papermill": {
     "duration": 0.02418,
     "end_time": "2022-09-16T22:56:59.704472",
     "exception": false,
     "start_time": "2022-09-16T22:56:59.680292",
     "status": "completed"
    },
    "tags": []
   },
   "outputs": [],
   "source": [
    "time_dict = {}\n",
    "train_acc_dict = {}\n",
    "test_acc_dict = {}\n",
    "matrix = {}\n",
    "feature_imp_dict = {}\n",
    "\n",
    "def storing(train_acc , test_acc , time_taken , mat, product_name, feature_imp,y_test ,y_pred):\n",
    "    tn, fp, fn, tp = confusion_matrix(y_test ,y_pred).ravel()\n",
    "    time_dict[product_name] = time_taken\n",
    "    train_acc_dict[product_name] = train_acc\n",
    "    test_acc_dict[product_name] = test_acc\n",
    "    feature_imp_dict[product_name] = feature_imp\n",
    "    matrix[product_name] = [tn, fp, fn, tp]"
   ]
  },
  {
   "cell_type": "code",
   "execution_count": 9,
   "id": "979e3f24",
   "metadata": {
    "execution": {
     "iopub.execute_input": "2022-09-16T22:56:59.732932Z",
     "iopub.status.busy": "2022-09-16T22:56:59.731999Z",
     "iopub.status.idle": "2022-09-16T22:56:59.740999Z",
     "shell.execute_reply": "2022-09-16T22:56:59.739711Z"
    },
    "papermill": {
     "duration": 0.026246,
     "end_time": "2022-09-16T22:56:59.743617",
     "exception": false,
     "start_time": "2022-09-16T22:56:59.717371",
     "status": "completed"
    },
    "tags": []
   },
   "outputs": [],
   "source": [
    "def model_training(X_train, X_test, y_train , y_test, product_name):\n",
    "    model = lgb.LGBMClassifier()\n",
    "    start = time.time()\n",
    "    model.fit(X_train,y_train,eval_set=[(X_test,y_test),(X_train,y_train)],\n",
    "          verbose=20,eval_metric='logloss')\n",
    "    end = time.time()\n",
    "    time_taken = end - start\n",
    "    train_acc = model.score(X_train,y_train)\n",
    "    test_acc = model.score(X_test,y_test)\n",
    "    y_pred = model.predict(X_test)\n",
    "    mat = confusion_matrix(y_test, y_pred)\n",
    "    feature_imp = pd.DataFrame(sorted(zip(model.feature_importances_,X.columns)), columns=['Value','Feature'])\n",
    "    storing(train_acc , test_acc , time_taken , mat, product_name, feature_imp,y_test ,y_pred)"
   ]
  },
  {
   "cell_type": "code",
   "execution_count": 10,
   "id": "a0cdbd84",
   "metadata": {
    "execution": {
     "iopub.execute_input": "2022-09-16T22:56:59.771892Z",
     "iopub.status.busy": "2022-09-16T22:56:59.771437Z",
     "iopub.status.idle": "2022-09-16T23:07:20.346150Z",
     "shell.execute_reply": "2022-09-16T23:07:20.345015Z"
    },
    "papermill": {
     "duration": 620.592222,
     "end_time": "2022-09-16T23:07:20.348869",
     "exception": false,
     "start_time": "2022-09-16T22:56:59.756647",
     "status": "completed"
    },
    "tags": []
   },
   "outputs": [
    {
     "name": "stderr",
     "output_type": "stream",
     "text": [
      "/opt/conda/lib/python3.7/site-packages/ipykernel_launcher.py:2: FutureWarning: In a future version of pandas all arguments of DataFrame.drop except for the argument 'labels' will be keyword-only\n",
      "  \n",
      "/opt/conda/lib/python3.7/site-packages/ipykernel_launcher.py:3: FutureWarning: In a future version of pandas all arguments of DataFrame.drop except for the argument 'labels' will be keyword-only\n",
      "  This is separate from the ipykernel package so we can avoid doing imports until\n",
      "/opt/conda/lib/python3.7/site-packages/lightgbm/sklearn.py:736: UserWarning: 'verbose' argument is deprecated and will be removed in a future release of LightGBM. Pass 'log_evaluation()' callback via 'callbacks' argument instead.\n",
      "  _log_warning(\"'verbose' argument is deprecated and will be removed in a future release of LightGBM. \"\n"
     ]
    },
    {
     "name": "stdout",
     "output_type": "stream",
     "text": [
      "[20]\ttraining's binary_logloss: 0.0962363\tvalid_0's binary_logloss: 0.91169\n",
      "[40]\ttraining's binary_logloss: 0.0219729\tvalid_0's binary_logloss: 1.29115\n",
      "[60]\ttraining's binary_logloss: 0.00636066\tvalid_0's binary_logloss: 1.32271\n",
      "[80]\ttraining's binary_logloss: 0.00265392\tvalid_0's binary_logloss: 1.2513\n",
      "[100]\ttraining's binary_logloss: 0.00160508\tvalid_0's binary_logloss: 1.25618\n",
      "Done!product_1 \n",
      "\n"
     ]
    },
    {
     "name": "stderr",
     "output_type": "stream",
     "text": [
      "/opt/conda/lib/python3.7/site-packages/ipykernel_launcher.py:2: FutureWarning: In a future version of pandas all arguments of DataFrame.drop except for the argument 'labels' will be keyword-only\n",
      "  \n",
      "/opt/conda/lib/python3.7/site-packages/ipykernel_launcher.py:3: FutureWarning: In a future version of pandas all arguments of DataFrame.drop except for the argument 'labels' will be keyword-only\n",
      "  This is separate from the ipykernel package so we can avoid doing imports until\n",
      "/opt/conda/lib/python3.7/site-packages/lightgbm/sklearn.py:736: UserWarning: 'verbose' argument is deprecated and will be removed in a future release of LightGBM. Pass 'log_evaluation()' callback via 'callbacks' argument instead.\n",
      "  _log_warning(\"'verbose' argument is deprecated and will be removed in a future release of LightGBM. \"\n"
     ]
    },
    {
     "name": "stdout",
     "output_type": "stream",
     "text": [
      "[20]\ttraining's binary_logloss: 0.0979643\tvalid_0's binary_logloss: 1.13846\n",
      "[40]\ttraining's binary_logloss: 0.0210556\tvalid_0's binary_logloss: 1.32211\n",
      "[60]\ttraining's binary_logloss: 0.00631883\tvalid_0's binary_logloss: 1.24515\n",
      "[80]\ttraining's binary_logloss: 0.00290234\tvalid_0's binary_logloss: 0.976927\n",
      "[100]\ttraining's binary_logloss: 0.00197593\tvalid_0's binary_logloss: 0.76544\n",
      "Done!product_2 \n",
      "\n"
     ]
    },
    {
     "name": "stderr",
     "output_type": "stream",
     "text": [
      "/opt/conda/lib/python3.7/site-packages/ipykernel_launcher.py:2: FutureWarning: In a future version of pandas all arguments of DataFrame.drop except for the argument 'labels' will be keyword-only\n",
      "  \n",
      "/opt/conda/lib/python3.7/site-packages/ipykernel_launcher.py:3: FutureWarning: In a future version of pandas all arguments of DataFrame.drop except for the argument 'labels' will be keyword-only\n",
      "  This is separate from the ipykernel package so we can avoid doing imports until\n",
      "/opt/conda/lib/python3.7/site-packages/lightgbm/sklearn.py:736: UserWarning: 'verbose' argument is deprecated and will be removed in a future release of LightGBM. Pass 'log_evaluation()' callback via 'callbacks' argument instead.\n",
      "  _log_warning(\"'verbose' argument is deprecated and will be removed in a future release of LightGBM. \"\n"
     ]
    },
    {
     "name": "stdout",
     "output_type": "stream",
     "text": [
      "[20]\ttraining's binary_logloss: 0.107868\tvalid_0's binary_logloss: 0.631604\n",
      "[40]\ttraining's binary_logloss: 0.0256568\tvalid_0's binary_logloss: 0.666651\n",
      "[60]\ttraining's binary_logloss: 0.00758583\tvalid_0's binary_logloss: 0.67858\n",
      "[80]\ttraining's binary_logloss: 0.00290921\tvalid_0's binary_logloss: 0.604956\n",
      "[100]\ttraining's binary_logloss: 0.00159103\tvalid_0's binary_logloss: 0.540515\n",
      "Done!product_3 \n",
      "\n"
     ]
    },
    {
     "name": "stderr",
     "output_type": "stream",
     "text": [
      "/opt/conda/lib/python3.7/site-packages/ipykernel_launcher.py:2: FutureWarning: In a future version of pandas all arguments of DataFrame.drop except for the argument 'labels' will be keyword-only\n",
      "  \n",
      "/opt/conda/lib/python3.7/site-packages/ipykernel_launcher.py:3: FutureWarning: In a future version of pandas all arguments of DataFrame.drop except for the argument 'labels' will be keyword-only\n",
      "  This is separate from the ipykernel package so we can avoid doing imports until\n",
      "/opt/conda/lib/python3.7/site-packages/lightgbm/sklearn.py:736: UserWarning: 'verbose' argument is deprecated and will be removed in a future release of LightGBM. Pass 'log_evaluation()' callback via 'callbacks' argument instead.\n",
      "  _log_warning(\"'verbose' argument is deprecated and will be removed in a future release of LightGBM. \"\n"
     ]
    },
    {
     "name": "stdout",
     "output_type": "stream",
     "text": [
      "[20]\ttraining's binary_logloss: 0.106856\tvalid_0's binary_logloss: 1.13465\n",
      "[40]\ttraining's binary_logloss: 0.0249475\tvalid_0's binary_logloss: 1.22072\n",
      "[60]\ttraining's binary_logloss: 0.0080419\tvalid_0's binary_logloss: 1.32475\n",
      "[80]\ttraining's binary_logloss: 0.00372815\tvalid_0's binary_logloss: 1.52067\n",
      "[100]\ttraining's binary_logloss: 0.00253109\tvalid_0's binary_logloss: 1.62522\n",
      "Done!product_4 \n",
      "\n"
     ]
    },
    {
     "name": "stderr",
     "output_type": "stream",
     "text": [
      "/opt/conda/lib/python3.7/site-packages/ipykernel_launcher.py:2: FutureWarning: In a future version of pandas all arguments of DataFrame.drop except for the argument 'labels' will be keyword-only\n",
      "  \n",
      "/opt/conda/lib/python3.7/site-packages/ipykernel_launcher.py:3: FutureWarning: In a future version of pandas all arguments of DataFrame.drop except for the argument 'labels' will be keyword-only\n",
      "  This is separate from the ipykernel package so we can avoid doing imports until\n",
      "/opt/conda/lib/python3.7/site-packages/lightgbm/sklearn.py:736: UserWarning: 'verbose' argument is deprecated and will be removed in a future release of LightGBM. Pass 'log_evaluation()' callback via 'callbacks' argument instead.\n",
      "  _log_warning(\"'verbose' argument is deprecated and will be removed in a future release of LightGBM. \"\n"
     ]
    },
    {
     "name": "stdout",
     "output_type": "stream",
     "text": [
      "[20]\ttraining's binary_logloss: 0.102589\tvalid_0's binary_logloss: 0.688948\n",
      "[40]\ttraining's binary_logloss: 0.0248142\tvalid_0's binary_logloss: 0.589561\n",
      "[60]\ttraining's binary_logloss: 0.00738616\tvalid_0's binary_logloss: 0.620163\n",
      "[80]\ttraining's binary_logloss: 0.0032032\tvalid_0's binary_logloss: 0.565082\n",
      "[100]\ttraining's binary_logloss: 0.0020643\tvalid_0's binary_logloss: 0.535009\n",
      "Done!product_5 \n",
      "\n"
     ]
    },
    {
     "name": "stderr",
     "output_type": "stream",
     "text": [
      "/opt/conda/lib/python3.7/site-packages/ipykernel_launcher.py:2: FutureWarning: In a future version of pandas all arguments of DataFrame.drop except for the argument 'labels' will be keyword-only\n",
      "  \n",
      "/opt/conda/lib/python3.7/site-packages/ipykernel_launcher.py:3: FutureWarning: In a future version of pandas all arguments of DataFrame.drop except for the argument 'labels' will be keyword-only\n",
      "  This is separate from the ipykernel package so we can avoid doing imports until\n",
      "/opt/conda/lib/python3.7/site-packages/lightgbm/sklearn.py:736: UserWarning: 'verbose' argument is deprecated and will be removed in a future release of LightGBM. Pass 'log_evaluation()' callback via 'callbacks' argument instead.\n",
      "  _log_warning(\"'verbose' argument is deprecated and will be removed in a future release of LightGBM. \"\n"
     ]
    },
    {
     "name": "stdout",
     "output_type": "stream",
     "text": [
      "[20]\ttraining's binary_logloss: 0.112438\tvalid_0's binary_logloss: 0.484902\n",
      "[40]\ttraining's binary_logloss: 0.0286099\tvalid_0's binary_logloss: 0.445506\n",
      "[60]\ttraining's binary_logloss: 0.0087916\tvalid_0's binary_logloss: 0.466495\n",
      "[80]\ttraining's binary_logloss: 0.00377489\tvalid_0's binary_logloss: 0.46361\n",
      "[100]\ttraining's binary_logloss: 0.00229903\tvalid_0's binary_logloss: 0.457816\n",
      "Done!product_6 \n",
      "\n"
     ]
    },
    {
     "name": "stderr",
     "output_type": "stream",
     "text": [
      "/opt/conda/lib/python3.7/site-packages/ipykernel_launcher.py:2: FutureWarning: In a future version of pandas all arguments of DataFrame.drop except for the argument 'labels' will be keyword-only\n",
      "  \n",
      "/opt/conda/lib/python3.7/site-packages/ipykernel_launcher.py:3: FutureWarning: In a future version of pandas all arguments of DataFrame.drop except for the argument 'labels' will be keyword-only\n",
      "  This is separate from the ipykernel package so we can avoid doing imports until\n",
      "/opt/conda/lib/python3.7/site-packages/lightgbm/sklearn.py:736: UserWarning: 'verbose' argument is deprecated and will be removed in a future release of LightGBM. Pass 'log_evaluation()' callback via 'callbacks' argument instead.\n",
      "  _log_warning(\"'verbose' argument is deprecated and will be removed in a future release of LightGBM. \"\n"
     ]
    },
    {
     "name": "stdout",
     "output_type": "stream",
     "text": [
      "[20]\ttraining's binary_logloss: 0.0760673\tvalid_0's binary_logloss: 0.740309\n",
      "[40]\ttraining's binary_logloss: 0.0115353\tvalid_0's binary_logloss: 0.800993\n",
      "[60]\ttraining's binary_logloss: 0.00259031\tvalid_0's binary_logloss: 0.371773\n",
      "[80]\ttraining's binary_logloss: 0.0012527\tvalid_0's binary_logloss: 0.113575\n",
      "[100]\ttraining's binary_logloss: 0.00104791\tvalid_0's binary_logloss: 0.0507162\n",
      "Done!product_7 \n",
      "\n"
     ]
    },
    {
     "name": "stderr",
     "output_type": "stream",
     "text": [
      "/opt/conda/lib/python3.7/site-packages/ipykernel_launcher.py:2: FutureWarning: In a future version of pandas all arguments of DataFrame.drop except for the argument 'labels' will be keyword-only\n",
      "  \n",
      "/opt/conda/lib/python3.7/site-packages/ipykernel_launcher.py:3: FutureWarning: In a future version of pandas all arguments of DataFrame.drop except for the argument 'labels' will be keyword-only\n",
      "  This is separate from the ipykernel package so we can avoid doing imports until\n",
      "/opt/conda/lib/python3.7/site-packages/lightgbm/sklearn.py:736: UserWarning: 'verbose' argument is deprecated and will be removed in a future release of LightGBM. Pass 'log_evaluation()' callback via 'callbacks' argument instead.\n",
      "  _log_warning(\"'verbose' argument is deprecated and will be removed in a future release of LightGBM. \"\n"
     ]
    },
    {
     "name": "stdout",
     "output_type": "stream",
     "text": [
      "[20]\ttraining's binary_logloss: 0.112022\tvalid_0's binary_logloss: 0.252909\n",
      "[40]\ttraining's binary_logloss: 0.0258361\tvalid_0's binary_logloss: 0.206957\n",
      "[60]\ttraining's binary_logloss: 0.00747557\tvalid_0's binary_logloss: 0.198718\n",
      "[80]\ttraining's binary_logloss: 0.00289635\tvalid_0's binary_logloss: 0.198412\n",
      "[100]\ttraining's binary_logloss: 0.00163791\tvalid_0's binary_logloss: 0.166456\n",
      "Done!product_8 \n",
      "\n"
     ]
    },
    {
     "name": "stderr",
     "output_type": "stream",
     "text": [
      "/opt/conda/lib/python3.7/site-packages/ipykernel_launcher.py:2: FutureWarning: In a future version of pandas all arguments of DataFrame.drop except for the argument 'labels' will be keyword-only\n",
      "  \n",
      "/opt/conda/lib/python3.7/site-packages/ipykernel_launcher.py:3: FutureWarning: In a future version of pandas all arguments of DataFrame.drop except for the argument 'labels' will be keyword-only\n",
      "  This is separate from the ipykernel package so we can avoid doing imports until\n",
      "/opt/conda/lib/python3.7/site-packages/lightgbm/sklearn.py:736: UserWarning: 'verbose' argument is deprecated and will be removed in a future release of LightGBM. Pass 'log_evaluation()' callback via 'callbacks' argument instead.\n",
      "  _log_warning(\"'verbose' argument is deprecated and will be removed in a future release of LightGBM. \"\n"
     ]
    },
    {
     "name": "stdout",
     "output_type": "stream",
     "text": [
      "[20]\ttraining's binary_logloss: 0.0975037\tvalid_0's binary_logloss: 0.827551\n",
      "[40]\ttraining's binary_logloss: 0.0220095\tvalid_0's binary_logloss: 0.999249\n",
      "[60]\ttraining's binary_logloss: 0.00676269\tvalid_0's binary_logloss: 0.995629\n",
      "[80]\ttraining's binary_logloss: 0.00306573\tvalid_0's binary_logloss: 0.943401\n",
      "[100]\ttraining's binary_logloss: 0.00212539\tvalid_0's binary_logloss: 0.964527\n",
      "Done!product_9 \n",
      "\n"
     ]
    },
    {
     "name": "stderr",
     "output_type": "stream",
     "text": [
      "/opt/conda/lib/python3.7/site-packages/ipykernel_launcher.py:2: FutureWarning: In a future version of pandas all arguments of DataFrame.drop except for the argument 'labels' will be keyword-only\n",
      "  \n",
      "/opt/conda/lib/python3.7/site-packages/ipykernel_launcher.py:3: FutureWarning: In a future version of pandas all arguments of DataFrame.drop except for the argument 'labels' will be keyword-only\n",
      "  This is separate from the ipykernel package so we can avoid doing imports until\n",
      "/opt/conda/lib/python3.7/site-packages/lightgbm/sklearn.py:736: UserWarning: 'verbose' argument is deprecated and will be removed in a future release of LightGBM. Pass 'log_evaluation()' callback via 'callbacks' argument instead.\n",
      "  _log_warning(\"'verbose' argument is deprecated and will be removed in a future release of LightGBM. \"\n"
     ]
    },
    {
     "name": "stdout",
     "output_type": "stream",
     "text": [
      "[20]\ttraining's binary_logloss: 0.0782211\tvalid_0's binary_logloss: 0.549954\n",
      "[40]\ttraining's binary_logloss: 0.0127547\tvalid_0's binary_logloss: 0.235077\n",
      "[60]\ttraining's binary_logloss: 0.00336926\tvalid_0's binary_logloss: 0.10413\n",
      "[80]\ttraining's binary_logloss: 0.0019234\tvalid_0's binary_logloss: 0.0951815\n",
      "[100]\ttraining's binary_logloss: 0.00169561\tvalid_0's binary_logloss: 0.102332\n",
      "Done!product_10 \n",
      "\n"
     ]
    },
    {
     "name": "stderr",
     "output_type": "stream",
     "text": [
      "/opt/conda/lib/python3.7/site-packages/ipykernel_launcher.py:2: FutureWarning: In a future version of pandas all arguments of DataFrame.drop except for the argument 'labels' will be keyword-only\n",
      "  \n",
      "/opt/conda/lib/python3.7/site-packages/ipykernel_launcher.py:3: FutureWarning: In a future version of pandas all arguments of DataFrame.drop except for the argument 'labels' will be keyword-only\n",
      "  This is separate from the ipykernel package so we can avoid doing imports until\n",
      "/opt/conda/lib/python3.7/site-packages/lightgbm/sklearn.py:736: UserWarning: 'verbose' argument is deprecated and will be removed in a future release of LightGBM. Pass 'log_evaluation()' callback via 'callbacks' argument instead.\n",
      "  _log_warning(\"'verbose' argument is deprecated and will be removed in a future release of LightGBM. \"\n"
     ]
    },
    {
     "name": "stdout",
     "output_type": "stream",
     "text": [
      "[20]\ttraining's binary_logloss: 0.155546\tvalid_0's binary_logloss: 0.306174\n",
      "[40]\ttraining's binary_logloss: 0.0552329\tvalid_0's binary_logloss: 0.270665\n",
      "[60]\ttraining's binary_logloss: 0.0321791\tvalid_0's binary_logloss: 0.201509\n",
      "[80]\ttraining's binary_logloss: 0.0261436\tvalid_0's binary_logloss: 0.154754\n",
      "[100]\ttraining's binary_logloss: 0.0243016\tvalid_0's binary_logloss: 0.117678\n",
      "Done!product_11 \n",
      "\n"
     ]
    },
    {
     "name": "stderr",
     "output_type": "stream",
     "text": [
      "/opt/conda/lib/python3.7/site-packages/ipykernel_launcher.py:2: FutureWarning: In a future version of pandas all arguments of DataFrame.drop except for the argument 'labels' will be keyword-only\n",
      "  \n",
      "/opt/conda/lib/python3.7/site-packages/ipykernel_launcher.py:3: FutureWarning: In a future version of pandas all arguments of DataFrame.drop except for the argument 'labels' will be keyword-only\n",
      "  This is separate from the ipykernel package so we can avoid doing imports until\n",
      "/opt/conda/lib/python3.7/site-packages/lightgbm/sklearn.py:736: UserWarning: 'verbose' argument is deprecated and will be removed in a future release of LightGBM. Pass 'log_evaluation()' callback via 'callbacks' argument instead.\n",
      "  _log_warning(\"'verbose' argument is deprecated and will be removed in a future release of LightGBM. \"\n"
     ]
    },
    {
     "name": "stdout",
     "output_type": "stream",
     "text": [
      "[20]\ttraining's binary_logloss: 0.117765\tvalid_0's binary_logloss: 1.1797\n",
      "[40]\ttraining's binary_logloss: 0.0367438\tvalid_0's binary_logloss: 1.71075\n",
      "[60]\ttraining's binary_logloss: 0.0148213\tvalid_0's binary_logloss: 1.97625\n",
      "[80]\ttraining's binary_logloss: 0.00759922\tvalid_0's binary_logloss: 1.99269\n",
      "[100]\ttraining's binary_logloss: 0.00476912\tvalid_0's binary_logloss: 1.92196\n",
      "Done!product_12 \n",
      "\n"
     ]
    },
    {
     "name": "stderr",
     "output_type": "stream",
     "text": [
      "/opt/conda/lib/python3.7/site-packages/ipykernel_launcher.py:2: FutureWarning: In a future version of pandas all arguments of DataFrame.drop except for the argument 'labels' will be keyword-only\n",
      "  \n",
      "/opt/conda/lib/python3.7/site-packages/ipykernel_launcher.py:3: FutureWarning: In a future version of pandas all arguments of DataFrame.drop except for the argument 'labels' will be keyword-only\n",
      "  This is separate from the ipykernel package so we can avoid doing imports until\n",
      "/opt/conda/lib/python3.7/site-packages/lightgbm/sklearn.py:736: UserWarning: 'verbose' argument is deprecated and will be removed in a future release of LightGBM. Pass 'log_evaluation()' callback via 'callbacks' argument instead.\n",
      "  _log_warning(\"'verbose' argument is deprecated and will be removed in a future release of LightGBM. \"\n"
     ]
    },
    {
     "name": "stdout",
     "output_type": "stream",
     "text": [
      "[20]\ttraining's binary_logloss: 0.103102\tvalid_0's binary_logloss: 1.07595\n",
      "[40]\ttraining's binary_logloss: 0.0241685\tvalid_0's binary_logloss: 1.13921\n",
      "[60]\ttraining's binary_logloss: 0.00700002\tvalid_0's binary_logloss: 1.19441\n",
      "[80]\ttraining's binary_logloss: 0.00274721\tvalid_0's binary_logloss: 1.12721\n",
      "[100]\ttraining's binary_logloss: 0.00156715\tvalid_0's binary_logloss: 1.27708\n",
      "Done!product_13 \n",
      "\n"
     ]
    },
    {
     "name": "stderr",
     "output_type": "stream",
     "text": [
      "/opt/conda/lib/python3.7/site-packages/ipykernel_launcher.py:2: FutureWarning: In a future version of pandas all arguments of DataFrame.drop except for the argument 'labels' will be keyword-only\n",
      "  \n",
      "/opt/conda/lib/python3.7/site-packages/ipykernel_launcher.py:3: FutureWarning: In a future version of pandas all arguments of DataFrame.drop except for the argument 'labels' will be keyword-only\n",
      "  This is separate from the ipykernel package so we can avoid doing imports until\n",
      "/opt/conda/lib/python3.7/site-packages/lightgbm/sklearn.py:736: UserWarning: 'verbose' argument is deprecated and will be removed in a future release of LightGBM. Pass 'log_evaluation()' callback via 'callbacks' argument instead.\n",
      "  _log_warning(\"'verbose' argument is deprecated and will be removed in a future release of LightGBM. \"\n"
     ]
    },
    {
     "name": "stdout",
     "output_type": "stream",
     "text": [
      "[20]\ttraining's binary_logloss: 0.129298\tvalid_0's binary_logloss: 0.878221\n",
      "[40]\ttraining's binary_logloss: 0.0401268\tvalid_0's binary_logloss: 0.972918\n",
      "[60]\ttraining's binary_logloss: 0.016151\tvalid_0's binary_logloss: 1.05337\n",
      "[80]\ttraining's binary_logloss: 0.0079311\tvalid_0's binary_logloss: 1.04991\n",
      "[100]\ttraining's binary_logloss: 0.00466442\tvalid_0's binary_logloss: 0.988541\n",
      "Done!product_14 \n",
      "\n"
     ]
    },
    {
     "name": "stderr",
     "output_type": "stream",
     "text": [
      "/opt/conda/lib/python3.7/site-packages/ipykernel_launcher.py:2: FutureWarning: In a future version of pandas all arguments of DataFrame.drop except for the argument 'labels' will be keyword-only\n",
      "  \n",
      "/opt/conda/lib/python3.7/site-packages/ipykernel_launcher.py:3: FutureWarning: In a future version of pandas all arguments of DataFrame.drop except for the argument 'labels' will be keyword-only\n",
      "  This is separate from the ipykernel package so we can avoid doing imports until\n",
      "/opt/conda/lib/python3.7/site-packages/lightgbm/sklearn.py:736: UserWarning: 'verbose' argument is deprecated and will be removed in a future release of LightGBM. Pass 'log_evaluation()' callback via 'callbacks' argument instead.\n",
      "  _log_warning(\"'verbose' argument is deprecated and will be removed in a future release of LightGBM. \"\n"
     ]
    },
    {
     "name": "stdout",
     "output_type": "stream",
     "text": [
      "[20]\ttraining's binary_logloss: 0.0915168\tvalid_0's binary_logloss: 0.938633\n",
      "[40]\ttraining's binary_logloss: 0.0189529\tvalid_0's binary_logloss: 0.964132\n",
      "[60]\ttraining's binary_logloss: 0.00504229\tvalid_0's binary_logloss: 0.910288\n",
      "[80]\ttraining's binary_logloss: 0.00188829\tvalid_0's binary_logloss: 0.815771\n",
      "[100]\ttraining's binary_logloss: 0.0010931\tvalid_0's binary_logloss: 0.716311\n",
      "Done!product_15 \n",
      "\n"
     ]
    },
    {
     "name": "stderr",
     "output_type": "stream",
     "text": [
      "/opt/conda/lib/python3.7/site-packages/ipykernel_launcher.py:2: FutureWarning: In a future version of pandas all arguments of DataFrame.drop except for the argument 'labels' will be keyword-only\n",
      "  \n",
      "/opt/conda/lib/python3.7/site-packages/ipykernel_launcher.py:3: FutureWarning: In a future version of pandas all arguments of DataFrame.drop except for the argument 'labels' will be keyword-only\n",
      "  This is separate from the ipykernel package so we can avoid doing imports until\n",
      "/opt/conda/lib/python3.7/site-packages/lightgbm/sklearn.py:736: UserWarning: 'verbose' argument is deprecated and will be removed in a future release of LightGBM. Pass 'log_evaluation()' callback via 'callbacks' argument instead.\n",
      "  _log_warning(\"'verbose' argument is deprecated and will be removed in a future release of LightGBM. \"\n"
     ]
    },
    {
     "name": "stdout",
     "output_type": "stream",
     "text": [
      "[20]\ttraining's binary_logloss: 0.0725504\tvalid_0's binary_logloss: 0.976703\n",
      "[40]\ttraining's binary_logloss: 0.0107228\tvalid_0's binary_logloss: 1.60841\n",
      "[60]\ttraining's binary_logloss: 0.0018906\tvalid_0's binary_logloss: 2.27532\n",
      "[80]\ttraining's binary_logloss: 0.000611093\tvalid_0's binary_logloss: 2.14413\n",
      "[100]\ttraining's binary_logloss: 0.000410577\tvalid_0's binary_logloss: 1.73867\n",
      "Done!product_16 \n",
      "\n"
     ]
    },
    {
     "name": "stderr",
     "output_type": "stream",
     "text": [
      "/opt/conda/lib/python3.7/site-packages/ipykernel_launcher.py:2: FutureWarning: In a future version of pandas all arguments of DataFrame.drop except for the argument 'labels' will be keyword-only\n",
      "  \n",
      "/opt/conda/lib/python3.7/site-packages/ipykernel_launcher.py:3: FutureWarning: In a future version of pandas all arguments of DataFrame.drop except for the argument 'labels' will be keyword-only\n",
      "  This is separate from the ipykernel package so we can avoid doing imports until\n",
      "/opt/conda/lib/python3.7/site-packages/lightgbm/sklearn.py:736: UserWarning: 'verbose' argument is deprecated and will be removed in a future release of LightGBM. Pass 'log_evaluation()' callback via 'callbacks' argument instead.\n",
      "  _log_warning(\"'verbose' argument is deprecated and will be removed in a future release of LightGBM. \"\n"
     ]
    },
    {
     "name": "stdout",
     "output_type": "stream",
     "text": [
      "[20]\ttraining's binary_logloss: 0.117318\tvalid_0's binary_logloss: 1.14738\n",
      "[40]\ttraining's binary_logloss: 0.0307528\tvalid_0's binary_logloss: 1.30518\n",
      "[60]\ttraining's binary_logloss: 0.0096955\tvalid_0's binary_logloss: 1.35447\n",
      "[80]\ttraining's binary_logloss: 0.00382626\tvalid_0's binary_logloss: 1.58024\n",
      "[100]\ttraining's binary_logloss: 0.00215863\tvalid_0's binary_logloss: 1.75437\n",
      "Done!product_17 \n",
      "\n"
     ]
    },
    {
     "name": "stderr",
     "output_type": "stream",
     "text": [
      "/opt/conda/lib/python3.7/site-packages/ipykernel_launcher.py:2: FutureWarning: In a future version of pandas all arguments of DataFrame.drop except for the argument 'labels' will be keyword-only\n",
      "  \n",
      "/opt/conda/lib/python3.7/site-packages/ipykernel_launcher.py:3: FutureWarning: In a future version of pandas all arguments of DataFrame.drop except for the argument 'labels' will be keyword-only\n",
      "  This is separate from the ipykernel package so we can avoid doing imports until\n",
      "/opt/conda/lib/python3.7/site-packages/lightgbm/sklearn.py:736: UserWarning: 'verbose' argument is deprecated and will be removed in a future release of LightGBM. Pass 'log_evaluation()' callback via 'callbacks' argument instead.\n",
      "  _log_warning(\"'verbose' argument is deprecated and will be removed in a future release of LightGBM. \"\n"
     ]
    },
    {
     "name": "stdout",
     "output_type": "stream",
     "text": [
      "[20]\ttraining's binary_logloss: 0.109529\tvalid_0's binary_logloss: 0.713298\n",
      "[40]\ttraining's binary_logloss: 0.0262807\tvalid_0's binary_logloss: 0.620851\n",
      "[60]\ttraining's binary_logloss: 0.00831075\tvalid_0's binary_logloss: 0.750168\n",
      "[80]\ttraining's binary_logloss: 0.003677\tvalid_0's binary_logloss: 0.656497\n",
      "[100]\ttraining's binary_logloss: 0.0022886\tvalid_0's binary_logloss: 0.576003\n",
      "Done!product_18 \n",
      "\n"
     ]
    },
    {
     "name": "stderr",
     "output_type": "stream",
     "text": [
      "/opt/conda/lib/python3.7/site-packages/ipykernel_launcher.py:2: FutureWarning: In a future version of pandas all arguments of DataFrame.drop except for the argument 'labels' will be keyword-only\n",
      "  \n",
      "/opt/conda/lib/python3.7/site-packages/ipykernel_launcher.py:3: FutureWarning: In a future version of pandas all arguments of DataFrame.drop except for the argument 'labels' will be keyword-only\n",
      "  This is separate from the ipykernel package so we can avoid doing imports until\n",
      "/opt/conda/lib/python3.7/site-packages/lightgbm/sklearn.py:736: UserWarning: 'verbose' argument is deprecated and will be removed in a future release of LightGBM. Pass 'log_evaluation()' callback via 'callbacks' argument instead.\n",
      "  _log_warning(\"'verbose' argument is deprecated and will be removed in a future release of LightGBM. \"\n"
     ]
    },
    {
     "name": "stdout",
     "output_type": "stream",
     "text": [
      "[20]\ttraining's binary_logloss: 0.115214\tvalid_0's binary_logloss: 0.322956\n",
      "[40]\ttraining's binary_logloss: 0.0292433\tvalid_0's binary_logloss: 0.257191\n",
      "[60]\ttraining's binary_logloss: 0.00938782\tvalid_0's binary_logloss: 0.271896\n",
      "[80]\ttraining's binary_logloss: 0.00415065\tvalid_0's binary_logloss: 0.259953\n",
      "[100]\ttraining's binary_logloss: 0.00265699\tvalid_0's binary_logloss: 0.212102\n",
      "Done!product_19 \n",
      "\n"
     ]
    },
    {
     "name": "stderr",
     "output_type": "stream",
     "text": [
      "/opt/conda/lib/python3.7/site-packages/ipykernel_launcher.py:2: FutureWarning: In a future version of pandas all arguments of DataFrame.drop except for the argument 'labels' will be keyword-only\n",
      "  \n",
      "/opt/conda/lib/python3.7/site-packages/ipykernel_launcher.py:3: FutureWarning: In a future version of pandas all arguments of DataFrame.drop except for the argument 'labels' will be keyword-only\n",
      "  This is separate from the ipykernel package so we can avoid doing imports until\n",
      "/opt/conda/lib/python3.7/site-packages/lightgbm/sklearn.py:736: UserWarning: 'verbose' argument is deprecated and will be removed in a future release of LightGBM. Pass 'log_evaluation()' callback via 'callbacks' argument instead.\n",
      "  _log_warning(\"'verbose' argument is deprecated and will be removed in a future release of LightGBM. \"\n"
     ]
    },
    {
     "name": "stdout",
     "output_type": "stream",
     "text": [
      "[20]\ttraining's binary_logloss: 0.0804453\tvalid_0's binary_logloss: 0.141301\n",
      "[40]\ttraining's binary_logloss: 0.0151156\tvalid_0's binary_logloss: 0.0372272\n",
      "[60]\ttraining's binary_logloss: 0.0059976\tvalid_0's binary_logloss: 0.0230673\n",
      "[80]\ttraining's binary_logloss: 0.00460047\tvalid_0's binary_logloss: 0.0225744\n",
      "[100]\ttraining's binary_logloss: 0.00438395\tvalid_0's binary_logloss: 0.0186742\n",
      "Done!product_20 \n",
      "\n"
     ]
    },
    {
     "name": "stderr",
     "output_type": "stream",
     "text": [
      "/opt/conda/lib/python3.7/site-packages/ipykernel_launcher.py:2: FutureWarning: In a future version of pandas all arguments of DataFrame.drop except for the argument 'labels' will be keyword-only\n",
      "  \n",
      "/opt/conda/lib/python3.7/site-packages/ipykernel_launcher.py:3: FutureWarning: In a future version of pandas all arguments of DataFrame.drop except for the argument 'labels' will be keyword-only\n",
      "  This is separate from the ipykernel package so we can avoid doing imports until\n",
      "/opt/conda/lib/python3.7/site-packages/lightgbm/sklearn.py:736: UserWarning: 'verbose' argument is deprecated and will be removed in a future release of LightGBM. Pass 'log_evaluation()' callback via 'callbacks' argument instead.\n",
      "  _log_warning(\"'verbose' argument is deprecated and will be removed in a future release of LightGBM. \"\n"
     ]
    },
    {
     "name": "stdout",
     "output_type": "stream",
     "text": [
      "[20]\ttraining's binary_logloss: 0.116407\tvalid_0's binary_logloss: 0.858194\n",
      "[40]\ttraining's binary_logloss: 0.030296\tvalid_0's binary_logloss: 1.0314\n",
      "[60]\ttraining's binary_logloss: 0.00984681\tvalid_0's binary_logloss: 1.18261\n",
      "[80]\ttraining's binary_logloss: 0.00415949\tvalid_0's binary_logloss: 1.26198\n",
      "[100]\ttraining's binary_logloss: 0.00240966\tvalid_0's binary_logloss: 1.26358\n",
      "Done!product_21 \n",
      "\n"
     ]
    },
    {
     "name": "stderr",
     "output_type": "stream",
     "text": [
      "/opt/conda/lib/python3.7/site-packages/ipykernel_launcher.py:2: FutureWarning: In a future version of pandas all arguments of DataFrame.drop except for the argument 'labels' will be keyword-only\n",
      "  \n",
      "/opt/conda/lib/python3.7/site-packages/ipykernel_launcher.py:3: FutureWarning: In a future version of pandas all arguments of DataFrame.drop except for the argument 'labels' will be keyword-only\n",
      "  This is separate from the ipykernel package so we can avoid doing imports until\n",
      "/opt/conda/lib/python3.7/site-packages/lightgbm/sklearn.py:736: UserWarning: 'verbose' argument is deprecated and will be removed in a future release of LightGBM. Pass 'log_evaluation()' callback via 'callbacks' argument instead.\n",
      "  _log_warning(\"'verbose' argument is deprecated and will be removed in a future release of LightGBM. \"\n"
     ]
    },
    {
     "name": "stdout",
     "output_type": "stream",
     "text": [
      "[20]\ttraining's binary_logloss: 0.110564\tvalid_0's binary_logloss: 0.787732\n",
      "[40]\ttraining's binary_logloss: 0.0269388\tvalid_0's binary_logloss: 1.076\n",
      "[60]\ttraining's binary_logloss: 0.00840261\tvalid_0's binary_logloss: 1.19169\n",
      "[80]\ttraining's binary_logloss: 0.00346412\tvalid_0's binary_logloss: 1.27844\n",
      "[100]\ttraining's binary_logloss: 0.00203257\tvalid_0's binary_logloss: 1.33295\n",
      "Done!product_22 \n",
      "\n"
     ]
    },
    {
     "name": "stderr",
     "output_type": "stream",
     "text": [
      "/opt/conda/lib/python3.7/site-packages/ipykernel_launcher.py:2: FutureWarning: In a future version of pandas all arguments of DataFrame.drop except for the argument 'labels' will be keyword-only\n",
      "  \n",
      "/opt/conda/lib/python3.7/site-packages/ipykernel_launcher.py:3: FutureWarning: In a future version of pandas all arguments of DataFrame.drop except for the argument 'labels' will be keyword-only\n",
      "  This is separate from the ipykernel package so we can avoid doing imports until\n",
      "/opt/conda/lib/python3.7/site-packages/lightgbm/sklearn.py:736: UserWarning: 'verbose' argument is deprecated and will be removed in a future release of LightGBM. Pass 'log_evaluation()' callback via 'callbacks' argument instead.\n",
      "  _log_warning(\"'verbose' argument is deprecated and will be removed in a future release of LightGBM. \"\n"
     ]
    },
    {
     "name": "stdout",
     "output_type": "stream",
     "text": [
      "[20]\ttraining's binary_logloss: 0.0841766\tvalid_0's binary_logloss: 0.407095\n",
      "[40]\ttraining's binary_logloss: 0.0144686\tvalid_0's binary_logloss: 0.525107\n",
      "[60]\ttraining's binary_logloss: 0.00328829\tvalid_0's binary_logloss: 0.464057\n",
      "[80]\ttraining's binary_logloss: 0.00124534\tvalid_0's binary_logloss: 0.377311\n",
      "[100]\ttraining's binary_logloss: 0.000850653\tvalid_0's binary_logloss: 0.293457\n",
      "Done!product_23 \n",
      "\n"
     ]
    },
    {
     "name": "stderr",
     "output_type": "stream",
     "text": [
      "/opt/conda/lib/python3.7/site-packages/ipykernel_launcher.py:2: FutureWarning: In a future version of pandas all arguments of DataFrame.drop except for the argument 'labels' will be keyword-only\n",
      "  \n",
      "/opt/conda/lib/python3.7/site-packages/ipykernel_launcher.py:3: FutureWarning: In a future version of pandas all arguments of DataFrame.drop except for the argument 'labels' will be keyword-only\n",
      "  This is separate from the ipykernel package so we can avoid doing imports until\n",
      "/opt/conda/lib/python3.7/site-packages/lightgbm/sklearn.py:736: UserWarning: 'verbose' argument is deprecated and will be removed in a future release of LightGBM. Pass 'log_evaluation()' callback via 'callbacks' argument instead.\n",
      "  _log_warning(\"'verbose' argument is deprecated and will be removed in a future release of LightGBM. \"\n"
     ]
    },
    {
     "name": "stdout",
     "output_type": "stream",
     "text": [
      "[20]\ttraining's binary_logloss: 0.0990833\tvalid_0's binary_logloss: 0.559855\n",
      "[40]\ttraining's binary_logloss: 0.0218078\tvalid_0's binary_logloss: 0.583944\n",
      "[60]\ttraining's binary_logloss: 0.00624402\tvalid_0's binary_logloss: 0.699982\n",
      "[80]\ttraining's binary_logloss: 0.00260145\tvalid_0's binary_logloss: 0.859679\n",
      "[100]\ttraining's binary_logloss: 0.00172549\tvalid_0's binary_logloss: 0.949095\n",
      "Done!product_24 \n",
      "\n"
     ]
    },
    {
     "name": "stderr",
     "output_type": "stream",
     "text": [
      "/opt/conda/lib/python3.7/site-packages/ipykernel_launcher.py:2: FutureWarning: In a future version of pandas all arguments of DataFrame.drop except for the argument 'labels' will be keyword-only\n",
      "  \n",
      "/opt/conda/lib/python3.7/site-packages/ipykernel_launcher.py:3: FutureWarning: In a future version of pandas all arguments of DataFrame.drop except for the argument 'labels' will be keyword-only\n",
      "  This is separate from the ipykernel package so we can avoid doing imports until\n",
      "/opt/conda/lib/python3.7/site-packages/lightgbm/sklearn.py:736: UserWarning: 'verbose' argument is deprecated and will be removed in a future release of LightGBM. Pass 'log_evaluation()' callback via 'callbacks' argument instead.\n",
      "  _log_warning(\"'verbose' argument is deprecated and will be removed in a future release of LightGBM. \"\n"
     ]
    },
    {
     "name": "stdout",
     "output_type": "stream",
     "text": [
      "[20]\ttraining's binary_logloss: 0.10762\tvalid_0's binary_logloss: 0.678706\n",
      "[40]\ttraining's binary_logloss: 0.0241148\tvalid_0's binary_logloss: 0.837193\n",
      "[60]\ttraining's binary_logloss: 0.00714465\tvalid_0's binary_logloss: 1.20514\n",
      "[80]\ttraining's binary_logloss: 0.00278847\tvalid_0's binary_logloss: 1.40875\n",
      "[100]\ttraining's binary_logloss: 0.00166295\tvalid_0's binary_logloss: 1.72452\n",
      "Done!product_25 \n",
      "\n"
     ]
    },
    {
     "name": "stderr",
     "output_type": "stream",
     "text": [
      "/opt/conda/lib/python3.7/site-packages/ipykernel_launcher.py:2: FutureWarning: In a future version of pandas all arguments of DataFrame.drop except for the argument 'labels' will be keyword-only\n",
      "  \n",
      "/opt/conda/lib/python3.7/site-packages/ipykernel_launcher.py:3: FutureWarning: In a future version of pandas all arguments of DataFrame.drop except for the argument 'labels' will be keyword-only\n",
      "  This is separate from the ipykernel package so we can avoid doing imports until\n",
      "/opt/conda/lib/python3.7/site-packages/lightgbm/sklearn.py:736: UserWarning: 'verbose' argument is deprecated and will be removed in a future release of LightGBM. Pass 'log_evaluation()' callback via 'callbacks' argument instead.\n",
      "  _log_warning(\"'verbose' argument is deprecated and will be removed in a future release of LightGBM. \"\n"
     ]
    },
    {
     "name": "stdout",
     "output_type": "stream",
     "text": [
      "[20]\ttraining's binary_logloss: 0.120947\tvalid_0's binary_logloss: 0.921079\n",
      "[40]\ttraining's binary_logloss: 0.030133\tvalid_0's binary_logloss: 1.00487\n",
      "[60]\ttraining's binary_logloss: 0.0092182\tvalid_0's binary_logloss: 0.969678\n",
      "[80]\ttraining's binary_logloss: 0.00351978\tvalid_0's binary_logloss: 1.016\n",
      "[100]\ttraining's binary_logloss: 0.00171119\tvalid_0's binary_logloss: 1.00124\n",
      "Done!product_26 \n",
      "\n"
     ]
    },
    {
     "name": "stderr",
     "output_type": "stream",
     "text": [
      "/opt/conda/lib/python3.7/site-packages/ipykernel_launcher.py:2: FutureWarning: In a future version of pandas all arguments of DataFrame.drop except for the argument 'labels' will be keyword-only\n",
      "  \n",
      "/opt/conda/lib/python3.7/site-packages/ipykernel_launcher.py:3: FutureWarning: In a future version of pandas all arguments of DataFrame.drop except for the argument 'labels' will be keyword-only\n",
      "  This is separate from the ipykernel package so we can avoid doing imports until\n",
      "/opt/conda/lib/python3.7/site-packages/lightgbm/sklearn.py:736: UserWarning: 'verbose' argument is deprecated and will be removed in a future release of LightGBM. Pass 'log_evaluation()' callback via 'callbacks' argument instead.\n",
      "  _log_warning(\"'verbose' argument is deprecated and will be removed in a future release of LightGBM. \"\n"
     ]
    },
    {
     "name": "stdout",
     "output_type": "stream",
     "text": [
      "[20]\ttraining's binary_logloss: 0.12608\tvalid_0's binary_logloss: 0.372928\n",
      "[40]\ttraining's binary_logloss: 0.0311903\tvalid_0's binary_logloss: 0.322407\n",
      "[60]\ttraining's binary_logloss: 0.00900994\tvalid_0's binary_logloss: 0.358131\n",
      "[80]\ttraining's binary_logloss: 0.00345831\tvalid_0's binary_logloss: 0.382007\n",
      "[100]\ttraining's binary_logloss: 0.00178473\tvalid_0's binary_logloss: 0.329379\n",
      "Done!product_27 \n",
      "\n"
     ]
    },
    {
     "name": "stderr",
     "output_type": "stream",
     "text": [
      "/opt/conda/lib/python3.7/site-packages/ipykernel_launcher.py:2: FutureWarning: In a future version of pandas all arguments of DataFrame.drop except for the argument 'labels' will be keyword-only\n",
      "  \n",
      "/opt/conda/lib/python3.7/site-packages/ipykernel_launcher.py:3: FutureWarning: In a future version of pandas all arguments of DataFrame.drop except for the argument 'labels' will be keyword-only\n",
      "  This is separate from the ipykernel package so we can avoid doing imports until\n",
      "/opt/conda/lib/python3.7/site-packages/lightgbm/sklearn.py:736: UserWarning: 'verbose' argument is deprecated and will be removed in a future release of LightGBM. Pass 'log_evaluation()' callback via 'callbacks' argument instead.\n",
      "  _log_warning(\"'verbose' argument is deprecated and will be removed in a future release of LightGBM. \"\n"
     ]
    },
    {
     "name": "stdout",
     "output_type": "stream",
     "text": [
      "[20]\ttraining's binary_logloss: 0.11198\tvalid_0's binary_logloss: 0.446811\n",
      "[40]\ttraining's binary_logloss: 0.0257804\tvalid_0's binary_logloss: 0.446321\n",
      "[60]\ttraining's binary_logloss: 0.00737467\tvalid_0's binary_logloss: 0.485093\n",
      "[80]\ttraining's binary_logloss: 0.00277723\tvalid_0's binary_logloss: 0.451813\n",
      "[100]\ttraining's binary_logloss: 0.00156324\tvalid_0's binary_logloss: 0.366294\n",
      "Done!product_28 \n",
      "\n"
     ]
    },
    {
     "name": "stderr",
     "output_type": "stream",
     "text": [
      "/opt/conda/lib/python3.7/site-packages/ipykernel_launcher.py:2: FutureWarning: In a future version of pandas all arguments of DataFrame.drop except for the argument 'labels' will be keyword-only\n",
      "  \n",
      "/opt/conda/lib/python3.7/site-packages/ipykernel_launcher.py:3: FutureWarning: In a future version of pandas all arguments of DataFrame.drop except for the argument 'labels' will be keyword-only\n",
      "  This is separate from the ipykernel package so we can avoid doing imports until\n",
      "/opt/conda/lib/python3.7/site-packages/lightgbm/sklearn.py:736: UserWarning: 'verbose' argument is deprecated and will be removed in a future release of LightGBM. Pass 'log_evaluation()' callback via 'callbacks' argument instead.\n",
      "  _log_warning(\"'verbose' argument is deprecated and will be removed in a future release of LightGBM. \"\n"
     ]
    },
    {
     "name": "stdout",
     "output_type": "stream",
     "text": [
      "[20]\ttraining's binary_logloss: 0.0762859\tvalid_0's binary_logloss: 0.710916\n",
      "[40]\ttraining's binary_logloss: 0.0118386\tvalid_0's binary_logloss: 0.475101\n",
      "[60]\ttraining's binary_logloss: 0.00276195\tvalid_0's binary_logloss: 0.43523\n",
      "[80]\ttraining's binary_logloss: 0.00137644\tvalid_0's binary_logloss: 0.276419\n",
      "[100]\ttraining's binary_logloss: 0.00114705\tvalid_0's binary_logloss: 0.192333\n",
      "Done!product_29 \n",
      "\n"
     ]
    },
    {
     "name": "stderr",
     "output_type": "stream",
     "text": [
      "/opt/conda/lib/python3.7/site-packages/ipykernel_launcher.py:2: FutureWarning: In a future version of pandas all arguments of DataFrame.drop except for the argument 'labels' will be keyword-only\n",
      "  \n",
      "/opt/conda/lib/python3.7/site-packages/ipykernel_launcher.py:3: FutureWarning: In a future version of pandas all arguments of DataFrame.drop except for the argument 'labels' will be keyword-only\n",
      "  This is separate from the ipykernel package so we can avoid doing imports until\n",
      "/opt/conda/lib/python3.7/site-packages/lightgbm/sklearn.py:736: UserWarning: 'verbose' argument is deprecated and will be removed in a future release of LightGBM. Pass 'log_evaluation()' callback via 'callbacks' argument instead.\n",
      "  _log_warning(\"'verbose' argument is deprecated and will be removed in a future release of LightGBM. \"\n"
     ]
    },
    {
     "name": "stdout",
     "output_type": "stream",
     "text": [
      "[20]\ttraining's binary_logloss: 0.110162\tvalid_0's binary_logloss: 0.822146\n",
      "[40]\ttraining's binary_logloss: 0.0248813\tvalid_0's binary_logloss: 0.909055\n",
      "[60]\ttraining's binary_logloss: 0.00704319\tvalid_0's binary_logloss: 0.858705\n",
      "[80]\ttraining's binary_logloss: 0.00257368\tvalid_0's binary_logloss: 0.88436\n",
      "[100]\ttraining's binary_logloss: 0.00137163\tvalid_0's binary_logloss: 0.781363\n",
      "Done!product_30 \n",
      "\n"
     ]
    },
    {
     "name": "stderr",
     "output_type": "stream",
     "text": [
      "/opt/conda/lib/python3.7/site-packages/ipykernel_launcher.py:2: FutureWarning: In a future version of pandas all arguments of DataFrame.drop except for the argument 'labels' will be keyword-only\n",
      "  \n",
      "/opt/conda/lib/python3.7/site-packages/ipykernel_launcher.py:3: FutureWarning: In a future version of pandas all arguments of DataFrame.drop except for the argument 'labels' will be keyword-only\n",
      "  This is separate from the ipykernel package so we can avoid doing imports until\n",
      "/opt/conda/lib/python3.7/site-packages/lightgbm/sklearn.py:736: UserWarning: 'verbose' argument is deprecated and will be removed in a future release of LightGBM. Pass 'log_evaluation()' callback via 'callbacks' argument instead.\n",
      "  _log_warning(\"'verbose' argument is deprecated and will be removed in a future release of LightGBM. \"\n"
     ]
    },
    {
     "name": "stdout",
     "output_type": "stream",
     "text": [
      "[20]\ttraining's binary_logloss: 0.0899592\tvalid_0's binary_logloss: 0.314889\n",
      "[40]\ttraining's binary_logloss: 0.0163695\tvalid_0's binary_logloss: 0.269642\n",
      "[60]\ttraining's binary_logloss: 0.00356251\tvalid_0's binary_logloss: 0.303429\n",
      "[80]\ttraining's binary_logloss: 0.00114598\tvalid_0's binary_logloss: 0.247722\n",
      "[100]\ttraining's binary_logloss: 0.000636951\tvalid_0's binary_logloss: 0.154196\n",
      "Done!product_31 \n",
      "\n"
     ]
    },
    {
     "name": "stderr",
     "output_type": "stream",
     "text": [
      "/opt/conda/lib/python3.7/site-packages/ipykernel_launcher.py:2: FutureWarning: In a future version of pandas all arguments of DataFrame.drop except for the argument 'labels' will be keyword-only\n",
      "  \n",
      "/opt/conda/lib/python3.7/site-packages/ipykernel_launcher.py:3: FutureWarning: In a future version of pandas all arguments of DataFrame.drop except for the argument 'labels' will be keyword-only\n",
      "  This is separate from the ipykernel package so we can avoid doing imports until\n",
      "/opt/conda/lib/python3.7/site-packages/lightgbm/sklearn.py:736: UserWarning: 'verbose' argument is deprecated and will be removed in a future release of LightGBM. Pass 'log_evaluation()' callback via 'callbacks' argument instead.\n",
      "  _log_warning(\"'verbose' argument is deprecated and will be removed in a future release of LightGBM. \"\n"
     ]
    },
    {
     "name": "stdout",
     "output_type": "stream",
     "text": [
      "[20]\ttraining's binary_logloss: 0.0819478\tvalid_0's binary_logloss: 0.143037\n",
      "[40]\ttraining's binary_logloss: 0.0138882\tvalid_0's binary_logloss: 0.0546219\n",
      "[60]\ttraining's binary_logloss: 0.00290996\tvalid_0's binary_logloss: 0.0311834\n",
      "[80]\ttraining's binary_logloss: 0.000951454\tvalid_0's binary_logloss: 0.0197162\n",
      "[100]\ttraining's binary_logloss: 0.000567164\tvalid_0's binary_logloss: 0.0140905\n",
      "Done!product_32 \n",
      "\n"
     ]
    },
    {
     "name": "stderr",
     "output_type": "stream",
     "text": [
      "/opt/conda/lib/python3.7/site-packages/ipykernel_launcher.py:2: FutureWarning: In a future version of pandas all arguments of DataFrame.drop except for the argument 'labels' will be keyword-only\n",
      "  \n",
      "/opt/conda/lib/python3.7/site-packages/ipykernel_launcher.py:3: FutureWarning: In a future version of pandas all arguments of DataFrame.drop except for the argument 'labels' will be keyword-only\n",
      "  This is separate from the ipykernel package so we can avoid doing imports until\n",
      "/opt/conda/lib/python3.7/site-packages/lightgbm/sklearn.py:736: UserWarning: 'verbose' argument is deprecated and will be removed in a future release of LightGBM. Pass 'log_evaluation()' callback via 'callbacks' argument instead.\n",
      "  _log_warning(\"'verbose' argument is deprecated and will be removed in a future release of LightGBM. \"\n"
     ]
    },
    {
     "name": "stdout",
     "output_type": "stream",
     "text": [
      "[20]\ttraining's binary_logloss: 0.113465\tvalid_0's binary_logloss: 0.273508\n",
      "[40]\ttraining's binary_logloss: 0.0264093\tvalid_0's binary_logloss: 0.194403\n",
      "[60]\ttraining's binary_logloss: 0.00760372\tvalid_0's binary_logloss: 0.198857\n",
      "[80]\ttraining's binary_logloss: 0.00307055\tvalid_0's binary_logloss: 0.152825\n",
      "[100]\ttraining's binary_logloss: 0.00179619\tvalid_0's binary_logloss: 0.122165\n",
      "Done!product_33 \n",
      "\n"
     ]
    },
    {
     "name": "stderr",
     "output_type": "stream",
     "text": [
      "/opt/conda/lib/python3.7/site-packages/ipykernel_launcher.py:2: FutureWarning: In a future version of pandas all arguments of DataFrame.drop except for the argument 'labels' will be keyword-only\n",
      "  \n",
      "/opt/conda/lib/python3.7/site-packages/ipykernel_launcher.py:3: FutureWarning: In a future version of pandas all arguments of DataFrame.drop except for the argument 'labels' will be keyword-only\n",
      "  This is separate from the ipykernel package so we can avoid doing imports until\n",
      "/opt/conda/lib/python3.7/site-packages/lightgbm/sklearn.py:736: UserWarning: 'verbose' argument is deprecated and will be removed in a future release of LightGBM. Pass 'log_evaluation()' callback via 'callbacks' argument instead.\n",
      "  _log_warning(\"'verbose' argument is deprecated and will be removed in a future release of LightGBM. \"\n"
     ]
    },
    {
     "name": "stdout",
     "output_type": "stream",
     "text": [
      "[20]\ttraining's binary_logloss: 0.0841167\tvalid_0's binary_logloss: 0.935083\n",
      "[40]\ttraining's binary_logloss: 0.0161053\tvalid_0's binary_logloss: 1.01371\n",
      "[60]\ttraining's binary_logloss: 0.00631213\tvalid_0's binary_logloss: 0.815378\n",
      "[80]\ttraining's binary_logloss: 0.00479744\tvalid_0's binary_logloss: 0.958844\n",
      "[100]\ttraining's binary_logloss: 0.00454008\tvalid_0's binary_logloss: 0.783457\n",
      "Done!product_34 \n",
      "\n"
     ]
    },
    {
     "name": "stderr",
     "output_type": "stream",
     "text": [
      "/opt/conda/lib/python3.7/site-packages/ipykernel_launcher.py:2: FutureWarning: In a future version of pandas all arguments of DataFrame.drop except for the argument 'labels' will be keyword-only\n",
      "  \n",
      "/opt/conda/lib/python3.7/site-packages/ipykernel_launcher.py:3: FutureWarning: In a future version of pandas all arguments of DataFrame.drop except for the argument 'labels' will be keyword-only\n",
      "  This is separate from the ipykernel package so we can avoid doing imports until\n",
      "/opt/conda/lib/python3.7/site-packages/lightgbm/sklearn.py:736: UserWarning: 'verbose' argument is deprecated and will be removed in a future release of LightGBM. Pass 'log_evaluation()' callback via 'callbacks' argument instead.\n",
      "  _log_warning(\"'verbose' argument is deprecated and will be removed in a future release of LightGBM. \"\n"
     ]
    },
    {
     "name": "stdout",
     "output_type": "stream",
     "text": [
      "[20]\ttraining's binary_logloss: 0.0831576\tvalid_0's binary_logloss: 0.234983\n",
      "[40]\ttraining's binary_logloss: 0.0140775\tvalid_0's binary_logloss: 0.286431\n",
      "[60]\ttraining's binary_logloss: 0.00342325\tvalid_0's binary_logloss: 0.231505\n",
      "[80]\ttraining's binary_logloss: 0.00142723\tvalid_0's binary_logloss: 0.192493\n",
      "[100]\ttraining's binary_logloss: 0.00103882\tvalid_0's binary_logloss: 0.216165\n",
      "Done!product_35 \n",
      "\n"
     ]
    },
    {
     "name": "stderr",
     "output_type": "stream",
     "text": [
      "/opt/conda/lib/python3.7/site-packages/ipykernel_launcher.py:2: FutureWarning: In a future version of pandas all arguments of DataFrame.drop except for the argument 'labels' will be keyword-only\n",
      "  \n",
      "/opt/conda/lib/python3.7/site-packages/ipykernel_launcher.py:3: FutureWarning: In a future version of pandas all arguments of DataFrame.drop except for the argument 'labels' will be keyword-only\n",
      "  This is separate from the ipykernel package so we can avoid doing imports until\n",
      "/opt/conda/lib/python3.7/site-packages/lightgbm/sklearn.py:736: UserWarning: 'verbose' argument is deprecated and will be removed in a future release of LightGBM. Pass 'log_evaluation()' callback via 'callbacks' argument instead.\n",
      "  _log_warning(\"'verbose' argument is deprecated and will be removed in a future release of LightGBM. \"\n"
     ]
    },
    {
     "name": "stdout",
     "output_type": "stream",
     "text": [
      "[20]\ttraining's binary_logloss: 0.0837551\tvalid_0's binary_logloss: 0.23401\n",
      "[40]\ttraining's binary_logloss: 0.0146409\tvalid_0's binary_logloss: 0.119499\n",
      "[60]\ttraining's binary_logloss: 0.00360226\tvalid_0's binary_logloss: 0.0651924\n",
      "[80]\ttraining's binary_logloss: 0.00154422\tvalid_0's binary_logloss: 0.0514822\n",
      "[100]\ttraining's binary_logloss: 0.00113942\tvalid_0's binary_logloss: 0.0323113\n",
      "Done!product_36 \n",
      "\n"
     ]
    },
    {
     "name": "stderr",
     "output_type": "stream",
     "text": [
      "/opt/conda/lib/python3.7/site-packages/ipykernel_launcher.py:2: FutureWarning: In a future version of pandas all arguments of DataFrame.drop except for the argument 'labels' will be keyword-only\n",
      "  \n",
      "/opt/conda/lib/python3.7/site-packages/ipykernel_launcher.py:3: FutureWarning: In a future version of pandas all arguments of DataFrame.drop except for the argument 'labels' will be keyword-only\n",
      "  This is separate from the ipykernel package so we can avoid doing imports until\n",
      "/opt/conda/lib/python3.7/site-packages/lightgbm/sklearn.py:736: UserWarning: 'verbose' argument is deprecated and will be removed in a future release of LightGBM. Pass 'log_evaluation()' callback via 'callbacks' argument instead.\n",
      "  _log_warning(\"'verbose' argument is deprecated and will be removed in a future release of LightGBM. \"\n"
     ]
    },
    {
     "name": "stdout",
     "output_type": "stream",
     "text": [
      "[20]\ttraining's binary_logloss: 0.0804287\tvalid_0's binary_logloss: 0.777729\n",
      "[40]\ttraining's binary_logloss: 0.014759\tvalid_0's binary_logloss: 0.837057\n",
      "[60]\ttraining's binary_logloss: 0.00368336\tvalid_0's binary_logloss: 0.546993\n",
      "[80]\ttraining's binary_logloss: 0.00158974\tvalid_0's binary_logloss: 0.314729\n",
      "[100]\ttraining's binary_logloss: 0.00119524\tvalid_0's binary_logloss: 0.178\n",
      "Done!product_37 \n",
      "\n"
     ]
    },
    {
     "name": "stderr",
     "output_type": "stream",
     "text": [
      "/opt/conda/lib/python3.7/site-packages/ipykernel_launcher.py:2: FutureWarning: In a future version of pandas all arguments of DataFrame.drop except for the argument 'labels' will be keyword-only\n",
      "  \n",
      "/opt/conda/lib/python3.7/site-packages/ipykernel_launcher.py:3: FutureWarning: In a future version of pandas all arguments of DataFrame.drop except for the argument 'labels' will be keyword-only\n",
      "  This is separate from the ipykernel package so we can avoid doing imports until\n",
      "/opt/conda/lib/python3.7/site-packages/lightgbm/sklearn.py:736: UserWarning: 'verbose' argument is deprecated and will be removed in a future release of LightGBM. Pass 'log_evaluation()' callback via 'callbacks' argument instead.\n",
      "  _log_warning(\"'verbose' argument is deprecated and will be removed in a future release of LightGBM. \"\n"
     ]
    },
    {
     "name": "stdout",
     "output_type": "stream",
     "text": [
      "[20]\ttraining's binary_logloss: 0.0952994\tvalid_0's binary_logloss: 0.217931\n",
      "[40]\ttraining's binary_logloss: 0.0186984\tvalid_0's binary_logloss: 0.123021\n",
      "[60]\ttraining's binary_logloss: 0.00495102\tvalid_0's binary_logloss: 0.122052\n",
      "[80]\ttraining's binary_logloss: 0.00225786\tvalid_0's binary_logloss: 0.113821\n",
      "[100]\ttraining's binary_logloss: 0.0016669\tvalid_0's binary_logloss: 0.123334\n",
      "Done!product_38 \n",
      "\n"
     ]
    },
    {
     "name": "stderr",
     "output_type": "stream",
     "text": [
      "/opt/conda/lib/python3.7/site-packages/ipykernel_launcher.py:2: FutureWarning: In a future version of pandas all arguments of DataFrame.drop except for the argument 'labels' will be keyword-only\n",
      "  \n",
      "/opt/conda/lib/python3.7/site-packages/ipykernel_launcher.py:3: FutureWarning: In a future version of pandas all arguments of DataFrame.drop except for the argument 'labels' will be keyword-only\n",
      "  This is separate from the ipykernel package so we can avoid doing imports until\n",
      "/opt/conda/lib/python3.7/site-packages/lightgbm/sklearn.py:736: UserWarning: 'verbose' argument is deprecated and will be removed in a future release of LightGBM. Pass 'log_evaluation()' callback via 'callbacks' argument instead.\n",
      "  _log_warning(\"'verbose' argument is deprecated and will be removed in a future release of LightGBM. \"\n"
     ]
    },
    {
     "name": "stdout",
     "output_type": "stream",
     "text": [
      "[20]\ttraining's binary_logloss: 0.0926991\tvalid_0's binary_logloss: 0.474991\n",
      "[40]\ttraining's binary_logloss: 0.0182612\tvalid_0's binary_logloss: 0.398179\n",
      "[60]\ttraining's binary_logloss: 0.0049124\tvalid_0's binary_logloss: 0.266039\n",
      "[80]\ttraining's binary_logloss: 0.00197023\tvalid_0's binary_logloss: 0.168329\n",
      "[100]\ttraining's binary_logloss: 0.00129867\tvalid_0's binary_logloss: 0.104972\n",
      "Done!product_39 \n",
      "\n"
     ]
    },
    {
     "name": "stderr",
     "output_type": "stream",
     "text": [
      "/opt/conda/lib/python3.7/site-packages/ipykernel_launcher.py:2: FutureWarning: In a future version of pandas all arguments of DataFrame.drop except for the argument 'labels' will be keyword-only\n",
      "  \n",
      "/opt/conda/lib/python3.7/site-packages/ipykernel_launcher.py:3: FutureWarning: In a future version of pandas all arguments of DataFrame.drop except for the argument 'labels' will be keyword-only\n",
      "  This is separate from the ipykernel package so we can avoid doing imports until\n",
      "/opt/conda/lib/python3.7/site-packages/lightgbm/sklearn.py:736: UserWarning: 'verbose' argument is deprecated and will be removed in a future release of LightGBM. Pass 'log_evaluation()' callback via 'callbacks' argument instead.\n",
      "  _log_warning(\"'verbose' argument is deprecated and will be removed in a future release of LightGBM. \"\n"
     ]
    },
    {
     "name": "stdout",
     "output_type": "stream",
     "text": [
      "[20]\ttraining's binary_logloss: 0.0943659\tvalid_0's binary_logloss: 0.22092\n",
      "[40]\ttraining's binary_logloss: 0.0188469\tvalid_0's binary_logloss: 0.112919\n",
      "[60]\ttraining's binary_logloss: 0.00485101\tvalid_0's binary_logloss: 0.0772591\n",
      "[80]\ttraining's binary_logloss: 0.00198499\tvalid_0's binary_logloss: 0.0649792\n",
      "[100]\ttraining's binary_logloss: 0.0013872\tvalid_0's binary_logloss: 0.078493\n",
      "Done!product_40 \n",
      "\n"
     ]
    },
    {
     "name": "stderr",
     "output_type": "stream",
     "text": [
      "/opt/conda/lib/python3.7/site-packages/ipykernel_launcher.py:2: FutureWarning: In a future version of pandas all arguments of DataFrame.drop except for the argument 'labels' will be keyword-only\n",
      "  \n",
      "/opt/conda/lib/python3.7/site-packages/ipykernel_launcher.py:3: FutureWarning: In a future version of pandas all arguments of DataFrame.drop except for the argument 'labels' will be keyword-only\n",
      "  This is separate from the ipykernel package so we can avoid doing imports until\n",
      "/opt/conda/lib/python3.7/site-packages/lightgbm/sklearn.py:736: UserWarning: 'verbose' argument is deprecated and will be removed in a future release of LightGBM. Pass 'log_evaluation()' callback via 'callbacks' argument instead.\n",
      "  _log_warning(\"'verbose' argument is deprecated and will be removed in a future release of LightGBM. \"\n"
     ]
    },
    {
     "name": "stdout",
     "output_type": "stream",
     "text": [
      "[20]\ttraining's binary_logloss: 0.0931595\tvalid_0's binary_logloss: 0.317447\n",
      "[40]\ttraining's binary_logloss: 0.0189872\tvalid_0's binary_logloss: 0.268844\n",
      "[60]\ttraining's binary_logloss: 0.005251\tvalid_0's binary_logloss: 0.233381\n",
      "[80]\ttraining's binary_logloss: 0.00226471\tvalid_0's binary_logloss: 0.197045\n",
      "[100]\ttraining's binary_logloss: 0.00155862\tvalid_0's binary_logloss: 0.162488\n",
      "Done!product_41 \n",
      "\n"
     ]
    },
    {
     "name": "stderr",
     "output_type": "stream",
     "text": [
      "/opt/conda/lib/python3.7/site-packages/ipykernel_launcher.py:2: FutureWarning: In a future version of pandas all arguments of DataFrame.drop except for the argument 'labels' will be keyword-only\n",
      "  \n",
      "/opt/conda/lib/python3.7/site-packages/ipykernel_launcher.py:3: FutureWarning: In a future version of pandas all arguments of DataFrame.drop except for the argument 'labels' will be keyword-only\n",
      "  This is separate from the ipykernel package so we can avoid doing imports until\n",
      "/opt/conda/lib/python3.7/site-packages/lightgbm/sklearn.py:736: UserWarning: 'verbose' argument is deprecated and will be removed in a future release of LightGBM. Pass 'log_evaluation()' callback via 'callbacks' argument instead.\n",
      "  _log_warning(\"'verbose' argument is deprecated and will be removed in a future release of LightGBM. \"\n"
     ]
    },
    {
     "name": "stdout",
     "output_type": "stream",
     "text": [
      "[20]\ttraining's binary_logloss: 0.0934707\tvalid_0's binary_logloss: 0.22085\n",
      "[40]\ttraining's binary_logloss: 0.0181057\tvalid_0's binary_logloss: 0.179492\n",
      "[60]\ttraining's binary_logloss: 0.00450261\tvalid_0's binary_logloss: 0.165552\n",
      "[80]\ttraining's binary_logloss: 0.00161597\tvalid_0's binary_logloss: 0.136399\n",
      "[100]\ttraining's binary_logloss: 0.000997952\tvalid_0's binary_logloss: 0.0844894\n",
      "Done!product_42 \n",
      "\n"
     ]
    },
    {
     "name": "stderr",
     "output_type": "stream",
     "text": [
      "/opt/conda/lib/python3.7/site-packages/ipykernel_launcher.py:2: FutureWarning: In a future version of pandas all arguments of DataFrame.drop except for the argument 'labels' will be keyword-only\n",
      "  \n",
      "/opt/conda/lib/python3.7/site-packages/ipykernel_launcher.py:3: FutureWarning: In a future version of pandas all arguments of DataFrame.drop except for the argument 'labels' will be keyword-only\n",
      "  This is separate from the ipykernel package so we can avoid doing imports until\n",
      "/opt/conda/lib/python3.7/site-packages/lightgbm/sklearn.py:736: UserWarning: 'verbose' argument is deprecated and will be removed in a future release of LightGBM. Pass 'log_evaluation()' callback via 'callbacks' argument instead.\n",
      "  _log_warning(\"'verbose' argument is deprecated and will be removed in a future release of LightGBM. \"\n"
     ]
    },
    {
     "name": "stdout",
     "output_type": "stream",
     "text": [
      "[20]\ttraining's binary_logloss: 0.181882\tvalid_0's binary_logloss: 0.2924\n",
      "[40]\ttraining's binary_logloss: 0.0865733\tvalid_0's binary_logloss: 0.152702\n",
      "[60]\ttraining's binary_logloss: 0.0646253\tvalid_0's binary_logloss: 0.104956\n",
      "[80]\ttraining's binary_logloss: 0.0579943\tvalid_0's binary_logloss: 0.0883681\n",
      "[100]\ttraining's binary_logloss: 0.0557303\tvalid_0's binary_logloss: 0.079158\n",
      "Done!product_43 \n",
      "\n"
     ]
    },
    {
     "name": "stderr",
     "output_type": "stream",
     "text": [
      "/opt/conda/lib/python3.7/site-packages/ipykernel_launcher.py:2: FutureWarning: In a future version of pandas all arguments of DataFrame.drop except for the argument 'labels' will be keyword-only\n",
      "  \n",
      "/opt/conda/lib/python3.7/site-packages/ipykernel_launcher.py:3: FutureWarning: In a future version of pandas all arguments of DataFrame.drop except for the argument 'labels' will be keyword-only\n",
      "  This is separate from the ipykernel package so we can avoid doing imports until\n",
      "/opt/conda/lib/python3.7/site-packages/lightgbm/sklearn.py:736: UserWarning: 'verbose' argument is deprecated and will be removed in a future release of LightGBM. Pass 'log_evaluation()' callback via 'callbacks' argument instead.\n",
      "  _log_warning(\"'verbose' argument is deprecated and will be removed in a future release of LightGBM. \"\n"
     ]
    },
    {
     "name": "stdout",
     "output_type": "stream",
     "text": [
      "[20]\ttraining's binary_logloss: 0.108156\tvalid_0's binary_logloss: 0.985621\n",
      "[40]\ttraining's binary_logloss: 0.0264815\tvalid_0's binary_logloss: 1.51979\n",
      "[60]\ttraining's binary_logloss: 0.00955351\tvalid_0's binary_logloss: 1.60347\n",
      "[80]\ttraining's binary_logloss: 0.00452471\tvalid_0's binary_logloss: 1.642\n",
      "[100]\ttraining's binary_logloss: 0.0029312\tvalid_0's binary_logloss: 1.71803\n",
      "Done!product_44 \n",
      "\n"
     ]
    },
    {
     "name": "stderr",
     "output_type": "stream",
     "text": [
      "/opt/conda/lib/python3.7/site-packages/ipykernel_launcher.py:2: FutureWarning: In a future version of pandas all arguments of DataFrame.drop except for the argument 'labels' will be keyword-only\n",
      "  \n",
      "/opt/conda/lib/python3.7/site-packages/ipykernel_launcher.py:3: FutureWarning: In a future version of pandas all arguments of DataFrame.drop except for the argument 'labels' will be keyword-only\n",
      "  This is separate from the ipykernel package so we can avoid doing imports until\n",
      "/opt/conda/lib/python3.7/site-packages/lightgbm/sklearn.py:736: UserWarning: 'verbose' argument is deprecated and will be removed in a future release of LightGBM. Pass 'log_evaluation()' callback via 'callbacks' argument instead.\n",
      "  _log_warning(\"'verbose' argument is deprecated and will be removed in a future release of LightGBM. \"\n"
     ]
    },
    {
     "name": "stdout",
     "output_type": "stream",
     "text": [
      "[20]\ttraining's binary_logloss: 0.0959442\tvalid_0's binary_logloss: 0.71266\n",
      "[40]\ttraining's binary_logloss: 0.018514\tvalid_0's binary_logloss: 0.610663\n",
      "[60]\ttraining's binary_logloss: 0.00478729\tvalid_0's binary_logloss: 0.408567\n",
      "[80]\ttraining's binary_logloss: 0.00171311\tvalid_0's binary_logloss: 0.327805\n",
      "[100]\ttraining's binary_logloss: 0.00104217\tvalid_0's binary_logloss: 0.225188\n",
      "Done!product_45 \n",
      "\n"
     ]
    },
    {
     "name": "stderr",
     "output_type": "stream",
     "text": [
      "/opt/conda/lib/python3.7/site-packages/ipykernel_launcher.py:2: FutureWarning: In a future version of pandas all arguments of DataFrame.drop except for the argument 'labels' will be keyword-only\n",
      "  \n",
      "/opt/conda/lib/python3.7/site-packages/ipykernel_launcher.py:3: FutureWarning: In a future version of pandas all arguments of DataFrame.drop except for the argument 'labels' will be keyword-only\n",
      "  This is separate from the ipykernel package so we can avoid doing imports until\n",
      "/opt/conda/lib/python3.7/site-packages/lightgbm/sklearn.py:736: UserWarning: 'verbose' argument is deprecated and will be removed in a future release of LightGBM. Pass 'log_evaluation()' callback via 'callbacks' argument instead.\n",
      "  _log_warning(\"'verbose' argument is deprecated and will be removed in a future release of LightGBM. \"\n"
     ]
    },
    {
     "name": "stdout",
     "output_type": "stream",
     "text": [
      "[20]\ttraining's binary_logloss: 0.0905839\tvalid_0's binary_logloss: 0.491591\n",
      "[40]\ttraining's binary_logloss: 0.0177336\tvalid_0's binary_logloss: 0.572721\n",
      "[60]\ttraining's binary_logloss: 0.00435723\tvalid_0's binary_logloss: 0.587773\n",
      "[80]\ttraining's binary_logloss: 0.00153066\tvalid_0's binary_logloss: 0.534122\n",
      "[100]\ttraining's binary_logloss: 0.000903918\tvalid_0's binary_logloss: 0.420526\n",
      "Done!product_46 \n",
      "\n"
     ]
    },
    {
     "name": "stderr",
     "output_type": "stream",
     "text": [
      "/opt/conda/lib/python3.7/site-packages/ipykernel_launcher.py:2: FutureWarning: In a future version of pandas all arguments of DataFrame.drop except for the argument 'labels' will be keyword-only\n",
      "  \n",
      "/opt/conda/lib/python3.7/site-packages/ipykernel_launcher.py:3: FutureWarning: In a future version of pandas all arguments of DataFrame.drop except for the argument 'labels' will be keyword-only\n",
      "  This is separate from the ipykernel package so we can avoid doing imports until\n",
      "/opt/conda/lib/python3.7/site-packages/lightgbm/sklearn.py:736: UserWarning: 'verbose' argument is deprecated and will be removed in a future release of LightGBM. Pass 'log_evaluation()' callback via 'callbacks' argument instead.\n",
      "  _log_warning(\"'verbose' argument is deprecated and will be removed in a future release of LightGBM. \"\n"
     ]
    },
    {
     "name": "stdout",
     "output_type": "stream",
     "text": [
      "[20]\ttraining's binary_logloss: 0.0923577\tvalid_0's binary_logloss: 0.203696\n",
      "[40]\ttraining's binary_logloss: 0.017973\tvalid_0's binary_logloss: 0.109553\n",
      "[60]\ttraining's binary_logloss: 0.00463932\tvalid_0's binary_logloss: 0.0847232\n",
      "[80]\ttraining's binary_logloss: 0.00191349\tvalid_0's binary_logloss: 0.0713981\n",
      "[100]\ttraining's binary_logloss: 0.00135585\tvalid_0's binary_logloss: 0.0537792\n",
      "Done!product_47 \n",
      "\n"
     ]
    },
    {
     "name": "stderr",
     "output_type": "stream",
     "text": [
      "/opt/conda/lib/python3.7/site-packages/ipykernel_launcher.py:2: FutureWarning: In a future version of pandas all arguments of DataFrame.drop except for the argument 'labels' will be keyword-only\n",
      "  \n",
      "/opt/conda/lib/python3.7/site-packages/ipykernel_launcher.py:3: FutureWarning: In a future version of pandas all arguments of DataFrame.drop except for the argument 'labels' will be keyword-only\n",
      "  This is separate from the ipykernel package so we can avoid doing imports until\n",
      "/opt/conda/lib/python3.7/site-packages/lightgbm/sklearn.py:736: UserWarning: 'verbose' argument is deprecated and will be removed in a future release of LightGBM. Pass 'log_evaluation()' callback via 'callbacks' argument instead.\n",
      "  _log_warning(\"'verbose' argument is deprecated and will be removed in a future release of LightGBM. \"\n"
     ]
    },
    {
     "name": "stdout",
     "output_type": "stream",
     "text": [
      "[20]\ttraining's binary_logloss: 0.0865373\tvalid_0's binary_logloss: 0.706831\n",
      "[40]\ttraining's binary_logloss: 0.0160302\tvalid_0's binary_logloss: 0.722038\n",
      "[60]\ttraining's binary_logloss: 0.00558986\tvalid_0's binary_logloss: 0.615335\n",
      "[80]\ttraining's binary_logloss: 0.00400266\tvalid_0's binary_logloss: 0.478444\n",
      "[100]\ttraining's binary_logloss: 0.00371666\tvalid_0's binary_logloss: 0.447864\n",
      "Done!product_48 \n",
      "\n"
     ]
    },
    {
     "name": "stderr",
     "output_type": "stream",
     "text": [
      "/opt/conda/lib/python3.7/site-packages/ipykernel_launcher.py:2: FutureWarning: In a future version of pandas all arguments of DataFrame.drop except for the argument 'labels' will be keyword-only\n",
      "  \n",
      "/opt/conda/lib/python3.7/site-packages/ipykernel_launcher.py:3: FutureWarning: In a future version of pandas all arguments of DataFrame.drop except for the argument 'labels' will be keyword-only\n",
      "  This is separate from the ipykernel package so we can avoid doing imports until\n",
      "/opt/conda/lib/python3.7/site-packages/lightgbm/sklearn.py:736: UserWarning: 'verbose' argument is deprecated and will be removed in a future release of LightGBM. Pass 'log_evaluation()' callback via 'callbacks' argument instead.\n",
      "  _log_warning(\"'verbose' argument is deprecated and will be removed in a future release of LightGBM. \"\n"
     ]
    },
    {
     "name": "stdout",
     "output_type": "stream",
     "text": [
      "[20]\ttraining's binary_logloss: 0.108191\tvalid_0's binary_logloss: 0.714549\n",
      "[40]\ttraining's binary_logloss: 0.0261505\tvalid_0's binary_logloss: 0.889376\n",
      "[60]\ttraining's binary_logloss: 0.00803948\tvalid_0's binary_logloss: 0.878265\n",
      "[80]\ttraining's binary_logloss: 0.00319841\tvalid_0's binary_logloss: 0.900006\n",
      "[100]\ttraining's binary_logloss: 0.00171841\tvalid_0's binary_logloss: 0.947326\n",
      "Done!product_49 \n",
      "\n"
     ]
    },
    {
     "name": "stderr",
     "output_type": "stream",
     "text": [
      "/opt/conda/lib/python3.7/site-packages/ipykernel_launcher.py:2: FutureWarning: In a future version of pandas all arguments of DataFrame.drop except for the argument 'labels' will be keyword-only\n",
      "  \n",
      "/opt/conda/lib/python3.7/site-packages/ipykernel_launcher.py:3: FutureWarning: In a future version of pandas all arguments of DataFrame.drop except for the argument 'labels' will be keyword-only\n",
      "  This is separate from the ipykernel package so we can avoid doing imports until\n",
      "/opt/conda/lib/python3.7/site-packages/lightgbm/sklearn.py:736: UserWarning: 'verbose' argument is deprecated and will be removed in a future release of LightGBM. Pass 'log_evaluation()' callback via 'callbacks' argument instead.\n",
      "  _log_warning(\"'verbose' argument is deprecated and will be removed in a future release of LightGBM. \"\n"
     ]
    },
    {
     "name": "stdout",
     "output_type": "stream",
     "text": [
      "[20]\ttraining's binary_logloss: 0.119579\tvalid_0's binary_logloss: 0.498566\n",
      "[40]\ttraining's binary_logloss: 0.0301097\tvalid_0's binary_logloss: 0.57616\n",
      "[60]\ttraining's binary_logloss: 0.00918349\tvalid_0's binary_logloss: 0.640225\n",
      "[80]\ttraining's binary_logloss: 0.00374262\tvalid_0's binary_logloss: 0.553556\n",
      "[100]\ttraining's binary_logloss: 0.00213827\tvalid_0's binary_logloss: 0.457535\n",
      "Done!product_50 \n",
      "\n"
     ]
    },
    {
     "name": "stderr",
     "output_type": "stream",
     "text": [
      "/opt/conda/lib/python3.7/site-packages/ipykernel_launcher.py:2: FutureWarning: In a future version of pandas all arguments of DataFrame.drop except for the argument 'labels' will be keyword-only\n",
      "  \n",
      "/opt/conda/lib/python3.7/site-packages/ipykernel_launcher.py:3: FutureWarning: In a future version of pandas all arguments of DataFrame.drop except for the argument 'labels' will be keyword-only\n",
      "  This is separate from the ipykernel package so we can avoid doing imports until\n",
      "/opt/conda/lib/python3.7/site-packages/lightgbm/sklearn.py:736: UserWarning: 'verbose' argument is deprecated and will be removed in a future release of LightGBM. Pass 'log_evaluation()' callback via 'callbacks' argument instead.\n",
      "  _log_warning(\"'verbose' argument is deprecated and will be removed in a future release of LightGBM. \"\n"
     ]
    },
    {
     "name": "stdout",
     "output_type": "stream",
     "text": [
      "[20]\ttraining's binary_logloss: 0.0928495\tvalid_0's binary_logloss: 0.778084\n",
      "[40]\ttraining's binary_logloss: 0.0191807\tvalid_0's binary_logloss: 0.633483\n",
      "[60]\ttraining's binary_logloss: 0.00537699\tvalid_0's binary_logloss: 0.469131\n",
      "[80]\ttraining's binary_logloss: 0.00247993\tvalid_0's binary_logloss: 0.379669\n",
      "[100]\ttraining's binary_logloss: 0.0018168\tvalid_0's binary_logloss: 0.289368\n",
      "Done!product_51 \n",
      "\n"
     ]
    },
    {
     "name": "stderr",
     "output_type": "stream",
     "text": [
      "/opt/conda/lib/python3.7/site-packages/ipykernel_launcher.py:2: FutureWarning: In a future version of pandas all arguments of DataFrame.drop except for the argument 'labels' will be keyword-only\n",
      "  \n",
      "/opt/conda/lib/python3.7/site-packages/ipykernel_launcher.py:3: FutureWarning: In a future version of pandas all arguments of DataFrame.drop except for the argument 'labels' will be keyword-only\n",
      "  This is separate from the ipykernel package so we can avoid doing imports until\n",
      "/opt/conda/lib/python3.7/site-packages/lightgbm/sklearn.py:736: UserWarning: 'verbose' argument is deprecated and will be removed in a future release of LightGBM. Pass 'log_evaluation()' callback via 'callbacks' argument instead.\n",
      "  _log_warning(\"'verbose' argument is deprecated and will be removed in a future release of LightGBM. \"\n"
     ]
    },
    {
     "name": "stdout",
     "output_type": "stream",
     "text": [
      "[20]\ttraining's binary_logloss: 0.0842774\tvalid_0's binary_logloss: 0.126303\n",
      "[40]\ttraining's binary_logloss: 0.0162751\tvalid_0's binary_logloss: 0.042797\n",
      "[60]\ttraining's binary_logloss: 0.00430231\tvalid_0's binary_logloss: 0.0171812\n",
      "[80]\ttraining's binary_logloss: 0.00207977\tvalid_0's binary_logloss: 0.00899186\n",
      "[100]\ttraining's binary_logloss: 0.00163434\tvalid_0's binary_logloss: 0.00705001\n",
      "Done!product_52 \n",
      "\n"
     ]
    },
    {
     "name": "stderr",
     "output_type": "stream",
     "text": [
      "/opt/conda/lib/python3.7/site-packages/ipykernel_launcher.py:2: FutureWarning: In a future version of pandas all arguments of DataFrame.drop except for the argument 'labels' will be keyword-only\n",
      "  \n",
      "/opt/conda/lib/python3.7/site-packages/ipykernel_launcher.py:3: FutureWarning: In a future version of pandas all arguments of DataFrame.drop except for the argument 'labels' will be keyword-only\n",
      "  This is separate from the ipykernel package so we can avoid doing imports until\n",
      "/opt/conda/lib/python3.7/site-packages/lightgbm/sklearn.py:736: UserWarning: 'verbose' argument is deprecated and will be removed in a future release of LightGBM. Pass 'log_evaluation()' callback via 'callbacks' argument instead.\n",
      "  _log_warning(\"'verbose' argument is deprecated and will be removed in a future release of LightGBM. \"\n"
     ]
    },
    {
     "name": "stdout",
     "output_type": "stream",
     "text": [
      "[20]\ttraining's binary_logloss: 0.0867978\tvalid_0's binary_logloss: 0.18045\n",
      "[40]\ttraining's binary_logloss: 0.0151164\tvalid_0's binary_logloss: 0.114632\n",
      "[60]\ttraining's binary_logloss: 0.00315633\tvalid_0's binary_logloss: 0.149127\n",
      "[80]\ttraining's binary_logloss: 0.00111793\tvalid_0's binary_logloss: 0.170764\n",
      "[100]\ttraining's binary_logloss: 0.000758502\tvalid_0's binary_logloss: 0.163624\n",
      "Done!product_53 \n",
      "\n"
     ]
    },
    {
     "name": "stderr",
     "output_type": "stream",
     "text": [
      "/opt/conda/lib/python3.7/site-packages/ipykernel_launcher.py:2: FutureWarning: In a future version of pandas all arguments of DataFrame.drop except for the argument 'labels' will be keyword-only\n",
      "  \n",
      "/opt/conda/lib/python3.7/site-packages/ipykernel_launcher.py:3: FutureWarning: In a future version of pandas all arguments of DataFrame.drop except for the argument 'labels' will be keyword-only\n",
      "  This is separate from the ipykernel package so we can avoid doing imports until\n",
      "/opt/conda/lib/python3.7/site-packages/lightgbm/sklearn.py:736: UserWarning: 'verbose' argument is deprecated and will be removed in a future release of LightGBM. Pass 'log_evaluation()' callback via 'callbacks' argument instead.\n",
      "  _log_warning(\"'verbose' argument is deprecated and will be removed in a future release of LightGBM. \"\n"
     ]
    },
    {
     "name": "stdout",
     "output_type": "stream",
     "text": [
      "[20]\ttraining's binary_logloss: 0.0818326\tvalid_0's binary_logloss: 1.15906\n",
      "[40]\ttraining's binary_logloss: 0.0148868\tvalid_0's binary_logloss: 1.28025\n",
      "[60]\ttraining's binary_logloss: 0.00479311\tvalid_0's binary_logloss: 1.76893\n",
      "[80]\ttraining's binary_logloss: 0.00320421\tvalid_0's binary_logloss: 1.76698\n",
      "[100]\ttraining's binary_logloss: 0.00292386\tvalid_0's binary_logloss: 1.22564\n",
      "Done!product_54 \n",
      "\n"
     ]
    },
    {
     "name": "stderr",
     "output_type": "stream",
     "text": [
      "/opt/conda/lib/python3.7/site-packages/ipykernel_launcher.py:2: FutureWarning: In a future version of pandas all arguments of DataFrame.drop except for the argument 'labels' will be keyword-only\n",
      "  \n",
      "/opt/conda/lib/python3.7/site-packages/ipykernel_launcher.py:3: FutureWarning: In a future version of pandas all arguments of DataFrame.drop except for the argument 'labels' will be keyword-only\n",
      "  This is separate from the ipykernel package so we can avoid doing imports until\n",
      "/opt/conda/lib/python3.7/site-packages/lightgbm/sklearn.py:736: UserWarning: 'verbose' argument is deprecated and will be removed in a future release of LightGBM. Pass 'log_evaluation()' callback via 'callbacks' argument instead.\n",
      "  _log_warning(\"'verbose' argument is deprecated and will be removed in a future release of LightGBM. \"\n"
     ]
    },
    {
     "name": "stdout",
     "output_type": "stream",
     "text": [
      "[20]\ttraining's binary_logloss: 0.0819812\tvalid_0's binary_logloss: 0.765728\n",
      "[40]\ttraining's binary_logloss: 0.015426\tvalid_0's binary_logloss: 0.836427\n",
      "[60]\ttraining's binary_logloss: 0.00411633\tvalid_0's binary_logloss: 0.809459\n",
      "[80]\ttraining's binary_logloss: 0.0018782\tvalid_0's binary_logloss: 0.835108\n",
      "[100]\ttraining's binary_logloss: 0.00137366\tvalid_0's binary_logloss: 1.0529\n",
      "Done!product_55 \n",
      "\n"
     ]
    },
    {
     "name": "stderr",
     "output_type": "stream",
     "text": [
      "/opt/conda/lib/python3.7/site-packages/ipykernel_launcher.py:2: FutureWarning: In a future version of pandas all arguments of DataFrame.drop except for the argument 'labels' will be keyword-only\n",
      "  \n",
      "/opt/conda/lib/python3.7/site-packages/ipykernel_launcher.py:3: FutureWarning: In a future version of pandas all arguments of DataFrame.drop except for the argument 'labels' will be keyword-only\n",
      "  This is separate from the ipykernel package so we can avoid doing imports until\n",
      "/opt/conda/lib/python3.7/site-packages/lightgbm/sklearn.py:736: UserWarning: 'verbose' argument is deprecated and will be removed in a future release of LightGBM. Pass 'log_evaluation()' callback via 'callbacks' argument instead.\n",
      "  _log_warning(\"'verbose' argument is deprecated and will be removed in a future release of LightGBM. \"\n"
     ]
    },
    {
     "name": "stdout",
     "output_type": "stream",
     "text": [
      "[20]\ttraining's binary_logloss: 0.0965413\tvalid_0's binary_logloss: 0.294519\n",
      "[40]\ttraining's binary_logloss: 0.0192023\tvalid_0's binary_logloss: 0.196385\n",
      "[60]\ttraining's binary_logloss: 0.00459626\tvalid_0's binary_logloss: 0.100259\n",
      "[80]\ttraining's binary_logloss: 0.00162564\tvalid_0's binary_logloss: 0.0586702\n",
      "[100]\ttraining's binary_logloss: 0.00092689\tvalid_0's binary_logloss: 0.0452606\n",
      "Done!product_56 \n",
      "\n"
     ]
    },
    {
     "name": "stderr",
     "output_type": "stream",
     "text": [
      "/opt/conda/lib/python3.7/site-packages/ipykernel_launcher.py:2: FutureWarning: In a future version of pandas all arguments of DataFrame.drop except for the argument 'labels' will be keyword-only\n",
      "  \n",
      "/opt/conda/lib/python3.7/site-packages/ipykernel_launcher.py:3: FutureWarning: In a future version of pandas all arguments of DataFrame.drop except for the argument 'labels' will be keyword-only\n",
      "  This is separate from the ipykernel package so we can avoid doing imports until\n",
      "/opt/conda/lib/python3.7/site-packages/lightgbm/sklearn.py:736: UserWarning: 'verbose' argument is deprecated and will be removed in a future release of LightGBM. Pass 'log_evaluation()' callback via 'callbacks' argument instead.\n",
      "  _log_warning(\"'verbose' argument is deprecated and will be removed in a future release of LightGBM. \"\n"
     ]
    },
    {
     "name": "stdout",
     "output_type": "stream",
     "text": [
      "[20]\ttraining's binary_logloss: 0.085684\tvalid_0's binary_logloss: 0.153686\n",
      "[40]\ttraining's binary_logloss: 0.0161774\tvalid_0's binary_logloss: 0.088553\n",
      "[60]\ttraining's binary_logloss: 0.0045278\tvalid_0's binary_logloss: 0.089732\n",
      "[80]\ttraining's binary_logloss: 0.00244761\tvalid_0's binary_logloss: 0.0816568\n",
      "[100]\ttraining's binary_logloss: 0.00204105\tvalid_0's binary_logloss: 0.067475\n",
      "Done!product_57 \n",
      "\n"
     ]
    },
    {
     "name": "stderr",
     "output_type": "stream",
     "text": [
      "/opt/conda/lib/python3.7/site-packages/ipykernel_launcher.py:2: FutureWarning: In a future version of pandas all arguments of DataFrame.drop except for the argument 'labels' will be keyword-only\n",
      "  \n",
      "/opt/conda/lib/python3.7/site-packages/ipykernel_launcher.py:3: FutureWarning: In a future version of pandas all arguments of DataFrame.drop except for the argument 'labels' will be keyword-only\n",
      "  This is separate from the ipykernel package so we can avoid doing imports until\n",
      "/opt/conda/lib/python3.7/site-packages/lightgbm/sklearn.py:736: UserWarning: 'verbose' argument is deprecated and will be removed in a future release of LightGBM. Pass 'log_evaluation()' callback via 'callbacks' argument instead.\n",
      "  _log_warning(\"'verbose' argument is deprecated and will be removed in a future release of LightGBM. \"\n"
     ]
    },
    {
     "name": "stdout",
     "output_type": "stream",
     "text": [
      "[20]\ttraining's binary_logloss: 0.100224\tvalid_0's binary_logloss: 0.468059\n",
      "[40]\ttraining's binary_logloss: 0.0219318\tvalid_0's binary_logloss: 0.463265\n",
      "[60]\ttraining's binary_logloss: 0.00635617\tvalid_0's binary_logloss: 0.436017\n",
      "[80]\ttraining's binary_logloss: 0.00274457\tvalid_0's binary_logloss: 0.398388\n",
      "[100]\ttraining's binary_logloss: 0.00186204\tvalid_0's binary_logloss: 0.36075\n",
      "Done!product_58 \n",
      "\n"
     ]
    },
    {
     "name": "stderr",
     "output_type": "stream",
     "text": [
      "/opt/conda/lib/python3.7/site-packages/ipykernel_launcher.py:2: FutureWarning: In a future version of pandas all arguments of DataFrame.drop except for the argument 'labels' will be keyword-only\n",
      "  \n",
      "/opt/conda/lib/python3.7/site-packages/ipykernel_launcher.py:3: FutureWarning: In a future version of pandas all arguments of DataFrame.drop except for the argument 'labels' will be keyword-only\n",
      "  This is separate from the ipykernel package so we can avoid doing imports until\n",
      "/opt/conda/lib/python3.7/site-packages/lightgbm/sklearn.py:736: UserWarning: 'verbose' argument is deprecated and will be removed in a future release of LightGBM. Pass 'log_evaluation()' callback via 'callbacks' argument instead.\n",
      "  _log_warning(\"'verbose' argument is deprecated and will be removed in a future release of LightGBM. \"\n"
     ]
    },
    {
     "name": "stdout",
     "output_type": "stream",
     "text": [
      "[20]\ttraining's binary_logloss: 0.0806008\tvalid_0's binary_logloss: 1.39994\n",
      "[40]\ttraining's binary_logloss: 0.0145022\tvalid_0's binary_logloss: 2.37138\n",
      "[60]\ttraining's binary_logloss: 0.00354737\tvalid_0's binary_logloss: 2.87939\n",
      "[80]\ttraining's binary_logloss: 0.00148218\tvalid_0's binary_logloss: 2.91737\n",
      "[100]\ttraining's binary_logloss: 0.00103061\tvalid_0's binary_logloss: 2.5875\n",
      "Done!product_59 \n",
      "\n"
     ]
    },
    {
     "name": "stderr",
     "output_type": "stream",
     "text": [
      "/opt/conda/lib/python3.7/site-packages/ipykernel_launcher.py:2: FutureWarning: In a future version of pandas all arguments of DataFrame.drop except for the argument 'labels' will be keyword-only\n",
      "  \n",
      "/opt/conda/lib/python3.7/site-packages/ipykernel_launcher.py:3: FutureWarning: In a future version of pandas all arguments of DataFrame.drop except for the argument 'labels' will be keyword-only\n",
      "  This is separate from the ipykernel package so we can avoid doing imports until\n",
      "/opt/conda/lib/python3.7/site-packages/lightgbm/sklearn.py:736: UserWarning: 'verbose' argument is deprecated and will be removed in a future release of LightGBM. Pass 'log_evaluation()' callback via 'callbacks' argument instead.\n",
      "  _log_warning(\"'verbose' argument is deprecated and will be removed in a future release of LightGBM. \"\n"
     ]
    },
    {
     "name": "stdout",
     "output_type": "stream",
     "text": [
      "[20]\ttraining's binary_logloss: 0.0777873\tvalid_0's binary_logloss: 0.517108\n",
      "[40]\ttraining's binary_logloss: 0.0129616\tvalid_0's binary_logloss: 0.67722\n",
      "[60]\ttraining's binary_logloss: 0.00274514\tvalid_0's binary_logloss: 0.772462\n",
      "[80]\ttraining's binary_logloss: 0.000905319\tvalid_0's binary_logloss: 0.773518\n",
      "[100]\ttraining's binary_logloss: 0.000559253\tvalid_0's binary_logloss: 0.625561\n",
      "Done!product_60 \n",
      "\n"
     ]
    },
    {
     "name": "stderr",
     "output_type": "stream",
     "text": [
      "/opt/conda/lib/python3.7/site-packages/ipykernel_launcher.py:2: FutureWarning: In a future version of pandas all arguments of DataFrame.drop except for the argument 'labels' will be keyword-only\n",
      "  \n",
      "/opt/conda/lib/python3.7/site-packages/ipykernel_launcher.py:3: FutureWarning: In a future version of pandas all arguments of DataFrame.drop except for the argument 'labels' will be keyword-only\n",
      "  This is separate from the ipykernel package so we can avoid doing imports until\n",
      "/opt/conda/lib/python3.7/site-packages/lightgbm/sklearn.py:736: UserWarning: 'verbose' argument is deprecated and will be removed in a future release of LightGBM. Pass 'log_evaluation()' callback via 'callbacks' argument instead.\n",
      "  _log_warning(\"'verbose' argument is deprecated and will be removed in a future release of LightGBM. \"\n"
     ]
    },
    {
     "name": "stdout",
     "output_type": "stream",
     "text": [
      "[20]\ttraining's binary_logloss: 0.13037\tvalid_0's binary_logloss: 0.666241\n",
      "[40]\ttraining's binary_logloss: 0.0360724\tvalid_0's binary_logloss: 0.713554\n",
      "[60]\ttraining's binary_logloss: 0.0127716\tvalid_0's binary_logloss: 0.7771\n",
      "[80]\ttraining's binary_logloss: 0.00577038\tvalid_0's binary_logloss: 0.842626\n",
      "[100]\ttraining's binary_logloss: 0.00338708\tvalid_0's binary_logloss: 0.858198\n",
      "Done!product_61 \n",
      "\n"
     ]
    },
    {
     "name": "stderr",
     "output_type": "stream",
     "text": [
      "/opt/conda/lib/python3.7/site-packages/ipykernel_launcher.py:2: FutureWarning: In a future version of pandas all arguments of DataFrame.drop except for the argument 'labels' will be keyword-only\n",
      "  \n",
      "/opt/conda/lib/python3.7/site-packages/ipykernel_launcher.py:3: FutureWarning: In a future version of pandas all arguments of DataFrame.drop except for the argument 'labels' will be keyword-only\n",
      "  This is separate from the ipykernel package so we can avoid doing imports until\n",
      "/opt/conda/lib/python3.7/site-packages/lightgbm/sklearn.py:736: UserWarning: 'verbose' argument is deprecated and will be removed in a future release of LightGBM. Pass 'log_evaluation()' callback via 'callbacks' argument instead.\n",
      "  _log_warning(\"'verbose' argument is deprecated and will be removed in a future release of LightGBM. \"\n"
     ]
    },
    {
     "name": "stdout",
     "output_type": "stream",
     "text": [
      "[20]\ttraining's binary_logloss: 0.0862369\tvalid_0's binary_logloss: 0.853102\n",
      "[40]\ttraining's binary_logloss: 0.0163123\tvalid_0's binary_logloss: 1.00473\n",
      "[60]\ttraining's binary_logloss: 0.00407606\tvalid_0's binary_logloss: 0.8235\n",
      "[80]\ttraining's binary_logloss: 0.00179902\tvalid_0's binary_logloss: 0.69219\n",
      "[100]\ttraining's binary_logloss: 0.00134392\tvalid_0's binary_logloss: 0.454486\n",
      "Done!product_62 \n",
      "\n"
     ]
    },
    {
     "name": "stderr",
     "output_type": "stream",
     "text": [
      "/opt/conda/lib/python3.7/site-packages/ipykernel_launcher.py:2: FutureWarning: In a future version of pandas all arguments of DataFrame.drop except for the argument 'labels' will be keyword-only\n",
      "  \n",
      "/opt/conda/lib/python3.7/site-packages/ipykernel_launcher.py:3: FutureWarning: In a future version of pandas all arguments of DataFrame.drop except for the argument 'labels' will be keyword-only\n",
      "  This is separate from the ipykernel package so we can avoid doing imports until\n",
      "/opt/conda/lib/python3.7/site-packages/lightgbm/sklearn.py:736: UserWarning: 'verbose' argument is deprecated and will be removed in a future release of LightGBM. Pass 'log_evaluation()' callback via 'callbacks' argument instead.\n",
      "  _log_warning(\"'verbose' argument is deprecated and will be removed in a future release of LightGBM. \"\n"
     ]
    },
    {
     "name": "stdout",
     "output_type": "stream",
     "text": [
      "[20]\ttraining's binary_logloss: 0.0900955\tvalid_0's binary_logloss: 0.904384\n",
      "[40]\ttraining's binary_logloss: 0.0186246\tvalid_0's binary_logloss: 0.985462\n",
      "[60]\ttraining's binary_logloss: 0.00486607\tvalid_0's binary_logloss: 1.05963\n",
      "[80]\ttraining's binary_logloss: 0.00187703\tvalid_0's binary_logloss: 1.01023\n",
      "[100]\ttraining's binary_logloss: 0.00118727\tvalid_0's binary_logloss: 0.963972\n",
      "Done!product_63 \n",
      "\n"
     ]
    },
    {
     "name": "stderr",
     "output_type": "stream",
     "text": [
      "/opt/conda/lib/python3.7/site-packages/ipykernel_launcher.py:2: FutureWarning: In a future version of pandas all arguments of DataFrame.drop except for the argument 'labels' will be keyword-only\n",
      "  \n",
      "/opt/conda/lib/python3.7/site-packages/ipykernel_launcher.py:3: FutureWarning: In a future version of pandas all arguments of DataFrame.drop except for the argument 'labels' will be keyword-only\n",
      "  This is separate from the ipykernel package so we can avoid doing imports until\n",
      "/opt/conda/lib/python3.7/site-packages/lightgbm/sklearn.py:736: UserWarning: 'verbose' argument is deprecated and will be removed in a future release of LightGBM. Pass 'log_evaluation()' callback via 'callbacks' argument instead.\n",
      "  _log_warning(\"'verbose' argument is deprecated and will be removed in a future release of LightGBM. \"\n"
     ]
    },
    {
     "name": "stdout",
     "output_type": "stream",
     "text": [
      "[20]\ttraining's binary_logloss: 0.0903948\tvalid_0's binary_logloss: 0.238848\n",
      "[40]\ttraining's binary_logloss: 0.0176733\tvalid_0's binary_logloss: 0.240645\n",
      "[60]\ttraining's binary_logloss: 0.00444104\tvalid_0's binary_logloss: 0.198454\n",
      "[80]\ttraining's binary_logloss: 0.00170455\tvalid_0's binary_logloss: 0.171015\n",
      "[100]\ttraining's binary_logloss: 0.00110408\tvalid_0's binary_logloss: 0.154025\n",
      "Done!product_64 \n",
      "\n"
     ]
    },
    {
     "name": "stderr",
     "output_type": "stream",
     "text": [
      "/opt/conda/lib/python3.7/site-packages/ipykernel_launcher.py:2: FutureWarning: In a future version of pandas all arguments of DataFrame.drop except for the argument 'labels' will be keyword-only\n",
      "  \n",
      "/opt/conda/lib/python3.7/site-packages/ipykernel_launcher.py:3: FutureWarning: In a future version of pandas all arguments of DataFrame.drop except for the argument 'labels' will be keyword-only\n",
      "  This is separate from the ipykernel package so we can avoid doing imports until\n",
      "/opt/conda/lib/python3.7/site-packages/lightgbm/sklearn.py:736: UserWarning: 'verbose' argument is deprecated and will be removed in a future release of LightGBM. Pass 'log_evaluation()' callback via 'callbacks' argument instead.\n",
      "  _log_warning(\"'verbose' argument is deprecated and will be removed in a future release of LightGBM. \"\n"
     ]
    },
    {
     "name": "stdout",
     "output_type": "stream",
     "text": [
      "[20]\ttraining's binary_logloss: 0.086729\tvalid_0's binary_logloss: 0.572554\n",
      "[40]\ttraining's binary_logloss: 0.0187445\tvalid_0's binary_logloss: 0.700201\n",
      "[60]\ttraining's binary_logloss: 0.0055095\tvalid_0's binary_logloss: 0.626696\n",
      "[80]\ttraining's binary_logloss: 0.0026294\tvalid_0's binary_logloss: 0.554079\n",
      "[100]\ttraining's binary_logloss: 0.00199436\tvalid_0's binary_logloss: 0.388654\n",
      "Done!product_65 \n",
      "\n"
     ]
    },
    {
     "name": "stderr",
     "output_type": "stream",
     "text": [
      "/opt/conda/lib/python3.7/site-packages/ipykernel_launcher.py:2: FutureWarning: In a future version of pandas all arguments of DataFrame.drop except for the argument 'labels' will be keyword-only\n",
      "  \n",
      "/opt/conda/lib/python3.7/site-packages/ipykernel_launcher.py:3: FutureWarning: In a future version of pandas all arguments of DataFrame.drop except for the argument 'labels' will be keyword-only\n",
      "  This is separate from the ipykernel package so we can avoid doing imports until\n",
      "/opt/conda/lib/python3.7/site-packages/lightgbm/sklearn.py:736: UserWarning: 'verbose' argument is deprecated and will be removed in a future release of LightGBM. Pass 'log_evaluation()' callback via 'callbacks' argument instead.\n",
      "  _log_warning(\"'verbose' argument is deprecated and will be removed in a future release of LightGBM. \"\n"
     ]
    },
    {
     "name": "stdout",
     "output_type": "stream",
     "text": [
      "[20]\ttraining's binary_logloss: 0.0932853\tvalid_0's binary_logloss: 0.775923\n",
      "[40]\ttraining's binary_logloss: 0.0175283\tvalid_0's binary_logloss: 1.07093\n",
      "[60]\ttraining's binary_logloss: 0.00409825\tvalid_0's binary_logloss: 1.3129\n",
      "[80]\ttraining's binary_logloss: 0.00129283\tvalid_0's binary_logloss: 1.32913\n",
      "[100]\ttraining's binary_logloss: 0.000674089\tvalid_0's binary_logloss: 1.19176\n",
      "Done!product_66 \n",
      "\n"
     ]
    },
    {
     "name": "stderr",
     "output_type": "stream",
     "text": [
      "/opt/conda/lib/python3.7/site-packages/ipykernel_launcher.py:2: FutureWarning: In a future version of pandas all arguments of DataFrame.drop except for the argument 'labels' will be keyword-only\n",
      "  \n",
      "/opt/conda/lib/python3.7/site-packages/ipykernel_launcher.py:3: FutureWarning: In a future version of pandas all arguments of DataFrame.drop except for the argument 'labels' will be keyword-only\n",
      "  This is separate from the ipykernel package so we can avoid doing imports until\n",
      "/opt/conda/lib/python3.7/site-packages/lightgbm/sklearn.py:736: UserWarning: 'verbose' argument is deprecated and will be removed in a future release of LightGBM. Pass 'log_evaluation()' callback via 'callbacks' argument instead.\n",
      "  _log_warning(\"'verbose' argument is deprecated and will be removed in a future release of LightGBM. \"\n"
     ]
    },
    {
     "name": "stdout",
     "output_type": "stream",
     "text": [
      "[20]\ttraining's binary_logloss: 0.0968642\tvalid_0's binary_logloss: 0.261707\n",
      "[40]\ttraining's binary_logloss: 0.018393\tvalid_0's binary_logloss: 0.20146\n",
      "[60]\ttraining's binary_logloss: 0.00526214\tvalid_0's binary_logloss: 0.131217\n",
      "[80]\ttraining's binary_logloss: 0.00253906\tvalid_0's binary_logloss: 0.0957968\n",
      "[100]\ttraining's binary_logloss: 0.00193988\tvalid_0's binary_logloss: 0.0735222\n",
      "Done!product_67 \n",
      "\n"
     ]
    },
    {
     "name": "stderr",
     "output_type": "stream",
     "text": [
      "/opt/conda/lib/python3.7/site-packages/ipykernel_launcher.py:2: FutureWarning: In a future version of pandas all arguments of DataFrame.drop except for the argument 'labels' will be keyword-only\n",
      "  \n",
      "/opt/conda/lib/python3.7/site-packages/ipykernel_launcher.py:3: FutureWarning: In a future version of pandas all arguments of DataFrame.drop except for the argument 'labels' will be keyword-only\n",
      "  This is separate from the ipykernel package so we can avoid doing imports until\n",
      "/opt/conda/lib/python3.7/site-packages/lightgbm/sklearn.py:736: UserWarning: 'verbose' argument is deprecated and will be removed in a future release of LightGBM. Pass 'log_evaluation()' callback via 'callbacks' argument instead.\n",
      "  _log_warning(\"'verbose' argument is deprecated and will be removed in a future release of LightGBM. \"\n"
     ]
    },
    {
     "name": "stdout",
     "output_type": "stream",
     "text": [
      "[20]\ttraining's binary_logloss: 0.104028\tvalid_0's binary_logloss: 0.171985\n",
      "[40]\ttraining's binary_logloss: 0.0218409\tvalid_0's binary_logloss: 0.0952527\n",
      "[60]\ttraining's binary_logloss: 0.00506913\tvalid_0's binary_logloss: 0.0785713\n",
      "[80]\ttraining's binary_logloss: 0.00156392\tvalid_0's binary_logloss: 0.0615278\n",
      "[100]\ttraining's binary_logloss: 0.000762769\tvalid_0's binary_logloss: 0.0547605\n",
      "Done!product_68 \n",
      "\n"
     ]
    },
    {
     "name": "stderr",
     "output_type": "stream",
     "text": [
      "/opt/conda/lib/python3.7/site-packages/ipykernel_launcher.py:2: FutureWarning: In a future version of pandas all arguments of DataFrame.drop except for the argument 'labels' will be keyword-only\n",
      "  \n",
      "/opt/conda/lib/python3.7/site-packages/ipykernel_launcher.py:3: FutureWarning: In a future version of pandas all arguments of DataFrame.drop except for the argument 'labels' will be keyword-only\n",
      "  This is separate from the ipykernel package so we can avoid doing imports until\n",
      "/opt/conda/lib/python3.7/site-packages/lightgbm/sklearn.py:736: UserWarning: 'verbose' argument is deprecated and will be removed in a future release of LightGBM. Pass 'log_evaluation()' callback via 'callbacks' argument instead.\n",
      "  _log_warning(\"'verbose' argument is deprecated and will be removed in a future release of LightGBM. \"\n"
     ]
    },
    {
     "name": "stdout",
     "output_type": "stream",
     "text": [
      "[20]\ttraining's binary_logloss: 0.10201\tvalid_0's binary_logloss: 0.186842\n",
      "[40]\ttraining's binary_logloss: 0.0195608\tvalid_0's binary_logloss: 0.233852\n",
      "[60]\ttraining's binary_logloss: 0.00538874\tvalid_0's binary_logloss: 0.207852\n",
      "[80]\ttraining's binary_logloss: 0.00231795\tvalid_0's binary_logloss: 0.155551\n",
      "[100]\ttraining's binary_logloss: 0.00160598\tvalid_0's binary_logloss: 0.147205\n",
      "Done!product_69 \n",
      "\n"
     ]
    },
    {
     "name": "stderr",
     "output_type": "stream",
     "text": [
      "/opt/conda/lib/python3.7/site-packages/ipykernel_launcher.py:2: FutureWarning: In a future version of pandas all arguments of DataFrame.drop except for the argument 'labels' will be keyword-only\n",
      "  \n",
      "/opt/conda/lib/python3.7/site-packages/ipykernel_launcher.py:3: FutureWarning: In a future version of pandas all arguments of DataFrame.drop except for the argument 'labels' will be keyword-only\n",
      "  This is separate from the ipykernel package so we can avoid doing imports until\n",
      "/opt/conda/lib/python3.7/site-packages/lightgbm/sklearn.py:736: UserWarning: 'verbose' argument is deprecated and will be removed in a future release of LightGBM. Pass 'log_evaluation()' callback via 'callbacks' argument instead.\n",
      "  _log_warning(\"'verbose' argument is deprecated and will be removed in a future release of LightGBM. \"\n"
     ]
    },
    {
     "name": "stdout",
     "output_type": "stream",
     "text": [
      "[20]\ttraining's binary_logloss: 0.0969296\tvalid_0's binary_logloss: 0.497022\n",
      "[40]\ttraining's binary_logloss: 0.021415\tvalid_0's binary_logloss: 0.40661\n",
      "[60]\ttraining's binary_logloss: 0.00591413\tvalid_0's binary_logloss: 0.418964\n",
      "[80]\ttraining's binary_logloss: 0.0027092\tvalid_0's binary_logloss: 0.396807\n",
      "[100]\ttraining's binary_logloss: 0.00196466\tvalid_0's binary_logloss: 0.342713\n",
      "Done!product_70 \n",
      "\n"
     ]
    },
    {
     "name": "stderr",
     "output_type": "stream",
     "text": [
      "/opt/conda/lib/python3.7/site-packages/ipykernel_launcher.py:2: FutureWarning: In a future version of pandas all arguments of DataFrame.drop except for the argument 'labels' will be keyword-only\n",
      "  \n",
      "/opt/conda/lib/python3.7/site-packages/ipykernel_launcher.py:3: FutureWarning: In a future version of pandas all arguments of DataFrame.drop except for the argument 'labels' will be keyword-only\n",
      "  This is separate from the ipykernel package so we can avoid doing imports until\n",
      "/opt/conda/lib/python3.7/site-packages/lightgbm/sklearn.py:736: UserWarning: 'verbose' argument is deprecated and will be removed in a future release of LightGBM. Pass 'log_evaluation()' callback via 'callbacks' argument instead.\n",
      "  _log_warning(\"'verbose' argument is deprecated and will be removed in a future release of LightGBM. \"\n"
     ]
    },
    {
     "name": "stdout",
     "output_type": "stream",
     "text": [
      "[20]\ttraining's binary_logloss: 0.0864906\tvalid_0's binary_logloss: 0.549685\n",
      "[40]\ttraining's binary_logloss: 0.0174405\tvalid_0's binary_logloss: 0.472651\n",
      "[60]\ttraining's binary_logloss: 0.00453196\tvalid_0's binary_logloss: 0.346954\n",
      "[80]\ttraining's binary_logloss: 0.00177112\tvalid_0's binary_logloss: 0.258021\n",
      "[100]\ttraining's binary_logloss: 0.00113446\tvalid_0's binary_logloss: 0.207618\n",
      "Done!product_71 \n",
      "\n"
     ]
    },
    {
     "name": "stderr",
     "output_type": "stream",
     "text": [
      "/opt/conda/lib/python3.7/site-packages/ipykernel_launcher.py:2: FutureWarning: In a future version of pandas all arguments of DataFrame.drop except for the argument 'labels' will be keyword-only\n",
      "  \n",
      "/opt/conda/lib/python3.7/site-packages/ipykernel_launcher.py:3: FutureWarning: In a future version of pandas all arguments of DataFrame.drop except for the argument 'labels' will be keyword-only\n",
      "  This is separate from the ipykernel package so we can avoid doing imports until\n",
      "/opt/conda/lib/python3.7/site-packages/lightgbm/sklearn.py:736: UserWarning: 'verbose' argument is deprecated and will be removed in a future release of LightGBM. Pass 'log_evaluation()' callback via 'callbacks' argument instead.\n",
      "  _log_warning(\"'verbose' argument is deprecated and will be removed in a future release of LightGBM. \"\n"
     ]
    },
    {
     "name": "stdout",
     "output_type": "stream",
     "text": [
      "[20]\ttraining's binary_logloss: 0.0986491\tvalid_0's binary_logloss: 0.966143\n",
      "[40]\ttraining's binary_logloss: 0.0198978\tvalid_0's binary_logloss: 0.83982\n",
      "[60]\ttraining's binary_logloss: 0.00511738\tvalid_0's binary_logloss: 0.795783\n",
      "[80]\ttraining's binary_logloss: 0.00183147\tvalid_0's binary_logloss: 0.859077\n",
      "[100]\ttraining's binary_logloss: 0.00105868\tvalid_0's binary_logloss: 0.854503\n",
      "Done!product_72 \n",
      "\n"
     ]
    },
    {
     "name": "stderr",
     "output_type": "stream",
     "text": [
      "/opt/conda/lib/python3.7/site-packages/ipykernel_launcher.py:2: FutureWarning: In a future version of pandas all arguments of DataFrame.drop except for the argument 'labels' will be keyword-only\n",
      "  \n",
      "/opt/conda/lib/python3.7/site-packages/ipykernel_launcher.py:3: FutureWarning: In a future version of pandas all arguments of DataFrame.drop except for the argument 'labels' will be keyword-only\n",
      "  This is separate from the ipykernel package so we can avoid doing imports until\n",
      "/opt/conda/lib/python3.7/site-packages/lightgbm/sklearn.py:736: UserWarning: 'verbose' argument is deprecated and will be removed in a future release of LightGBM. Pass 'log_evaluation()' callback via 'callbacks' argument instead.\n",
      "  _log_warning(\"'verbose' argument is deprecated and will be removed in a future release of LightGBM. \"\n"
     ]
    },
    {
     "name": "stdout",
     "output_type": "stream",
     "text": [
      "[20]\ttraining's binary_logloss: 0.0952473\tvalid_0's binary_logloss: 0.741009\n",
      "[40]\ttraining's binary_logloss: 0.0201627\tvalid_0's binary_logloss: 0.832713\n",
      "[60]\ttraining's binary_logloss: 0.00545145\tvalid_0's binary_logloss: 0.842708\n",
      "[80]\ttraining's binary_logloss: 0.00205033\tvalid_0's binary_logloss: 0.764512\n",
      "[100]\ttraining's binary_logloss: 0.00125664\tvalid_0's binary_logloss: 0.646875\n",
      "Done!product_73 \n",
      "\n"
     ]
    },
    {
     "name": "stderr",
     "output_type": "stream",
     "text": [
      "/opt/conda/lib/python3.7/site-packages/ipykernel_launcher.py:2: FutureWarning: In a future version of pandas all arguments of DataFrame.drop except for the argument 'labels' will be keyword-only\n",
      "  \n",
      "/opt/conda/lib/python3.7/site-packages/ipykernel_launcher.py:3: FutureWarning: In a future version of pandas all arguments of DataFrame.drop except for the argument 'labels' will be keyword-only\n",
      "  This is separate from the ipykernel package so we can avoid doing imports until\n",
      "/opt/conda/lib/python3.7/site-packages/lightgbm/sklearn.py:736: UserWarning: 'verbose' argument is deprecated and will be removed in a future release of LightGBM. Pass 'log_evaluation()' callback via 'callbacks' argument instead.\n",
      "  _log_warning(\"'verbose' argument is deprecated and will be removed in a future release of LightGBM. \"\n"
     ]
    },
    {
     "name": "stdout",
     "output_type": "stream",
     "text": [
      "[20]\ttraining's binary_logloss: 0.0997672\tvalid_0's binary_logloss: 0.322697\n",
      "[40]\ttraining's binary_logloss: 0.0210635\tvalid_0's binary_logloss: 0.342337\n",
      "[60]\ttraining's binary_logloss: 0.00596823\tvalid_0's binary_logloss: 0.336131\n",
      "[80]\ttraining's binary_logloss: 0.0027869\tvalid_0's binary_logloss: 0.338416\n",
      "[100]\ttraining's binary_logloss: 0.00203844\tvalid_0's binary_logloss: 0.273556\n",
      "Done!product_74 \n",
      "\n"
     ]
    },
    {
     "name": "stderr",
     "output_type": "stream",
     "text": [
      "/opt/conda/lib/python3.7/site-packages/ipykernel_launcher.py:2: FutureWarning: In a future version of pandas all arguments of DataFrame.drop except for the argument 'labels' will be keyword-only\n",
      "  \n",
      "/opt/conda/lib/python3.7/site-packages/ipykernel_launcher.py:3: FutureWarning: In a future version of pandas all arguments of DataFrame.drop except for the argument 'labels' will be keyword-only\n",
      "  This is separate from the ipykernel package so we can avoid doing imports until\n",
      "/opt/conda/lib/python3.7/site-packages/lightgbm/sklearn.py:736: UserWarning: 'verbose' argument is deprecated and will be removed in a future release of LightGBM. Pass 'log_evaluation()' callback via 'callbacks' argument instead.\n",
      "  _log_warning(\"'verbose' argument is deprecated and will be removed in a future release of LightGBM. \"\n"
     ]
    },
    {
     "name": "stdout",
     "output_type": "stream",
     "text": [
      "[20]\ttraining's binary_logloss: 0.100847\tvalid_0's binary_logloss: 0.236364\n",
      "[40]\ttraining's binary_logloss: 0.0213584\tvalid_0's binary_logloss: 0.149384\n",
      "[60]\ttraining's binary_logloss: 0.00603675\tvalid_0's binary_logloss: 0.103654\n",
      "[80]\ttraining's binary_logloss: 0.00238512\tvalid_0's binary_logloss: 0.0936559\n",
      "[100]\ttraining's binary_logloss: 0.00148295\tvalid_0's binary_logloss: 0.080125\n",
      "Done!product_75 \n",
      "\n"
     ]
    },
    {
     "name": "stderr",
     "output_type": "stream",
     "text": [
      "/opt/conda/lib/python3.7/site-packages/ipykernel_launcher.py:2: FutureWarning: In a future version of pandas all arguments of DataFrame.drop except for the argument 'labels' will be keyword-only\n",
      "  \n",
      "/opt/conda/lib/python3.7/site-packages/ipykernel_launcher.py:3: FutureWarning: In a future version of pandas all arguments of DataFrame.drop except for the argument 'labels' will be keyword-only\n",
      "  This is separate from the ipykernel package so we can avoid doing imports until\n",
      "/opt/conda/lib/python3.7/site-packages/lightgbm/sklearn.py:736: UserWarning: 'verbose' argument is deprecated and will be removed in a future release of LightGBM. Pass 'log_evaluation()' callback via 'callbacks' argument instead.\n",
      "  _log_warning(\"'verbose' argument is deprecated and will be removed in a future release of LightGBM. \"\n"
     ]
    },
    {
     "name": "stdout",
     "output_type": "stream",
     "text": [
      "[20]\ttraining's binary_logloss: 0.101075\tvalid_0's binary_logloss: 0.282475\n",
      "[40]\ttraining's binary_logloss: 0.0213073\tvalid_0's binary_logloss: 0.298351\n",
      "[60]\ttraining's binary_logloss: 0.00607522\tvalid_0's binary_logloss: 0.349261\n",
      "[80]\ttraining's binary_logloss: 0.00274472\tvalid_0's binary_logloss: 0.382254\n",
      "[100]\ttraining's binary_logloss: 0.0019039\tvalid_0's binary_logloss: 0.333653\n",
      "Done!product_76 \n",
      "\n"
     ]
    },
    {
     "name": "stderr",
     "output_type": "stream",
     "text": [
      "/opt/conda/lib/python3.7/site-packages/ipykernel_launcher.py:2: FutureWarning: In a future version of pandas all arguments of DataFrame.drop except for the argument 'labels' will be keyword-only\n",
      "  \n",
      "/opt/conda/lib/python3.7/site-packages/ipykernel_launcher.py:3: FutureWarning: In a future version of pandas all arguments of DataFrame.drop except for the argument 'labels' will be keyword-only\n",
      "  This is separate from the ipykernel package so we can avoid doing imports until\n",
      "/opt/conda/lib/python3.7/site-packages/lightgbm/sklearn.py:736: UserWarning: 'verbose' argument is deprecated and will be removed in a future release of LightGBM. Pass 'log_evaluation()' callback via 'callbacks' argument instead.\n",
      "  _log_warning(\"'verbose' argument is deprecated and will be removed in a future release of LightGBM. \"\n"
     ]
    },
    {
     "name": "stdout",
     "output_type": "stream",
     "text": [
      "[20]\ttraining's binary_logloss: 0.0921526\tvalid_0's binary_logloss: 0.516615\n",
      "[40]\ttraining's binary_logloss: 0.0207363\tvalid_0's binary_logloss: 0.368919\n",
      "[60]\ttraining's binary_logloss: 0.00562436\tvalid_0's binary_logloss: 0.27968\n",
      "[80]\ttraining's binary_logloss: 0.00199458\tvalid_0's binary_logloss: 0.2214\n",
      "[100]\ttraining's binary_logloss: 0.00107192\tvalid_0's binary_logloss: 0.248184\n",
      "Done!product_77 \n",
      "\n"
     ]
    },
    {
     "name": "stderr",
     "output_type": "stream",
     "text": [
      "/opt/conda/lib/python3.7/site-packages/ipykernel_launcher.py:2: FutureWarning: In a future version of pandas all arguments of DataFrame.drop except for the argument 'labels' will be keyword-only\n",
      "  \n",
      "/opt/conda/lib/python3.7/site-packages/ipykernel_launcher.py:3: FutureWarning: In a future version of pandas all arguments of DataFrame.drop except for the argument 'labels' will be keyword-only\n",
      "  This is separate from the ipykernel package so we can avoid doing imports until\n",
      "/opt/conda/lib/python3.7/site-packages/lightgbm/sklearn.py:736: UserWarning: 'verbose' argument is deprecated and will be removed in a future release of LightGBM. Pass 'log_evaluation()' callback via 'callbacks' argument instead.\n",
      "  _log_warning(\"'verbose' argument is deprecated and will be removed in a future release of LightGBM. \"\n"
     ]
    },
    {
     "name": "stdout",
     "output_type": "stream",
     "text": [
      "[20]\ttraining's binary_logloss: 0.100268\tvalid_0's binary_logloss: 0.391847\n",
      "[40]\ttraining's binary_logloss: 0.0214172\tvalid_0's binary_logloss: 0.438843\n",
      "[60]\ttraining's binary_logloss: 0.00616193\tvalid_0's binary_logloss: 0.533566\n",
      "[80]\ttraining's binary_logloss: 0.00286604\tvalid_0's binary_logloss: 0.518252\n",
      "[100]\ttraining's binary_logloss: 0.00214664\tvalid_0's binary_logloss: 0.480144\n",
      "Done!product_78 \n",
      "\n"
     ]
    },
    {
     "name": "stderr",
     "output_type": "stream",
     "text": [
      "/opt/conda/lib/python3.7/site-packages/ipykernel_launcher.py:2: FutureWarning: In a future version of pandas all arguments of DataFrame.drop except for the argument 'labels' will be keyword-only\n",
      "  \n",
      "/opt/conda/lib/python3.7/site-packages/ipykernel_launcher.py:3: FutureWarning: In a future version of pandas all arguments of DataFrame.drop except for the argument 'labels' will be keyword-only\n",
      "  This is separate from the ipykernel package so we can avoid doing imports until\n",
      "/opt/conda/lib/python3.7/site-packages/lightgbm/sklearn.py:736: UserWarning: 'verbose' argument is deprecated and will be removed in a future release of LightGBM. Pass 'log_evaluation()' callback via 'callbacks' argument instead.\n",
      "  _log_warning(\"'verbose' argument is deprecated and will be removed in a future release of LightGBM. \"\n"
     ]
    },
    {
     "name": "stdout",
     "output_type": "stream",
     "text": [
      "[20]\ttraining's binary_logloss: 0.0933994\tvalid_0's binary_logloss: 0.526546\n",
      "[40]\ttraining's binary_logloss: 0.0196336\tvalid_0's binary_logloss: 0.5265\n",
      "[60]\ttraining's binary_logloss: 0.00490634\tvalid_0's binary_logloss: 0.568512\n",
      "[80]\ttraining's binary_logloss: 0.00186237\tvalid_0's binary_logloss: 0.543527\n",
      "[100]\ttraining's binary_logloss: 0.00115791\tvalid_0's binary_logloss: 0.473777\n",
      "Done!product_79 \n",
      "\n"
     ]
    },
    {
     "name": "stderr",
     "output_type": "stream",
     "text": [
      "/opt/conda/lib/python3.7/site-packages/ipykernel_launcher.py:2: FutureWarning: In a future version of pandas all arguments of DataFrame.drop except for the argument 'labels' will be keyword-only\n",
      "  \n",
      "/opt/conda/lib/python3.7/site-packages/ipykernel_launcher.py:3: FutureWarning: In a future version of pandas all arguments of DataFrame.drop except for the argument 'labels' will be keyword-only\n",
      "  This is separate from the ipykernel package so we can avoid doing imports until\n",
      "/opt/conda/lib/python3.7/site-packages/lightgbm/sklearn.py:736: UserWarning: 'verbose' argument is deprecated and will be removed in a future release of LightGBM. Pass 'log_evaluation()' callback via 'callbacks' argument instead.\n",
      "  _log_warning(\"'verbose' argument is deprecated and will be removed in a future release of LightGBM. \"\n"
     ]
    },
    {
     "name": "stdout",
     "output_type": "stream",
     "text": [
      "[20]\ttraining's binary_logloss: 0.108757\tvalid_0's binary_logloss: 0.307908\n",
      "[40]\ttraining's binary_logloss: 0.0246998\tvalid_0's binary_logloss: 0.367219\n",
      "[60]\ttraining's binary_logloss: 0.00722762\tvalid_0's binary_logloss: 0.421132\n",
      "[80]\ttraining's binary_logloss: 0.0029004\tvalid_0's binary_logloss: 0.468374\n",
      "[100]\ttraining's binary_logloss: 0.0017256\tvalid_0's binary_logloss: 0.508957\n",
      "Done!product_80 \n",
      "\n"
     ]
    },
    {
     "name": "stderr",
     "output_type": "stream",
     "text": [
      "/opt/conda/lib/python3.7/site-packages/ipykernel_launcher.py:2: FutureWarning: In a future version of pandas all arguments of DataFrame.drop except for the argument 'labels' will be keyword-only\n",
      "  \n",
      "/opt/conda/lib/python3.7/site-packages/ipykernel_launcher.py:3: FutureWarning: In a future version of pandas all arguments of DataFrame.drop except for the argument 'labels' will be keyword-only\n",
      "  This is separate from the ipykernel package so we can avoid doing imports until\n",
      "/opt/conda/lib/python3.7/site-packages/lightgbm/sklearn.py:736: UserWarning: 'verbose' argument is deprecated and will be removed in a future release of LightGBM. Pass 'log_evaluation()' callback via 'callbacks' argument instead.\n",
      "  _log_warning(\"'verbose' argument is deprecated and will be removed in a future release of LightGBM. \"\n"
     ]
    },
    {
     "name": "stdout",
     "output_type": "stream",
     "text": [
      "[20]\ttraining's binary_logloss: 0.105593\tvalid_0's binary_logloss: 0.259578\n",
      "[40]\ttraining's binary_logloss: 0.0228086\tvalid_0's binary_logloss: 0.204003\n",
      "[60]\ttraining's binary_logloss: 0.00602604\tvalid_0's binary_logloss: 0.186347\n",
      "[80]\ttraining's binary_logloss: 0.00211596\tvalid_0's binary_logloss: 0.154468\n",
      "[100]\ttraining's binary_logloss: 0.00111359\tvalid_0's binary_logloss: 0.126535\n",
      "Done!product_81 \n",
      "\n"
     ]
    },
    {
     "name": "stderr",
     "output_type": "stream",
     "text": [
      "/opt/conda/lib/python3.7/site-packages/ipykernel_launcher.py:2: FutureWarning: In a future version of pandas all arguments of DataFrame.drop except for the argument 'labels' will be keyword-only\n",
      "  \n",
      "/opt/conda/lib/python3.7/site-packages/ipykernel_launcher.py:3: FutureWarning: In a future version of pandas all arguments of DataFrame.drop except for the argument 'labels' will be keyword-only\n",
      "  This is separate from the ipykernel package so we can avoid doing imports until\n",
      "/opt/conda/lib/python3.7/site-packages/lightgbm/sklearn.py:736: UserWarning: 'verbose' argument is deprecated and will be removed in a future release of LightGBM. Pass 'log_evaluation()' callback via 'callbacks' argument instead.\n",
      "  _log_warning(\"'verbose' argument is deprecated and will be removed in a future release of LightGBM. \"\n"
     ]
    },
    {
     "name": "stdout",
     "output_type": "stream",
     "text": [
      "[20]\ttraining's binary_logloss: 0.101667\tvalid_0's binary_logloss: 0.48335\n",
      "[40]\ttraining's binary_logloss: 0.0248031\tvalid_0's binary_logloss: 0.60555\n",
      "[60]\ttraining's binary_logloss: 0.00760044\tvalid_0's binary_logloss: 0.564323\n",
      "[80]\ttraining's binary_logloss: 0.00325529\tvalid_0's binary_logloss: 0.553418\n",
      "[100]\ttraining's binary_logloss: 0.00211869\tvalid_0's binary_logloss: 0.503795\n",
      "Done!product_82 \n",
      "\n"
     ]
    },
    {
     "name": "stderr",
     "output_type": "stream",
     "text": [
      "/opt/conda/lib/python3.7/site-packages/ipykernel_launcher.py:2: FutureWarning: In a future version of pandas all arguments of DataFrame.drop except for the argument 'labels' will be keyword-only\n",
      "  \n",
      "/opt/conda/lib/python3.7/site-packages/ipykernel_launcher.py:3: FutureWarning: In a future version of pandas all arguments of DataFrame.drop except for the argument 'labels' will be keyword-only\n",
      "  This is separate from the ipykernel package so we can avoid doing imports until\n",
      "/opt/conda/lib/python3.7/site-packages/lightgbm/sklearn.py:736: UserWarning: 'verbose' argument is deprecated and will be removed in a future release of LightGBM. Pass 'log_evaluation()' callback via 'callbacks' argument instead.\n",
      "  _log_warning(\"'verbose' argument is deprecated and will be removed in a future release of LightGBM. \"\n"
     ]
    },
    {
     "name": "stdout",
     "output_type": "stream",
     "text": [
      "[20]\ttraining's binary_logloss: 0.100826\tvalid_0's binary_logloss: 0.397915\n",
      "[40]\ttraining's binary_logloss: 0.0221409\tvalid_0's binary_logloss: 0.315898\n",
      "[60]\ttraining's binary_logloss: 0.00639351\tvalid_0's binary_logloss: 0.369078\n",
      "[80]\ttraining's binary_logloss: 0.00293795\tvalid_0's binary_logloss: 0.377202\n",
      "[100]\ttraining's binary_logloss: 0.00209042\tvalid_0's binary_logloss: 0.404827\n",
      "Done!product_83 \n",
      "\n"
     ]
    },
    {
     "name": "stderr",
     "output_type": "stream",
     "text": [
      "/opt/conda/lib/python3.7/site-packages/ipykernel_launcher.py:2: FutureWarning: In a future version of pandas all arguments of DataFrame.drop except for the argument 'labels' will be keyword-only\n",
      "  \n",
      "/opt/conda/lib/python3.7/site-packages/ipykernel_launcher.py:3: FutureWarning: In a future version of pandas all arguments of DataFrame.drop except for the argument 'labels' will be keyword-only\n",
      "  This is separate from the ipykernel package so we can avoid doing imports until\n",
      "/opt/conda/lib/python3.7/site-packages/lightgbm/sklearn.py:736: UserWarning: 'verbose' argument is deprecated and will be removed in a future release of LightGBM. Pass 'log_evaluation()' callback via 'callbacks' argument instead.\n",
      "  _log_warning(\"'verbose' argument is deprecated and will be removed in a future release of LightGBM. \"\n"
     ]
    },
    {
     "name": "stdout",
     "output_type": "stream",
     "text": [
      "[20]\ttraining's binary_logloss: 0.10084\tvalid_0's binary_logloss: 0.15587\n",
      "[40]\ttraining's binary_logloss: 0.0228785\tvalid_0's binary_logloss: 0.0895212\n",
      "[60]\ttraining's binary_logloss: 0.00619734\tvalid_0's binary_logloss: 0.0831509\n",
      "[80]\ttraining's binary_logloss: 0.00252602\tvalid_0's binary_logloss: 0.0908537\n",
      "[100]\ttraining's binary_logloss: 0.00167849\tvalid_0's binary_logloss: 0.0724096\n",
      "Done!product_84 \n",
      "\n"
     ]
    },
    {
     "name": "stderr",
     "output_type": "stream",
     "text": [
      "/opt/conda/lib/python3.7/site-packages/ipykernel_launcher.py:2: FutureWarning: In a future version of pandas all arguments of DataFrame.drop except for the argument 'labels' will be keyword-only\n",
      "  \n",
      "/opt/conda/lib/python3.7/site-packages/ipykernel_launcher.py:3: FutureWarning: In a future version of pandas all arguments of DataFrame.drop except for the argument 'labels' will be keyword-only\n",
      "  This is separate from the ipykernel package so we can avoid doing imports until\n",
      "/opt/conda/lib/python3.7/site-packages/lightgbm/sklearn.py:736: UserWarning: 'verbose' argument is deprecated and will be removed in a future release of LightGBM. Pass 'log_evaluation()' callback via 'callbacks' argument instead.\n",
      "  _log_warning(\"'verbose' argument is deprecated and will be removed in a future release of LightGBM. \"\n"
     ]
    },
    {
     "name": "stdout",
     "output_type": "stream",
     "text": [
      "[20]\ttraining's binary_logloss: 0.10105\tvalid_0's binary_logloss: 0.253121\n",
      "[40]\ttraining's binary_logloss: 0.0230668\tvalid_0's binary_logloss: 0.162097\n",
      "[60]\ttraining's binary_logloss: 0.00799309\tvalid_0's binary_logloss: 0.145979\n",
      "[80]\ttraining's binary_logloss: 0.00480132\tvalid_0's binary_logloss: 0.137605\n",
      "[100]\ttraining's binary_logloss: 0.00404602\tvalid_0's binary_logloss: 0.103687\n",
      "Done!product_85 \n",
      "\n"
     ]
    },
    {
     "name": "stderr",
     "output_type": "stream",
     "text": [
      "/opt/conda/lib/python3.7/site-packages/ipykernel_launcher.py:2: FutureWarning: In a future version of pandas all arguments of DataFrame.drop except for the argument 'labels' will be keyword-only\n",
      "  \n",
      "/opt/conda/lib/python3.7/site-packages/ipykernel_launcher.py:3: FutureWarning: In a future version of pandas all arguments of DataFrame.drop except for the argument 'labels' will be keyword-only\n",
      "  This is separate from the ipykernel package so we can avoid doing imports until\n",
      "/opt/conda/lib/python3.7/site-packages/lightgbm/sklearn.py:736: UserWarning: 'verbose' argument is deprecated and will be removed in a future release of LightGBM. Pass 'log_evaluation()' callback via 'callbacks' argument instead.\n",
      "  _log_warning(\"'verbose' argument is deprecated and will be removed in a future release of LightGBM. \"\n"
     ]
    },
    {
     "name": "stdout",
     "output_type": "stream",
     "text": [
      "[20]\ttraining's binary_logloss: 0.0896679\tvalid_0's binary_logloss: 0.949731\n",
      "[40]\ttraining's binary_logloss: 0.0199805\tvalid_0's binary_logloss: 1.15281\n",
      "[60]\ttraining's binary_logloss: 0.00717459\tvalid_0's binary_logloss: 1.64886\n",
      "[80]\ttraining's binary_logloss: 0.00440179\tvalid_0's binary_logloss: 1.68009\n",
      "[100]\ttraining's binary_logloss: 0.00372684\tvalid_0's binary_logloss: 1.49742\n",
      "Done!product_86 \n",
      "\n"
     ]
    },
    {
     "name": "stderr",
     "output_type": "stream",
     "text": [
      "/opt/conda/lib/python3.7/site-packages/ipykernel_launcher.py:2: FutureWarning: In a future version of pandas all arguments of DataFrame.drop except for the argument 'labels' will be keyword-only\n",
      "  \n",
      "/opt/conda/lib/python3.7/site-packages/ipykernel_launcher.py:3: FutureWarning: In a future version of pandas all arguments of DataFrame.drop except for the argument 'labels' will be keyword-only\n",
      "  This is separate from the ipykernel package so we can avoid doing imports until\n",
      "/opt/conda/lib/python3.7/site-packages/lightgbm/sklearn.py:736: UserWarning: 'verbose' argument is deprecated and will be removed in a future release of LightGBM. Pass 'log_evaluation()' callback via 'callbacks' argument instead.\n",
      "  _log_warning(\"'verbose' argument is deprecated and will be removed in a future release of LightGBM. \"\n"
     ]
    },
    {
     "name": "stdout",
     "output_type": "stream",
     "text": [
      "[20]\ttraining's binary_logloss: 0.0913386\tvalid_0's binary_logloss: 1.11969\n",
      "[40]\ttraining's binary_logloss: 0.0213985\tvalid_0's binary_logloss: 1.35461\n",
      "[60]\ttraining's binary_logloss: 0.00700835\tvalid_0's binary_logloss: 1.85564\n",
      "[80]\ttraining's binary_logloss: 0.00359173\tvalid_0's binary_logloss: 1.71771\n",
      "[100]\ttraining's binary_logloss: 0.00267227\tvalid_0's binary_logloss: 1.75846\n",
      "Done!product_87 \n",
      "\n"
     ]
    },
    {
     "name": "stderr",
     "output_type": "stream",
     "text": [
      "/opt/conda/lib/python3.7/site-packages/ipykernel_launcher.py:2: FutureWarning: In a future version of pandas all arguments of DataFrame.drop except for the argument 'labels' will be keyword-only\n",
      "  \n",
      "/opt/conda/lib/python3.7/site-packages/ipykernel_launcher.py:3: FutureWarning: In a future version of pandas all arguments of DataFrame.drop except for the argument 'labels' will be keyword-only\n",
      "  This is separate from the ipykernel package so we can avoid doing imports until\n",
      "/opt/conda/lib/python3.7/site-packages/lightgbm/sklearn.py:736: UserWarning: 'verbose' argument is deprecated and will be removed in a future release of LightGBM. Pass 'log_evaluation()' callback via 'callbacks' argument instead.\n",
      "  _log_warning(\"'verbose' argument is deprecated and will be removed in a future release of LightGBM. \"\n"
     ]
    },
    {
     "name": "stdout",
     "output_type": "stream",
     "text": [
      "[20]\ttraining's binary_logloss: 0.0959866\tvalid_0's binary_logloss: 0.888226\n",
      "[40]\ttraining's binary_logloss: 0.0221914\tvalid_0's binary_logloss: 1.11211\n",
      "[60]\ttraining's binary_logloss: 0.00668903\tvalid_0's binary_logloss: 1.81693\n",
      "[80]\ttraining's binary_logloss: 0.00336755\tvalid_0's binary_logloss: 1.92867\n",
      "[100]\ttraining's binary_logloss: 0.00258113\tvalid_0's binary_logloss: 1.7142\n",
      "Done!product_88 \n",
      "\n"
     ]
    },
    {
     "name": "stderr",
     "output_type": "stream",
     "text": [
      "/opt/conda/lib/python3.7/site-packages/ipykernel_launcher.py:2: FutureWarning: In a future version of pandas all arguments of DataFrame.drop except for the argument 'labels' will be keyword-only\n",
      "  \n",
      "/opt/conda/lib/python3.7/site-packages/ipykernel_launcher.py:3: FutureWarning: In a future version of pandas all arguments of DataFrame.drop except for the argument 'labels' will be keyword-only\n",
      "  This is separate from the ipykernel package so we can avoid doing imports until\n",
      "/opt/conda/lib/python3.7/site-packages/lightgbm/sklearn.py:736: UserWarning: 'verbose' argument is deprecated and will be removed in a future release of LightGBM. Pass 'log_evaluation()' callback via 'callbacks' argument instead.\n",
      "  _log_warning(\"'verbose' argument is deprecated and will be removed in a future release of LightGBM. \"\n"
     ]
    },
    {
     "name": "stdout",
     "output_type": "stream",
     "text": [
      "[20]\ttraining's binary_logloss: 0.0940804\tvalid_0's binary_logloss: 0.40827\n",
      "[40]\ttraining's binary_logloss: 0.0218844\tvalid_0's binary_logloss: 0.278971\n",
      "[60]\ttraining's binary_logloss: 0.00709363\tvalid_0's binary_logloss: 0.207262\n",
      "[80]\ttraining's binary_logloss: 0.00327753\tvalid_0's binary_logloss: 0.165422\n",
      "[100]\ttraining's binary_logloss: 0.00226324\tvalid_0's binary_logloss: 0.12864\n",
      "Done!product_89 \n",
      "\n"
     ]
    },
    {
     "name": "stderr",
     "output_type": "stream",
     "text": [
      "/opt/conda/lib/python3.7/site-packages/ipykernel_launcher.py:2: FutureWarning: In a future version of pandas all arguments of DataFrame.drop except for the argument 'labels' will be keyword-only\n",
      "  \n",
      "/opt/conda/lib/python3.7/site-packages/ipykernel_launcher.py:3: FutureWarning: In a future version of pandas all arguments of DataFrame.drop except for the argument 'labels' will be keyword-only\n",
      "  This is separate from the ipykernel package so we can avoid doing imports until\n",
      "/opt/conda/lib/python3.7/site-packages/lightgbm/sklearn.py:736: UserWarning: 'verbose' argument is deprecated and will be removed in a future release of LightGBM. Pass 'log_evaluation()' callback via 'callbacks' argument instead.\n",
      "  _log_warning(\"'verbose' argument is deprecated and will be removed in a future release of LightGBM. \"\n"
     ]
    },
    {
     "name": "stdout",
     "output_type": "stream",
     "text": [
      "[20]\ttraining's binary_logloss: 0.0914182\tvalid_0's binary_logloss: 1.08393\n",
      "[40]\ttraining's binary_logloss: 0.0219863\tvalid_0's binary_logloss: 1.44854\n",
      "[60]\ttraining's binary_logloss: 0.00750975\tvalid_0's binary_logloss: 2.11127\n",
      "[80]\ttraining's binary_logloss: 0.00398683\tvalid_0's binary_logloss: 2.22299\n",
      "[100]\ttraining's binary_logloss: 0.00301025\tvalid_0's binary_logloss: 2.09283\n",
      "Done!product_90 \n",
      "\n"
     ]
    },
    {
     "name": "stderr",
     "output_type": "stream",
     "text": [
      "/opt/conda/lib/python3.7/site-packages/ipykernel_launcher.py:2: FutureWarning: In a future version of pandas all arguments of DataFrame.drop except for the argument 'labels' will be keyword-only\n",
      "  \n",
      "/opt/conda/lib/python3.7/site-packages/ipykernel_launcher.py:3: FutureWarning: In a future version of pandas all arguments of DataFrame.drop except for the argument 'labels' will be keyword-only\n",
      "  This is separate from the ipykernel package so we can avoid doing imports until\n",
      "/opt/conda/lib/python3.7/site-packages/lightgbm/sklearn.py:736: UserWarning: 'verbose' argument is deprecated and will be removed in a future release of LightGBM. Pass 'log_evaluation()' callback via 'callbacks' argument instead.\n",
      "  _log_warning(\"'verbose' argument is deprecated and will be removed in a future release of LightGBM. \"\n"
     ]
    },
    {
     "name": "stdout",
     "output_type": "stream",
     "text": [
      "[20]\ttraining's binary_logloss: 0.103236\tvalid_0's binary_logloss: 0.988422\n",
      "[40]\ttraining's binary_logloss: 0.0277357\tvalid_0's binary_logloss: 1.21949\n",
      "[60]\ttraining's binary_logloss: 0.00913957\tvalid_0's binary_logloss: 1.50144\n",
      "[80]\ttraining's binary_logloss: 0.00433234\tvalid_0's binary_logloss: 1.70588\n",
      "[100]\ttraining's binary_logloss: 0.00286638\tvalid_0's binary_logloss: 1.81602\n",
      "Done!product_91 \n",
      "\n"
     ]
    },
    {
     "name": "stderr",
     "output_type": "stream",
     "text": [
      "/opt/conda/lib/python3.7/site-packages/ipykernel_launcher.py:2: FutureWarning: In a future version of pandas all arguments of DataFrame.drop except for the argument 'labels' will be keyword-only\n",
      "  \n",
      "/opt/conda/lib/python3.7/site-packages/ipykernel_launcher.py:3: FutureWarning: In a future version of pandas all arguments of DataFrame.drop except for the argument 'labels' will be keyword-only\n",
      "  This is separate from the ipykernel package so we can avoid doing imports until\n",
      "/opt/conda/lib/python3.7/site-packages/lightgbm/sklearn.py:736: UserWarning: 'verbose' argument is deprecated and will be removed in a future release of LightGBM. Pass 'log_evaluation()' callback via 'callbacks' argument instead.\n",
      "  _log_warning(\"'verbose' argument is deprecated and will be removed in a future release of LightGBM. \"\n"
     ]
    },
    {
     "name": "stdout",
     "output_type": "stream",
     "text": [
      "[20]\ttraining's binary_logloss: 0.096134\tvalid_0's binary_logloss: 1.3884\n",
      "[40]\ttraining's binary_logloss: 0.0253081\tvalid_0's binary_logloss: 1.99239\n",
      "[60]\ttraining's binary_logloss: 0.00845163\tvalid_0's binary_logloss: 1.79982\n",
      "[80]\ttraining's binary_logloss: 0.00387576\tvalid_0's binary_logloss: 1.78892\n",
      "[100]\ttraining's binary_logloss: 0.0024913\tvalid_0's binary_logloss: 1.77157\n",
      "Done!product_92 \n",
      "\n"
     ]
    }
   ],
   "source": [
    "for i in products.keys():\n",
    "    product_name = i\n",
    "    df = products[i]\n",
    "    X_train, X_test, y_train, y_test, X = process_data(df)\n",
    "    model_training(X_train, X_test, y_train , y_test, product_name)\n",
    "    print('Done!{}'.format(product_name) , '\\n')"
   ]
  },
  {
   "cell_type": "code",
   "execution_count": 11,
   "id": "fd34de17",
   "metadata": {
    "execution": {
     "iopub.execute_input": "2022-09-16T23:07:20.465361Z",
     "iopub.status.busy": "2022-09-16T23:07:20.464826Z",
     "iopub.status.idle": "2022-09-16T23:07:20.472944Z",
     "shell.execute_reply": "2022-09-16T23:07:20.471576Z"
    },
    "papermill": {
     "duration": 0.069758,
     "end_time": "2022-09-16T23:07:20.475603",
     "exception": false,
     "start_time": "2022-09-16T23:07:20.405845",
     "status": "completed"
    },
    "tags": []
   },
   "outputs": [
    {
     "data": {
      "text/plain": [
       "7.480327129364014"
      ]
     },
     "execution_count": 11,
     "metadata": {},
     "output_type": "execute_result"
    }
   ],
   "source": [
    "time_dict['product_1']"
   ]
  },
  {
   "cell_type": "code",
   "execution_count": 12,
   "id": "1987754b",
   "metadata": {
    "execution": {
     "iopub.execute_input": "2022-09-16T23:07:20.585957Z",
     "iopub.status.busy": "2022-09-16T23:07:20.585549Z",
     "iopub.status.idle": "2022-09-16T23:07:20.600640Z",
     "shell.execute_reply": "2022-09-16T23:07:20.599418Z"
    },
    "papermill": {
     "duration": 0.073157,
     "end_time": "2022-09-16T23:07:20.602889",
     "exception": false,
     "start_time": "2022-09-16T23:07:20.529732",
     "status": "completed"
    },
    "tags": []
   },
   "outputs": [
    {
     "data": {
      "text/html": [
       "<div>\n",
       "<style scoped>\n",
       "    .dataframe tbody tr th:only-of-type {\n",
       "        vertical-align: middle;\n",
       "    }\n",
       "\n",
       "    .dataframe tbody tr th {\n",
       "        vertical-align: top;\n",
       "    }\n",
       "\n",
       "    .dataframe thead th {\n",
       "        text-align: right;\n",
       "    }\n",
       "</style>\n",
       "<table border=\"1\" class=\"dataframe\">\n",
       "  <thead>\n",
       "    <tr style=\"text-align: right;\">\n",
       "      <th></th>\n",
       "      <th>Value</th>\n",
       "      <th>Feature</th>\n",
       "    </tr>\n",
       "  </thead>\n",
       "  <tbody>\n",
       "    <tr>\n",
       "      <th>0</th>\n",
       "      <td>0</td>\n",
       "      <td>L0_S0_D11</td>\n",
       "    </tr>\n",
       "    <tr>\n",
       "      <th>1</th>\n",
       "      <td>0</td>\n",
       "      <td>L0_S0_D13</td>\n",
       "    </tr>\n",
       "    <tr>\n",
       "      <th>2</th>\n",
       "      <td>0</td>\n",
       "      <td>L0_S0_D15</td>\n",
       "    </tr>\n",
       "    <tr>\n",
       "      <th>3</th>\n",
       "      <td>0</td>\n",
       "      <td>L0_S0_D17</td>\n",
       "    </tr>\n",
       "    <tr>\n",
       "      <th>4</th>\n",
       "      <td>0</td>\n",
       "      <td>L0_S0_D19</td>\n",
       "    </tr>\n",
       "    <tr>\n",
       "      <th>...</th>\n",
       "      <td>...</td>\n",
       "      <td>...</td>\n",
       "    </tr>\n",
       "    <tr>\n",
       "      <th>419</th>\n",
       "      <td>71</td>\n",
       "      <td>L0_S0_F16</td>\n",
       "    </tr>\n",
       "    <tr>\n",
       "      <th>420</th>\n",
       "      <td>72</td>\n",
       "      <td>L0_S0_F8</td>\n",
       "    </tr>\n",
       "    <tr>\n",
       "      <th>421</th>\n",
       "      <td>79</td>\n",
       "      <td>L3_S29_F3357</td>\n",
       "    </tr>\n",
       "    <tr>\n",
       "      <th>422</th>\n",
       "      <td>82</td>\n",
       "      <td>L0_S6_F118</td>\n",
       "    </tr>\n",
       "    <tr>\n",
       "      <th>423</th>\n",
       "      <td>84</td>\n",
       "      <td>L3_S29_F3360</td>\n",
       "    </tr>\n",
       "  </tbody>\n",
       "</table>\n",
       "<p>424 rows × 2 columns</p>\n",
       "</div>"
      ],
      "text/plain": [
       "     Value       Feature\n",
       "0        0     L0_S0_D11\n",
       "1        0     L0_S0_D13\n",
       "2        0     L0_S0_D15\n",
       "3        0     L0_S0_D17\n",
       "4        0     L0_S0_D19\n",
       "..     ...           ...\n",
       "419     71     L0_S0_F16\n",
       "420     72      L0_S0_F8\n",
       "421     79  L3_S29_F3357\n",
       "422     82    L0_S6_F118\n",
       "423     84  L3_S29_F3360\n",
       "\n",
       "[424 rows x 2 columns]"
      ]
     },
     "execution_count": 12,
     "metadata": {},
     "output_type": "execute_result"
    }
   ],
   "source": [
    "feature_imp_dict['product_1']"
   ]
  },
  {
   "cell_type": "code",
   "execution_count": 13,
   "id": "528b6526",
   "metadata": {
    "execution": {
     "iopub.execute_input": "2022-09-16T23:07:20.718269Z",
     "iopub.status.busy": "2022-09-16T23:07:20.717766Z",
     "iopub.status.idle": "2022-09-16T23:07:20.736893Z",
     "shell.execute_reply": "2022-09-16T23:07:20.735385Z"
    },
    "papermill": {
     "duration": 0.08136,
     "end_time": "2022-09-16T23:07:20.739269",
     "exception": false,
     "start_time": "2022-09-16T23:07:20.657909",
     "status": "completed"
    },
    "tags": []
   },
   "outputs": [
    {
     "data": {
      "text/plain": [
       "{'product_1': [877, 1711, 0, 2530],\n",
       " 'product_2': [1016, 1487, 2, 2427],\n",
       " 'product_3': [1701, 911, 0, 2496],\n",
       " 'product_4': [292, 2305, 0, 2448],\n",
       " 'product_5': [1511, 1084, 0, 2552],\n",
       " 'product_6': [1566, 858, 0, 2451],\n",
       " 'product_7': [682, 11, 0, 683],\n",
       " 'product_8': [2071, 366, 0, 2431],\n",
       " 'product_9': [836, 1663, 0, 2427],\n",
       " 'product_10': [548, 3, 29, 474],\n",
       " 'product_11': [45, 4, 0, 37],\n",
       " 'product_12': [369, 3184, 0, 3487],\n",
       " 'product_13': [499, 2001, 0, 2434],\n",
       " 'product_14': [1247, 2386, 22, 3635],\n",
       " 'product_15': [1066, 1384, 3, 2493],\n",
       " 'product_16': [614, 1277, 4, 1886],\n",
       " 'product_17': [80, 2492, 0, 2439],\n",
       " 'product_18': [1120, 1433, 1, 2469],\n",
       " 'product_19': [2015, 443, 1, 2484],\n",
       " 'product_20': [503, 1, 4, 473],\n",
       " 'product_21': [785, 1801, 2, 2502],\n",
       " 'product_22': [711, 1838, 0, 2495],\n",
       " 'product_23': [1412, 443, 1, 1842],\n",
       " 'product_24': [925, 1549, 0, 2467],\n",
       " 'product_25': [465, 2027, 0, 2481],\n",
       " 'product_26': [719, 1770, 0, 2443],\n",
       " 'product_27': [1878, 712, 0, 2511],\n",
       " 'product_28': [1656, 736, 1, 2438],\n",
       " 'product_29': [536, 110, 3, 615],\n",
       " 'product_30': [1054, 1525, 0, 2443],\n",
       " 'product_31': [1640, 247, 0, 1870],\n",
       " 'product_32': [1875, 16, 2, 1862],\n",
       " 'product_33': [2258, 245, 2, 2459],\n",
       " 'product_34': [259, 204, 4, 444],\n",
       " 'product_35': [1583, 323, 0, 1837],\n",
       " 'product_36': [1790, 39, 0, 1810],\n",
       " 'product_37': [1660, 297, 5, 1880],\n",
       " 'product_38': [1737, 178, 3, 1896],\n",
       " 'product_39': [1645, 160, 0, 1816],\n",
       " 'product_40': [1854, 80, 22, 1869],\n",
       " 'product_41': [1716, 251, 0, 1880],\n",
       " 'product_42': [1739, 118, 1, 1842],\n",
       " 'product_43': [47, 1, 1, 48],\n",
       " 'product_44': [425, 2060, 0, 2434],\n",
       " 'product_45': [1545, 372, 1, 1904],\n",
       " 'product_46': [1213, 651, 2, 1832],\n",
       " 'product_47': [1819, 68, 0, 1837],\n",
       " 'product_48': [417, 88, 44, 432],\n",
       " 'product_49': [1153, 1446, 0, 2496],\n",
       " 'product_50': [1599, 915, 0, 2415],\n",
       " 'product_51': [1472, 472, 0, 1843],\n",
       " 'product_52': [1817, 4, 4, 1830],\n",
       " 'product_53': [1601, 248, 1, 1869],\n",
       " 'product_54': [137, 494, 1, 646],\n",
       " 'product_55': [608, 1254, 6, 1864],\n",
       " 'product_56': [1844, 54, 2, 1892],\n",
       " 'product_57': [1770, 95, 0, 1833],\n",
       " 'product_58': [1412, 492, 0, 1883],\n",
       " 'product_59': [24, 1927, 0, 1897],\n",
       " 'product_60': [1262, 627, 15, 1841],\n",
       " 'product_61': [1030, 1575, 0, 2466],\n",
       " 'product_62': [1150, 747, 9, 1850],\n",
       " 'product_63': [792, 1028, 0, 1812],\n",
       " 'product_64': [1678, 228, 1, 1853],\n",
       " 'product_65': [1344, 571, 2, 1892],\n",
       " 'product_66': [787, 1106, 0, 1863],\n",
       " 'product_67': [1832, 55, 44, 1866],\n",
       " 'product_68': [1820, 76, 0, 1832],\n",
       " 'product_69': [1689, 224, 0, 1879],\n",
       " 'product_70': [1448, 425, 8, 1835],\n",
       " 'product_71': [1536, 308, 1, 1818],\n",
       " 'product_72': [723, 1108, 0, 1864],\n",
       " 'product_73': [985, 941, 0, 1911],\n",
       " 'product_74': [1397, 427, 0, 1830],\n",
       " 'product_75': [1777, 120, 3, 1856],\n",
       " 'product_76': [1386, 465, 0, 1779],\n",
       " 'product_77': [1453, 399, 2, 1845],\n",
       " 'product_78': [1220, 693, 1, 1865],\n",
       " 'product_79': [1258, 648, 0, 1887],\n",
       " 'product_80': [1130, 782, 0, 1881],\n",
       " 'product_81': [1690, 189, 2, 1855],\n",
       " 'product_82': [1185, 731, 0, 1883],\n",
       " 'product_83': [1308, 571, 0, 1859],\n",
       " 'product_84': [1719, 94, 2, 1817],\n",
       " 'product_85': [1695, 138, 1, 1808],\n",
       " 'product_86': [578, 1272, 4, 1810],\n",
       " 'product_87': [305, 1592, 0, 1865],\n",
       " 'product_88': [500, 1452, 0, 1874],\n",
       " 'product_89': [2191, 263, 6, 2408],\n",
       " 'product_90': [443, 1916, 0, 2331],\n",
       " 'product_91': [611, 1864, 1, 2396],\n",
       " 'product_92': [37, 2359, 0, 2364]}"
      ]
     },
     "execution_count": 13,
     "metadata": {},
     "output_type": "execute_result"
    }
   ],
   "source": [
    "matrix"
   ]
  },
  {
   "cell_type": "code",
   "execution_count": 14,
   "id": "e1976367",
   "metadata": {
    "execution": {
     "iopub.execute_input": "2022-09-16T23:07:20.857786Z",
     "iopub.status.busy": "2022-09-16T23:07:20.857331Z",
     "iopub.status.idle": "2022-09-16T23:07:20.869264Z",
     "shell.execute_reply": "2022-09-16T23:07:20.868137Z"
    },
    "papermill": {
     "duration": 0.073634,
     "end_time": "2022-09-16T23:07:20.871672",
     "exception": false,
     "start_time": "2022-09-16T23:07:20.798038",
     "status": "completed"
    },
    "tags": []
   },
   "outputs": [
    {
     "data": {
      "text/plain": [
       "{'product_1': 0.6656897225478703,\n",
       " 'product_2': 0.6980940794809408,\n",
       " 'product_3': 0.8216523101018011,\n",
       " 'product_4': 0.5431119920713577,\n",
       " 'product_5': 0.7893918787643287,\n",
       " 'product_6': 0.824,\n",
       " 'product_7': 0.9920058139534884,\n",
       " 'product_8': 0.9248151191454396,\n",
       " 'product_9': 0.6624035728786033,\n",
       " 'product_10': 0.969639468690702,\n",
       " 'product_11': 0.9534883720930233,\n",
       " 'product_12': 0.5477272727272727,\n",
       " 'product_13': 0.5944466963923795,\n",
       " 'product_14': 0.669684499314129,\n",
       " 'product_15': 0.7195713708046907,\n",
       " 'product_16': 0.6612007405448294,\n",
       " 'product_17': 0.5026940730393135,\n",
       " 'product_18': 0.7145132391001393,\n",
       " 'product_19': 0.9101760064738014,\n",
       " 'product_20': 0.9949031600407747,\n",
       " 'product_21': 0.6457760314341847,\n",
       " 'product_22': 0.6356066613798572,\n",
       " 'product_23': 0.8799351000540833,\n",
       " 'product_24': 0.6865007083586319,\n",
       " 'product_25': 0.592398954353509,\n",
       " 'product_26': 0.6411192214111923,\n",
       " 'product_27': 0.860419525583219,\n",
       " 'product_28': 0.8474435934589112,\n",
       " 'product_29': 0.9106012658227848,\n",
       " 'product_30': 0.6963361210673039,\n",
       " 'product_31': 0.9342560553633218,\n",
       " 'product_32': 0.9952063914780293,\n",
       " 'product_33': 0.9502417405318292,\n",
       " 'product_34': 0.7716794731064764,\n",
       " 'product_35': 0.9137055837563451,\n",
       " 'product_36': 0.989282769991756,\n",
       " 'product_37': 0.9213951067152525,\n",
       " 'product_38': 0.9525432616675407,\n",
       " 'product_39': 0.9558133112399889,\n",
       " 'product_40': 0.9733333333333334,\n",
       " 'product_41': 0.9347543540421107,\n",
       " 'product_42': 0.9678378378378378,\n",
       " 'product_43': 0.979381443298969,\n",
       " 'product_44': 0.5812156942467981,\n",
       " 'product_45': 0.902407116692831,\n",
       " 'product_46': 0.8234180638182802,\n",
       " 'product_47': 0.9817400644468314,\n",
       " 'product_48': 0.8654434250764526,\n",
       " 'product_49': 0.7161923454367026,\n",
       " 'product_50': 0.8143639683505782,\n",
       " 'product_51': 0.8753630842355427,\n",
       " 'product_52': 0.9978112175102599,\n",
       " 'product_53': 0.9330465178811509,\n",
       " 'product_54': 0.6126760563380281,\n",
       " 'product_55': 0.662379421221865,\n",
       " 'product_56': 0.9852320675105485,\n",
       " 'product_57': 0.9743104380746349,\n",
       " 'product_58': 0.870081858991286,\n",
       " 'product_59': 0.49922037422037424,\n",
       " 'product_60': 0.8285714285714286,\n",
       " 'product_61': 0.6894103727075528,\n",
       " 'product_62': 0.7987220447284346,\n",
       " 'product_63': 0.7169603524229075,\n",
       " 'product_64': 0.9390957446808511,\n",
       " 'product_65': 0.8495668154371226,\n",
       " 'product_66': 0.7055378061767839,\n",
       " 'product_67': 0.9739267843033974,\n",
       " 'product_68': 0.9796137339055794,\n",
       " 'product_69': 0.9409282700421941,\n",
       " 'product_70': 0.8834768568353067,\n",
       " 'product_71': 0.9156429156429157,\n",
       " 'product_72': 0.7001353179972937,\n",
       " 'product_73': 0.7547563200416992,\n",
       " 'product_74': 0.8831417624521073,\n",
       " 'product_75': 0.9672523961661342,\n",
       " 'product_76': 0.871900826446281,\n",
       " 'product_77': 0.8915923222492566,\n",
       " 'product_78': 0.8163535326806033,\n",
       " 'product_79': 0.8291589770630108,\n",
       " 'product_80': 0.7938307408383865,\n",
       " 'product_81': 0.9488758029978587,\n",
       " 'product_82': 0.8075809423532508,\n",
       " 'product_83': 0.8472445157838416,\n",
       " 'product_84': 0.973568281938326,\n",
       " 'product_85': 0.9618341570565623,\n",
       " 'product_86': 0.6517467248908297,\n",
       " 'product_87': 0.5768208399787347,\n",
       " 'product_88': 0.6204913748039729,\n",
       " 'product_89': 0.9447411668036154,\n",
       " 'product_90': 0.5914712153518124,\n",
       " 'product_91': 0.6172003284072249,\n",
       " 'product_92': 0.5044117647058823}"
      ]
     },
     "execution_count": 14,
     "metadata": {},
     "output_type": "execute_result"
    }
   ],
   "source": [
    "test_acc_dict"
   ]
  },
  {
   "cell_type": "code",
   "execution_count": 15,
   "id": "6db1f410",
   "metadata": {
    "execution": {
     "iopub.execute_input": "2022-09-16T23:07:20.989698Z",
     "iopub.status.busy": "2022-09-16T23:07:20.989230Z",
     "iopub.status.idle": "2022-09-16T23:07:20.995731Z",
     "shell.execute_reply": "2022-09-16T23:07:20.994594Z"
    },
    "papermill": {
     "duration": 0.070252,
     "end_time": "2022-09-16T23:07:20.998485",
     "exception": false,
     "start_time": "2022-09-16T23:07:20.928233",
     "status": "completed"
    },
    "tags": []
   },
   "outputs": [
    {
     "name": "stdout",
     "output_type": "stream",
     "text": [
      "0.8115787106952681\n"
     ]
    }
   ],
   "source": [
    "sum = 0\n",
    "for i in test_acc_dict.keys():\n",
    "    test_acc = test_acc_dict[i]\n",
    "    sum += test_acc\n",
    "    \n",
    "mean = sum/92\n",
    "print(mean)"
   ]
  },
  {
   "cell_type": "code",
   "execution_count": 16,
   "id": "82145ece",
   "metadata": {
    "execution": {
     "iopub.execute_input": "2022-09-16T23:07:21.114609Z",
     "iopub.status.busy": "2022-09-16T23:07:21.114180Z",
     "iopub.status.idle": "2022-09-16T23:07:21.120308Z",
     "shell.execute_reply": "2022-09-16T23:07:21.119146Z"
    },
    "papermill": {
     "duration": 0.066879,
     "end_time": "2022-09-16T23:07:21.122746",
     "exception": false,
     "start_time": "2022-09-16T23:07:21.055867",
     "status": "completed"
    },
    "tags": []
   },
   "outputs": [],
   "source": [
    "products_to_optimize = []\n",
    "for i in test_acc_dict.keys():\n",
    "    test_acc = test_acc_dict[i]\n",
    "    if test_acc < 0.85:\n",
    "        products_to_optimize.append(i)"
   ]
  },
  {
   "cell_type": "code",
   "execution_count": 17,
   "id": "e69d5531",
   "metadata": {
    "execution": {
     "iopub.execute_input": "2022-09-16T23:07:21.236126Z",
     "iopub.status.busy": "2022-09-16T23:07:21.235600Z",
     "iopub.status.idle": "2022-09-16T23:07:21.243330Z",
     "shell.execute_reply": "2022-09-16T23:07:21.241985Z"
    },
    "papermill": {
     "duration": 0.068009,
     "end_time": "2022-09-16T23:07:21.245886",
     "exception": false,
     "start_time": "2022-09-16T23:07:21.177877",
     "status": "completed"
    },
    "tags": []
   },
   "outputs": [],
   "source": [
    "sum_tn = 0\n",
    "sum_fp = 0\n",
    "sum_fn = 0\n",
    "sum_tp = 0\n",
    "\n",
    "for i in matrix.keys():\n",
    "    tn = matrix[i][0]\n",
    "    fp = matrix[i][1]\n",
    "    fn = matrix[i][2]\n",
    "    tp = matrix[i][3]\n",
    "    sum_tn += tn\n",
    "    sum_fp += fp\n",
    "    sum_fn += fn\n",
    "    sum_tp += tp\n",
    "    "
   ]
  },
  {
   "cell_type": "code",
   "execution_count": 18,
   "id": "886cff45",
   "metadata": {
    "execution": {
     "iopub.execute_input": "2022-09-16T23:07:21.364340Z",
     "iopub.status.busy": "2022-09-16T23:07:21.363816Z",
     "iopub.status.idle": "2022-09-16T23:07:21.369964Z",
     "shell.execute_reply": "2022-09-16T23:07:21.368853Z"
    },
    "papermill": {
     "duration": 0.067854,
     "end_time": "2022-09-16T23:07:21.372260",
     "exception": false,
     "start_time": "2022-09-16T23:07:21.304406",
     "status": "completed"
    },
    "tags": []
   },
   "outputs": [
    {
     "name": "stdout",
     "output_type": "stream",
     "text": [
      "107417\n",
      "75308\n",
      "276\n",
      "179208\n"
     ]
    }
   ],
   "source": [
    "print(sum_tn)\n",
    "print(sum_fp)\n",
    "print(sum_fn)\n",
    "print(sum_tp)\n"
   ]
  },
  {
   "cell_type": "code",
   "execution_count": 19,
   "id": "ed0c6403",
   "metadata": {
    "execution": {
     "iopub.execute_input": "2022-09-16T23:07:21.485800Z",
     "iopub.status.busy": "2022-09-16T23:07:21.485397Z",
     "iopub.status.idle": "2022-09-16T23:07:21.492827Z",
     "shell.execute_reply": "2022-09-16T23:07:21.491233Z"
    },
    "papermill": {
     "duration": 0.067945,
     "end_time": "2022-09-16T23:07:21.495497",
     "exception": false,
     "start_time": "2022-09-16T23:07:21.427552",
     "status": "completed"
    },
    "tags": []
   },
   "outputs": [
    {
     "name": "stdout",
     "output_type": "stream",
     "text": [
      "0.6413544251344886\n"
     ]
    }
   ],
   "source": [
    "x = (179208 + 75308) * (179208 + 276) * (107417 + 75308) * (107417 + 276)\n",
    "print(((179208 * 107417) - (75308 * 276)) / (x)**0.5)"
   ]
  },
  {
   "cell_type": "code",
   "execution_count": 20,
   "id": "432bf1cd",
   "metadata": {
    "execution": {
     "iopub.execute_input": "2022-09-16T23:07:21.608707Z",
     "iopub.status.busy": "2022-09-16T23:07:21.608248Z",
     "iopub.status.idle": "2022-09-16T23:07:21.613595Z",
     "shell.execute_reply": "2022-09-16T23:07:21.612679Z"
    },
    "papermill": {
     "duration": 0.065146,
     "end_time": "2022-09-16T23:07:21.615759",
     "exception": false,
     "start_time": "2022-09-16T23:07:21.550613",
     "status": "completed"
    },
    "tags": []
   },
   "outputs": [],
   "source": [
    "import warnings\n",
    "warnings.simplefilter(action='ignore', category=FutureWarning)"
   ]
  },
  {
   "cell_type": "code",
   "execution_count": 21,
   "id": "c9cbec4f",
   "metadata": {
    "execution": {
     "iopub.execute_input": "2022-09-16T23:07:21.734068Z",
     "iopub.status.busy": "2022-09-16T23:07:21.733592Z",
     "iopub.status.idle": "2022-09-16T23:07:38.968848Z",
     "shell.execute_reply": "2022-09-16T23:07:38.967141Z"
    },
    "papermill": {
     "duration": 17.298398,
     "end_time": "2022-09-16T23:07:38.972218",
     "exception": false,
     "start_time": "2022-09-16T23:07:21.673820",
     "status": "completed"
    },
    "tags": []
   },
   "outputs": [
    {
     "name": "stdout",
     "output_type": "stream",
     "text": [
      "product_1 : \n",
      " 0    12794\n",
      "1    12794\n",
      "Name: Response, dtype: int64 \n",
      "\n",
      "product_2 : \n",
      " 0    12329\n",
      "1    12329\n",
      "Name: Response, dtype: int64 \n",
      "\n",
      "product_3 : \n",
      " 0    12768\n",
      "1    12768\n",
      "Name: Response, dtype: int64 \n",
      "\n",
      "product_4 : \n",
      " 0    12611\n",
      "1    12611\n",
      "Name: Response, dtype: int64 \n",
      "\n",
      "product_5 : \n",
      " 0    12866\n",
      "1    12866\n",
      "Name: Response, dtype: int64 \n",
      "\n",
      "product_6 : \n",
      " 0    12186\n",
      "1    12186\n",
      "Name: Response, dtype: int64 \n",
      "\n",
      "product_9 : \n",
      " 0    12313\n",
      "1    12313\n",
      "Name: Response, dtype: int64 \n",
      "\n",
      "product_12 : \n",
      " 0    17599\n",
      "1    17599\n",
      "Name: Response, dtype: int64 \n",
      "\n",
      "product_13 : \n",
      " 0    12335\n",
      "1    12335\n",
      "Name: Response, dtype: int64 \n",
      "\n",
      "product_14 : \n",
      " 0    18224\n",
      "1    18224\n",
      "Name: Response, dtype: int64 \n",
      "\n",
      "product_15 : \n",
      " 0    12363\n",
      "1    12363\n",
      "Name: Response, dtype: int64 \n",
      "\n",
      "product_16 : \n",
      " 0    9451\n",
      "1    9451\n",
      "Name: Response, dtype: int64 \n",
      "\n",
      "product_17 : \n",
      " 0    12527\n",
      "1    12527\n",
      "Name: Response, dtype: int64 \n",
      "\n",
      "product_18 : \n",
      " 0    12557\n",
      "1    12557\n",
      "Name: Response, dtype: int64 \n",
      "\n",
      "product_21 : \n",
      " 0    12723\n",
      "1    12723\n",
      "Name: Response, dtype: int64 \n",
      "\n",
      "product_22 : \n",
      " 0    12609\n",
      "1    12609\n",
      "Name: Response, dtype: int64 \n",
      "\n",
      "product_24 : \n",
      " 0    12352\n",
      "1    12352\n",
      "Name: Response, dtype: int64 \n",
      "\n",
      "product_25 : \n",
      " 0    12431\n",
      "1    12431\n",
      "Name: Response, dtype: int64 \n",
      "\n",
      "product_26 : \n",
      " 0    12328\n",
      "1    12328\n",
      "Name: Response, dtype: int64 \n",
      "\n",
      "product_28 : \n",
      " 0    12077\n",
      "1    12077\n",
      "Name: Response, dtype: int64 \n",
      "\n",
      "product_30 : \n",
      " 0    12553\n",
      "1    12553\n",
      "Name: Response, dtype: int64 \n",
      "\n",
      "product_34 : \n",
      " 0    2276\n",
      "1    2276\n",
      "Name: Response, dtype: int64 \n",
      "\n",
      "product_44 : \n",
      " 0    12297\n",
      "1    12297\n",
      "Name: Response, dtype: int64 \n",
      "\n",
      "product_46 : \n",
      " 0    9243\n",
      "1    9243\n",
      "Name: Response, dtype: int64 \n",
      "\n",
      "product_49 : \n",
      " 0    12736\n",
      "1    12736\n",
      "Name: Response, dtype: int64 \n",
      "\n",
      "product_50 : \n",
      " 0    12322\n",
      "1    12322\n",
      "Name: Response, dtype: int64 \n",
      "\n",
      "product_54 : \n",
      " 0    3194\n",
      "1    3194\n",
      "Name: Response, dtype: int64 \n",
      "\n",
      "product_55 : \n",
      " 0    9329\n",
      "1    9329\n",
      "Name: Response, dtype: int64 \n",
      "\n",
      "product_59 : \n",
      " 0    9619\n",
      "1    9619\n",
      "Name: Response, dtype: int64 \n",
      "\n",
      "product_60 : \n",
      " 0    9361\n",
      "1    9361\n",
      "Name: Response, dtype: int64 \n",
      "\n",
      "product_61 : \n",
      " 0    12677\n",
      "1    12677\n",
      "Name: Response, dtype: int64 \n",
      "\n",
      "product_62 : \n",
      " 0    9389\n",
      "1    9389\n",
      "Name: Response, dtype: int64 \n",
      "\n",
      "product_63 : \n",
      " 0    9078\n",
      "1    9078\n",
      "Name: Response, dtype: int64 \n",
      "\n",
      "product_65 : \n",
      " 0    9522\n",
      "1    9522\n",
      "Name: Response, dtype: int64 \n",
      "\n",
      "product_66 : \n",
      " 0    9388\n",
      "1    9388\n",
      "Name: Response, dtype: int64 \n",
      "\n",
      "product_72 : \n",
      " 0    9237\n",
      "1    9237\n",
      "Name: Response, dtype: int64 \n",
      "\n",
      "product_73 : \n",
      " 0    9591\n",
      "1    9591\n",
      "Name: Response, dtype: int64 \n",
      "\n",
      "product_78 : \n",
      " 0    9446\n",
      "1    9446\n",
      "Name: Response, dtype: int64 \n",
      "\n",
      "product_79 : \n",
      " 0    9482\n",
      "1    9482\n",
      "Name: Response, dtype: int64 \n",
      "\n",
      "product_80 : \n",
      " 0    9482\n",
      "1    9482\n",
      "Name: Response, dtype: int64 \n",
      "\n",
      "product_82 : \n",
      " 0    9497\n",
      "1    9497\n",
      "Name: Response, dtype: int64 \n",
      "\n",
      "product_83 : \n",
      " 0    9344\n",
      "1    9344\n",
      "Name: Response, dtype: int64 \n",
      "\n",
      "product_86 : \n",
      " 0    9158\n",
      "1    9158\n",
      "Name: Response, dtype: int64 \n",
      "\n",
      "product_87 : \n",
      " 0    9405\n",
      "1    9405\n",
      "Name: Response, dtype: int64 \n",
      "\n",
      "product_88 : \n",
      " 0    9565\n",
      "1    9565\n",
      "Name: Response, dtype: int64 \n",
      "\n",
      "product_90 : \n",
      " 0    11725\n",
      "1    11725\n",
      "Name: Response, dtype: int64 \n",
      "\n",
      "product_91 : \n",
      " 0    12178\n",
      "1    12178\n",
      "Name: Response, dtype: int64 \n",
      "\n",
      "product_92 : \n",
      " 0    11899\n",
      "1    11899\n",
      "Name: Response, dtype: int64 \n",
      "\n"
     ]
    }
   ],
   "source": [
    "for i in products_to_optimize:\n",
    "    df = products[i]\n",
    "    X = df.drop('Response' , 1)\n",
    "    y = df['Response']\n",
    "    X_res , y_res = sampling(X, y)\n",
    "    print(i , ':', '\\n' , y_res.value_counts(), '\\n')"
   ]
  },
  {
   "cell_type": "code",
   "execution_count": 22,
   "id": "b0b5bec0",
   "metadata": {
    "execution": {
     "iopub.execute_input": "2022-09-16T23:07:39.091000Z",
     "iopub.status.busy": "2022-09-16T23:07:39.090555Z",
     "iopub.status.idle": "2022-09-16T23:07:39.096938Z",
     "shell.execute_reply": "2022-09-16T23:07:39.095671Z"
    },
    "papermill": {
     "duration": 0.068704,
     "end_time": "2022-09-16T23:07:39.099501",
     "exception": false,
     "start_time": "2022-09-16T23:07:39.030797",
     "status": "completed"
    },
    "tags": []
   },
   "outputs": [],
   "source": [
    "max_acc_dict = {}\n",
    "min_acc_dict = {}\n",
    "overall_acc_dict = {}\n",
    "std_dev_dict = {}\n",
    "\n",
    "def storing(max_acc,min_acc ,overall_acc , std_dev, product_name):\n",
    "    max_acc_dict[product_name] = max_acc\n",
    "    min_acc_dict[product_name] = min_acc\n",
    "    overall_acc_dict[product_name] = overall_acc\n",
    "    std_dev_dict[product_name] = std_dev"
   ]
  },
  {
   "cell_type": "code",
   "execution_count": 23,
   "id": "8de170ed",
   "metadata": {
    "execution": {
     "iopub.execute_input": "2022-09-16T23:07:39.221765Z",
     "iopub.status.busy": "2022-09-16T23:07:39.221297Z",
     "iopub.status.idle": "2022-09-16T23:07:39.230571Z",
     "shell.execute_reply": "2022-09-16T23:07:39.229440Z"
    },
    "papermill": {
     "duration": 0.07382,
     "end_time": "2022-09-16T23:07:39.233123",
     "exception": false,
     "start_time": "2022-09-16T23:07:39.159303",
     "status": "completed"
    },
    "tags": []
   },
   "outputs": [],
   "source": [
    "def stratified_model_training(X, y , product_name):\n",
    "    skf = StratifiedKFold(n_splits=10, shuffle=True, random_state=1)\n",
    "    acc_stratified = []\n",
    "    model = lgb.LGBMClassifier()\n",
    "    X_scaled = scaling(X)\n",
    "    for train_index, test_index in skf.split(X, y):\n",
    "        X_train_fold, X_test_fold = X_scaled.iloc[train_index], X_scaled.iloc[test_index]\n",
    "        y_train_fold, y_test_fold = y.iloc[train_index], y.iloc[test_index]\n",
    "        model.fit(X_train_fold, y_train_fold)\n",
    "        acc_stratified.append(model.score(X_test_fold, y_test_fold))\n",
    "        max_acc = max(acc_stratified)*100\n",
    "        min_acc = min(acc_stratified)*100\n",
    "        overall_acc = np.array(acc_stratified).mean()*100\n",
    "        std_dev = np.std(acc_stratified)\n",
    "        storing(max_acc,min_acc ,overall_acc , std_dev, product_name)\n",
    "    print(product_name, 'Done!')"
   ]
  },
  {
   "cell_type": "code",
   "execution_count": 24,
   "id": "4ca326ca",
   "metadata": {
    "execution": {
     "iopub.execute_input": "2022-09-16T23:07:39.353381Z",
     "iopub.status.busy": "2022-09-16T23:07:39.352647Z",
     "iopub.status.idle": "2022-09-17T00:02:28.703956Z",
     "shell.execute_reply": "2022-09-17T00:02:28.702228Z"
    },
    "papermill": {
     "duration": 3289.474806,
     "end_time": "2022-09-17T00:02:28.767621",
     "exception": false,
     "start_time": "2022-09-16T23:07:39.292815",
     "status": "completed"
    },
    "tags": []
   },
   "outputs": [
    {
     "name": "stdout",
     "output_type": "stream",
     "text": [
      "product_1 Done!\n",
      "product_2 Done!\n",
      "product_3 Done!\n",
      "product_4 Done!\n",
      "product_5 Done!\n",
      "product_6 Done!\n",
      "product_9 Done!\n",
      "product_12 Done!\n",
      "product_13 Done!\n",
      "product_14 Done!\n",
      "product_15 Done!\n",
      "product_16 Done!\n",
      "product_17 Done!\n",
      "product_18 Done!\n",
      "product_21 Done!\n",
      "product_22 Done!\n",
      "product_24 Done!\n",
      "product_25 Done!\n",
      "product_26 Done!\n",
      "product_28 Done!\n",
      "product_30 Done!\n",
      "product_34 Done!\n",
      "product_44 Done!\n",
      "product_46 Done!\n",
      "product_49 Done!\n",
      "product_50 Done!\n",
      "product_54 Done!\n",
      "product_55 Done!\n",
      "product_59 Done!\n",
      "product_60 Done!\n",
      "product_61 Done!\n",
      "product_62 Done!\n",
      "product_63 Done!\n",
      "product_65 Done!\n",
      "product_66 Done!\n",
      "product_72 Done!\n",
      "product_73 Done!\n",
      "product_78 Done!\n",
      "product_79 Done!\n",
      "product_80 Done!\n",
      "product_82 Done!\n",
      "product_83 Done!\n",
      "product_86 Done!\n",
      "product_87 Done!\n",
      "product_88 Done!\n",
      "product_90 Done!\n",
      "product_91 Done!\n",
      "product_92 Done!\n"
     ]
    }
   ],
   "source": [
    "for i in products_to_optimize:\n",
    "    product_name = i\n",
    "    df = products[i]\n",
    "    X = df.drop('Response' , 1)\n",
    "    y = df['Response']\n",
    "    X_res , y_res = sampling(X, y)\n",
    "    stratified_model_training(X_res, y_res , product_name)"
   ]
  },
  {
   "cell_type": "code",
   "execution_count": 25,
   "id": "d9a687f8",
   "metadata": {
    "execution": {
     "iopub.execute_input": "2022-09-17T00:02:28.896395Z",
     "iopub.status.busy": "2022-09-17T00:02:28.895923Z",
     "iopub.status.idle": "2022-09-17T00:02:28.905875Z",
     "shell.execute_reply": "2022-09-17T00:02:28.904668Z"
    },
    "papermill": {
     "duration": 0.077322,
     "end_time": "2022-09-17T00:02:28.908476",
     "exception": false,
     "start_time": "2022-09-17T00:02:28.831154",
     "status": "completed"
    },
    "tags": []
   },
   "outputs": [
    {
     "data": {
      "text/plain": [
       "{'product_1': 99.88272087568413,\n",
       " 'product_2': 99.87834549878345,\n",
       " 'product_3': 99.84338292873923,\n",
       " 'product_4': 99.84139571768438,\n",
       " 'product_5': 99.88344988344988,\n",
       " 'product_6': 99.75389663658737,\n",
       " 'product_9': 99.8375964271214,\n",
       " 'product_12': 99.6590909090909,\n",
       " 'product_13': 99.87839481151197,\n",
       " 'product_14': 99.6159122085048,\n",
       " 'product_15': 99.87868985038415,\n",
       " 'product_16': 100.0,\n",
       " 'product_17': 99.80047885075818,\n",
       " 'product_18': 99.92035045798487,\n",
       " 'product_21': 99.88207547169812,\n",
       " 'product_22': 99.80174464710547,\n",
       " 'product_24': 99.87859166329422,\n",
       " 'product_25': 99.8793242156074,\n",
       " 'product_26': 99.87834549878345,\n",
       " 'product_28': 99.95859213250517,\n",
       " 'product_30': 99.8805256869773,\n",
       " 'product_34': 99.78021978021978,\n",
       " 'product_44': 99.83733224888167,\n",
       " 'product_46': 99.89183342347215,\n",
       " 'product_49': 99.88221436984688,\n",
       " 'product_50': 99.91883116883116,\n",
       " 'product_54': 99.8435054773083,\n",
       " 'product_55': 99.89281886387997,\n",
       " 'product_59': 99.8960498960499,\n",
       " 'product_60': 99.94658119658119,\n",
       " 'product_61': 99.88170347003155,\n",
       " 'product_62': 99.94675186368477,\n",
       " 'product_63': 99.8898678414097,\n",
       " 'product_65': 99.84251968503936,\n",
       " 'product_66': 99.89350372736953,\n",
       " 'product_72': 99.94588744588745,\n",
       " 'product_73': 99.89572471324296,\n",
       " 'product_78': 99.89412387506617,\n",
       " 'product_79': 99.89451476793249,\n",
       " 'product_80': 99.84177215189874,\n",
       " 'product_82': 99.8421052631579,\n",
       " 'product_83': 99.83940042826552,\n",
       " 'product_86': 99.72707423580786,\n",
       " 'product_87': 99.78734715576822,\n",
       " 'product_88': 99.84317825405122,\n",
       " 'product_90': 99.70149253731343,\n",
       " 'product_91': 99.75359342915812,\n",
       " 'product_92': 99.74789915966386}"
      ]
     },
     "execution_count": 25,
     "metadata": {},
     "output_type": "execute_result"
    }
   ],
   "source": [
    "max_acc_dict"
   ]
  },
  {
   "cell_type": "code",
   "execution_count": 26,
   "id": "d15d4ea1",
   "metadata": {
    "execution": {
     "iopub.execute_input": "2022-09-17T00:02:29.034389Z",
     "iopub.status.busy": "2022-09-17T00:02:29.033536Z",
     "iopub.status.idle": "2022-09-17T00:02:29.043547Z",
     "shell.execute_reply": "2022-09-17T00:02:29.042178Z"
    },
    "papermill": {
     "duration": 0.076163,
     "end_time": "2022-09-17T00:02:29.046228",
     "exception": false,
     "start_time": "2022-09-17T00:02:28.970065",
     "status": "completed"
    },
    "tags": []
   },
   "outputs": [
    {
     "data": {
      "text/plain": [
       "{'product_1': 99.64816262705239,\n",
       " 'product_2': 99.7161394971614,\n",
       " 'product_3': 99.56930305403289,\n",
       " 'product_4': 99.60364645263576,\n",
       " 'product_5': 99.53361834434511,\n",
       " 'product_6': 99.46655724251129,\n",
       " 'product_9': 99.6751928542428,\n",
       " 'product_12': 99.375,\n",
       " 'product_13': 99.67571949736522,\n",
       " 'product_14': 99.42386831275721,\n",
       " 'product_15': 99.59546925566343,\n",
       " 'product_16': 99.73544973544973,\n",
       " 'product_17': 99.60079840319361,\n",
       " 'product_18': 99.60175228992433,\n",
       " 'product_21': 99.60691823899371,\n",
       " 'product_22': 99.48453608247422,\n",
       " 'product_24': 99.55465587044534,\n",
       " 'product_25': 99.6379726468222,\n",
       " 'product_26': 99.59432048681542,\n",
       " 'product_28': 99.58609271523179,\n",
       " 'product_30': 99.68140183193947,\n",
       " 'product_34': 98.68131868131869,\n",
       " 'product_44': 99.51219512195122,\n",
       " 'product_46': 99.56709956709958,\n",
       " 'product_49': 99.52904238618524,\n",
       " 'product_50': 99.39123376623377,\n",
       " 'product_54': 99.05956112852664,\n",
       " 'product_55': 99.57127545551982,\n",
       " 'product_59': 99.58419958419958,\n",
       " 'product_60': 99.73290598290599,\n",
       " 'product_61': 99.44794952681389,\n",
       " 'product_62': 99.73375931842385,\n",
       " 'product_63': 99.55947136563876,\n",
       " 'product_65': 99.63254593175853,\n",
       " 'product_66': 99.62706446457112,\n",
       " 'product_72': 99.62121212121212,\n",
       " 'product_73': 99.47862356621481,\n",
       " 'product_78': 99.68237162519851,\n",
       " 'product_79': 99.57828149710069,\n",
       " 'product_80': 99.47285187137585,\n",
       " 'product_82': 99.57872564507636,\n",
       " 'product_83': 99.57196361690744,\n",
       " 'product_86': 99.235807860262,\n",
       " 'product_87': 99.36204146730464,\n",
       " 'product_88': 99.42498693152118,\n",
       " 'product_90': 99.44562899786781,\n",
       " 'product_91': 99.38423645320196,\n",
       " 'product_92': 99.41176470588235}"
      ]
     },
     "execution_count": 26,
     "metadata": {},
     "output_type": "execute_result"
    }
   ],
   "source": [
    "min_acc_dict"
   ]
  },
  {
   "cell_type": "code",
   "execution_count": 27,
   "id": "df29d780",
   "metadata": {
    "execution": {
     "iopub.execute_input": "2022-09-17T00:02:29.257206Z",
     "iopub.status.busy": "2022-09-17T00:02:29.256727Z",
     "iopub.status.idle": "2022-09-17T00:02:29.264811Z",
     "shell.execute_reply": "2022-09-17T00:02:29.263930Z"
    },
    "papermill": {
     "duration": 0.076095,
     "end_time": "2022-09-17T00:02:29.267175",
     "exception": false,
     "start_time": "2022-09-17T00:02:29.191080",
     "status": "completed"
    },
    "tags": []
   },
   "outputs": [
    {
     "data": {
      "text/plain": [
       "{'product_1': 99.75769952651439,\n",
       " 'product_2': 99.80939314227243,\n",
       " 'product_3': 99.72587564923542,\n",
       " 'product_4': 99.73436611563781,\n",
       " 'product_5': 99.7629347376724,\n",
       " 'product_6': 99.6635459687488,\n",
       " 'product_9': 99.77260366503043,\n",
       " 'product_12': 99.4744027551732,\n",
       " 'product_13': 99.78516416700444,\n",
       " 'product_14': 99.55004223640643,\n",
       " 'product_15': 99.77351185685663,\n",
       " 'product_16': 99.888900080862,\n",
       " 'product_17': 99.72459550173397,\n",
       " 'product_18': 99.73321683953662,\n",
       " 'product_21': 99.70525818289653,\n",
       " 'product_22': 99.67087094889841,\n",
       " 'product_24': 99.72473076349623,\n",
       " 'product_25': 99.77475794485306,\n",
       " 'product_26': 99.77691739503084,\n",
       " 'product_28': 99.74746513923736,\n",
       " 'product_30': 99.78092567999605,\n",
       " 'product_34': 99.53870252554464,\n",
       " 'product_44': 99.64219376638664,\n",
       " 'product_46': 99.724110844987,\n",
       " 'product_49': 99.7016359320751,\n",
       " 'product_50': 99.69972142462001,\n",
       " 'product_54': 99.38945060120388,\n",
       " 'product_55': 99.75881945581868,\n",
       " 'product_59': 99.78688336722658,\n",
       " 'product_60': 99.83975784996876,\n",
       " 'product_61': 99.63713842171741,\n",
       " 'product_62': 99.82426696578672,\n",
       " 'product_63': 99.76866785597262,\n",
       " 'product_65': 99.75320915767881,\n",
       " 'product_66': 99.78163157736469,\n",
       " 'product_72': 99.75641733289271,\n",
       " 'product_73': 99.7393389522806,\n",
       " 'product_78': 99.7723831371264,\n",
       " 'product_79': 99.75744235290455,\n",
       " 'product_80': 99.6572619659289,\n",
       " 'product_82': 99.67883927829051,\n",
       " 'product_83': 99.71640298204791,\n",
       " 'product_86': 99.5250048294892,\n",
       " 'product_87': 99.56406166932483,\n",
       " 'product_88': 99.62885520125457,\n",
       " 'product_90': 99.55650319829424,\n",
       " 'product_91': 99.56068621600025,\n",
       " 'product_92': 99.55878114171269}"
      ]
     },
     "execution_count": 27,
     "metadata": {},
     "output_type": "execute_result"
    }
   ],
   "source": [
    "overall_acc_dict"
   ]
  },
  {
   "cell_type": "code",
   "execution_count": 28,
   "id": "a2a02b85",
   "metadata": {
    "execution": {
     "iopub.execute_input": "2022-09-17T00:02:29.393653Z",
     "iopub.status.busy": "2022-09-17T00:02:29.392481Z",
     "iopub.status.idle": "2022-09-17T00:02:29.400360Z",
     "shell.execute_reply": "2022-09-17T00:02:29.399559Z"
    },
    "papermill": {
     "duration": 0.072803,
     "end_time": "2022-09-17T00:02:29.402577",
     "exception": false,
     "start_time": "2022-09-17T00:02:29.329774",
     "status": "completed"
    },
    "tags": []
   },
   "outputs": [
    {
     "data": {
      "text/plain": [
       "{'product_1': 0.0007971500863566995,\n",
       " 'product_2': 0.0006295572669572843,\n",
       " 'product_3': 0.0008930028140111209,\n",
       " 'product_4': 0.0007936715929608968,\n",
       " 'product_5': 0.0010349480758214413,\n",
       " 'product_6': 0.0009139173586310459,\n",
       " 'product_9': 0.000607510989256313,\n",
       " 'product_12': 0.0008159442480420033,\n",
       " 'product_13': 0.0005453434960305636,\n",
       " 'product_14': 0.0005782418582277027,\n",
       " 'product_15': 0.0009081111023812931,\n",
       " 'product_16': 0.0006878393334082845,\n",
       " 'product_17': 0.0007016528404350532,\n",
       " 'product_18': 0.0008913276415014895,\n",
       " 'product_21': 0.0007712075490503697,\n",
       " 'product_22': 0.0009222821632734135,\n",
       " 'product_24': 0.0009547655808455198,\n",
       " 'product_25': 0.0007460082598058692,\n",
       " 'product_26': 0.0009297188534779628,\n",
       " 'product_28': 0.0010380674854430282,\n",
       " 'product_30': 0.0007610506354431031,\n",
       " 'product_34': 0.0033250855595784922,\n",
       " 'product_44': 0.0011470299748743064,\n",
       " 'product_46': 0.0009197915139389147,\n",
       " 'product_49': 0.0009805159987854263,\n",
       " 'product_50': 0.0012731317855422784,\n",
       " 'product_54': 0.0029248623298118496,\n",
       " 'product_55': 0.001023906661018853,\n",
       " 'product_59': 0.001149345967225609,\n",
       " 'product_60': 0.0005852258141823727,\n",
       " 'product_61': 0.0012693033487123301,\n",
       " 'product_62': 0.0005856393004649183,\n",
       " 'product_63': 0.0011501391796262138,\n",
       " 'product_65': 0.0007803305165767313,\n",
       " 'product_66': 0.0007701567452216458,\n",
       " 'product_72': 0.0008469769735532489,\n",
       " 'product_73': 0.0011658332744429734,\n",
       " 'product_78': 0.0008219605183168458,\n",
       " 'product_79': 0.0009489286444674574,\n",
       " 'product_80': 0.0010341199998194846,\n",
       " 'product_82': 0.0007968105559218926,\n",
       " 'product_83': 0.0007952405689348819,\n",
       " 'product_86': 0.001727266009142713,\n",
       " 'product_87': 0.0011840009277682276,\n",
       " 'product_88': 0.0013520666133170385,\n",
       " 'product_90': 0.0008356468205656673,\n",
       " 'product_91': 0.0009895610115071632,\n",
       " 'product_92': 0.0009811800408817627}"
      ]
     },
     "execution_count": 28,
     "metadata": {},
     "output_type": "execute_result"
    }
   ],
   "source": [
    "std_dev_dict"
   ]
  },
  {
   "cell_type": "code",
   "execution_count": null,
   "id": "1466c936",
   "metadata": {
    "papermill": {
     "duration": 0.064325,
     "end_time": "2022-09-17T00:02:29.528893",
     "exception": false,
     "start_time": "2022-09-17T00:02:29.464568",
     "status": "completed"
    },
    "tags": []
   },
   "outputs": [],
   "source": []
  }
 ],
 "metadata": {
  "kernelspec": {
   "display_name": "Python 3 (ipykernel)",
   "language": "python",
   "name": "python3"
  },
  "language_info": {
   "codemirror_mode": {
    "name": "ipython",
    "version": 3
   },
   "file_extension": ".py",
   "mimetype": "text/x-python",
   "name": "python",
   "nbconvert_exporter": "python",
   "pygments_lexer": "ipython3",
   "version": "3.10.9"
  },
  "papermill": {
   "default_parameters": {},
   "duration": 4033.532147,
   "end_time": "2022-09-17T00:02:32.887686",
   "environment_variables": {},
   "exception": null,
   "input_path": "__notebook__.ipynb",
   "output_path": "__notebook__.ipynb",
   "parameters": {},
   "start_time": "2022-09-16T22:55:19.355539",
   "version": "2.3.4"
  }
 },
 "nbformat": 4,
 "nbformat_minor": 5
}
