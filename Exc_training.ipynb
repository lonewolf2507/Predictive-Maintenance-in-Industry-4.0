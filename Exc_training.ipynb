{
 "cells": [
  {
   "cell_type": "code",
   "execution_count": 1,
   "id": "bf421307",
   "metadata": {},
   "outputs": [
    {
     "name": "stdout",
     "output_type": "stream",
     "text": [
      "Requirement already satisfied: scikit-learn in c:\\users\\hp\\anaconda3\\lib\\site-packages (1.2.0)\n",
      "Requirement already satisfied: joblib>=1.1.1 in c:\\users\\hp\\anaconda3\\lib\\site-packages (from scikit-learn) (1.2.0)\n",
      "Requirement already satisfied: threadpoolctl>=2.0.0 in c:\\users\\hp\\anaconda3\\lib\\site-packages (from scikit-learn) (2.2.0)\n",
      "Requirement already satisfied: scipy>=1.3.2 in c:\\users\\hp\\anaconda3\\lib\\site-packages (from scikit-learn) (1.7.3)\n",
      "Requirement already satisfied: numpy>=1.17.3 in c:\\users\\hp\\anaconda3\\lib\\site-packages (from scikit-learn) (1.21.5)\n",
      "Note: you may need to restart the kernel to use updated packages.\n"
     ]
    }
   ],
   "source": [
    "pip install -U scikit-learn"
   ]
  },
  {
   "cell_type": "code",
   "execution_count": 2,
   "id": "e7f08980",
   "metadata": {},
   "outputs": [
    {
     "name": "stdout",
     "output_type": "stream",
     "text": [
      "Requirement already satisfied: imblearn in c:\\users\\hp\\anaconda3\\lib\\site-packages (0.0)\n",
      "Requirement already satisfied: imbalanced-learn in c:\\users\\hp\\anaconda3\\lib\\site-packages (from imblearn) (0.10.1)\n",
      "Requirement already satisfied: joblib>=1.1.1 in c:\\users\\hp\\anaconda3\\lib\\site-packages (from imbalanced-learn->imblearn) (1.2.0)\n",
      "Requirement already satisfied: numpy>=1.17.3 in c:\\users\\hp\\anaconda3\\lib\\site-packages (from imbalanced-learn->imblearn) (1.21.5)\n",
      "Requirement already satisfied: scikit-learn>=1.0.2 in c:\\users\\hp\\anaconda3\\lib\\site-packages (from imbalanced-learn->imblearn) (1.2.0)\n",
      "Requirement already satisfied: scipy>=1.3.2 in c:\\users\\hp\\anaconda3\\lib\\site-packages (from imbalanced-learn->imblearn) (1.7.3)\n",
      "Requirement already satisfied: threadpoolctl>=2.0.0 in c:\\users\\hp\\anaconda3\\lib\\site-packages (from imbalanced-learn->imblearn) (2.2.0)\n",
      "Note: you may need to restart the kernel to use updated packages.\n"
     ]
    }
   ],
   "source": [
    "pip install imblearn"
   ]
  },
  {
   "cell_type": "code",
   "execution_count": 3,
   "id": "ba50a0e7",
   "metadata": {},
   "outputs": [
    {
     "name": "stdout",
     "output_type": "stream",
     "text": [
      "Requirement already satisfied: lightgbm in c:\\users\\hp\\anaconda3\\lib\\site-packages (3.3.4)\n",
      "Requirement already satisfied: numpy in c:\\users\\hp\\anaconda3\\lib\\site-packages (from lightgbm) (1.21.5)\n",
      "Requirement already satisfied: wheel in c:\\users\\hp\\anaconda3\\lib\\site-packages (from lightgbm) (0.37.1)\n",
      "Requirement already satisfied: scipy in c:\\users\\hp\\anaconda3\\lib\\site-packages (from lightgbm) (1.7.3)\n",
      "Requirement already satisfied: scikit-learn!=0.22.0 in c:\\users\\hp\\anaconda3\\lib\\site-packages (from lightgbm) (1.2.0)\n",
      "Requirement already satisfied: threadpoolctl>=2.0.0 in c:\\users\\hp\\anaconda3\\lib\\site-packages (from scikit-learn!=0.22.0->lightgbm) (2.2.0)\n",
      "Requirement already satisfied: joblib>=1.1.1 in c:\\users\\hp\\anaconda3\\lib\\site-packages (from scikit-learn!=0.22.0->lightgbm) (1.2.0)\n",
      "Note: you may need to restart the kernel to use updated packages.\n"
     ]
    }
   ],
   "source": [
    "pip install lightgbm"
   ]
  },
  {
   "cell_type": "code",
   "execution_count": 1,
   "id": "9408012f",
   "metadata": {},
   "outputs": [],
   "source": [
    "import warnings\n",
    "warnings.simplefilter(action='ignore', category=FutureWarning)\n",
    "\n",
    "import numpy as np\n",
    "import pandas as pd\n",
    "\n",
    "from imblearn.over_sampling import SMOTE\n",
    "from imblearn.combine import SMOTETomek\n",
    "\n",
    "import matplotlib.pyplot as plt\n",
    "# import itertools\n",
    "\n",
    "%matplotlib inline\n",
    "\n",
    "from sklearn.preprocessing import StandardScaler\n",
    "from sklearn.metrics import accuracy_score\n",
    "from sklearn.preprocessing import LabelEncoder\n",
    "from sklearn.model_selection import train_test_split\n",
    "from sklearn.model_selection import StratifiedKFold\n",
    "from sklearn.metrics import classification_report, confusion_matrix\n",
    "from sklearn.metrics import matthews_corrcoef\n",
    "\n",
    "import seaborn as sns\n",
    "\n",
    "import time\n",
    "\n",
    "# from xgboost import XGBClassifier\n",
    "\n",
    "warnings.simplefilter(\"ignore\", UserWarning)\n",
    "import lightgbm as lgb"
   ]
  },
  {
   "cell_type": "code",
   "execution_count": null,
   "id": "eaa17858",
   "metadata": {},
   "outputs": [],
   "source": []
  },
  {
   "cell_type": "code",
   "execution_count": 3,
   "id": "ede544bb",
   "metadata": {},
   "outputs": [],
   "source": [
    "import pickle\n",
    "\n",
    "with open(\"test\", \"rb\") as fp:   # Unpickling\n",
    "    b = pickle.load(fp)"
   ]
  },
  {
   "cell_type": "code",
   "execution_count": 4,
   "id": "1367ea44",
   "metadata": {},
   "outputs": [
    {
     "name": "stdout",
     "output_type": "stream",
     "text": [
      "['L1_S24_F1609', 'L1_S24_F1713', 'L1_S24_F1525_T4', 'L3_S33_F3869', 'L3_S29_F3348', 'L3_S37_F3950', 'L0_S22_F561', 'L1_S24_F1814', 'L3_S30_F3744', 'L2_S26_F3062', 'L1_S24_F1599', 'L0_S2_F36', 'L0_S14_F362', 'L3_S29_F3345', 'L3_S29_F3317_T1', 'L1_S24_F1733', 'L0_S11_F326', 'L0_S2_F44', 'L1_S24_F1820', 'L0_S11_F322', 'L2_S27_F3192_T143', 'L0_S14_F386', 'L2_S27_F3155', 'L1_S24_F1690', 'L2_S26_F3121', 'L0_S9_F165', 'L1_S24_F1672', 'L0_S11_F298', 'L1_S24_F1763', 'L0_S10_F254', 'L3_S30_F3554', 'L3_S30_F3774', 'L3_S29_F3379', 'L3_S29_F3382', 'L3_S36_F3934', 'L1_S24_F1627', 'L3_S30_F3494', 'L3_S29_F3479', 'L0_S0_F12', 'L0_S14_F358', 'L1_S24_F1632', 'L3_S30_F3649', 'L0_S8_F149', 'L1_S24_D1522', 'L1_S24_F1569', 'L0_S22_F546', 'L2_S26_F3077', 'L1_S24_F1829', 'L1_S24_F1642', 'L3_S36_F3920', 'L3_S30_F3664', 'L1_S24_F1748', 'L3_S29_F3327', 'L1_S24_F1685', 'L3_S35_F3903', 'L2_S27_F3199', 'L0_S0_F2', 'L1_S24_F1723', 'L3_S35_F3896', 'L3_S29_F3485', 'L0_S22_F606', 'L2_S27_F3133', 'L1_S24_F1844', 'L2_S27_F3162', 'L3_S33_D3856', 'L0_S11_F310', 'L2_S27_F3218', 'L1_S24_F1516', 'L3_S29_F3354', 'L1_S24_F1525_T3', 'L0_S10_F229', 'L1_S24_F1565', 'L2_S27_F3210', 'L3_S30_F3734', 'L3_S30_F3639', 'L1_S24_D1674', 'L3_S30_F3669', 'L1_S24_F1793', 'L0_S12_F334', 'L0_S11_D280', 'L3_S30_F3794', 'L0_S22_F596', 'L0_S11_F314', 'L0_S10_F239', 'L0_S6_F118', 'L1_S24_F1810', 'L0_S3_F76', 'L0_S1_F24', 'L2_S27_F3192_T145', 'L3_S37_F3948', 'L2_S28_F3224_T1', 'L3_S33_F3855', 'L1_S24_F1604', 'L3_S29_F3333', 'L3_S30_F3754', 'L1_S24_F1510_T4', 'L0_S12_F336', 'L1_S24_F1571', 'L3_S30_F3544', 'L0_S10_F234', 'L3_S30_F3514', 'L3_S29_F3324', 'L3_S30_F3769', 'L0_S18_F449', 'L1_S24_F1822', 'L0_S14_F370', 'L3_S34_F3882', 'L0_S4_D106', 'L0_S8_D145', 'L1_S24_F1512', 'L2_S26_F3036', 'L1_S24_F1753', 'L1_S24_D1765', 'L3_S30_F3759', 'L0_S0_F4', 'L0_S9_F190', 'L0_S7_F138', 'L0_S10_F219', 'L0_S3_F80', 'L3_S30_F3809', 'L3_S30_F3779', 'L0_S2_F64', 'L0_S7_F142', 'L1_S24_F1525_T2', 'L1_S24_F1637', 'L1_S24_F1657', 'L0_S12_F340', 'L1_S24_F1783', 'L2_S26_F3073', 'L0_S11_F318', 'L0_S1_F28', 'L0_S4_F109', 'L2_S27_F3148', 'L1_S24_F1728', 'L1_S24_F1520', 'L3_S30_F3819', 'L3_S29_D3316', 'L2_S26_F3106', 'L2_S27_F3214', 'L0_S12_F332', 'L3_S36_F3938', 'L0_S11_F282', 'L1_S24_F1573', 'L0_S9_F195', 'L1_S24_F1831', 'L3_S30_F3584', 'L1_S24_D1570', 'L3_S34_D3875', 'L3_S30_F3729', 'L3_S30_F3804', 'L0_S7_D137', 'L0_S12_F344', 'L1_S24_F1559_T1', 'L1_S24_F1718', 'L0_S14_F390', 'L0_S12_F352', 'L3_S30_F3569', 'L3_S30_F3524', 'L3_S33_F3865', 'L1_S24_F1567', 'L3_S32_F3854_T2', 'L3_S29_F3427', 'L3_S37_D3942', 'L0_S9_F180', 'L1_S24_F1798', 'L0_S22_F591', 'L0_S0_F16', 'L3_S29_F3339', 'L3_S30_F3784', 'L2_S27_F3144', 'L0_S12_F350', 'L0_S0_F14', 'L0_S8_F144', 'L0_S11_F294', 'L1_S24_F1510_T2', 'L3_S29_F3461', 'L0_S9_F185', 'L2_S27_F3129', 'L1_S24_F1803', 'L0_S3_F84', 'L0_S0_F0', 'L0_S3_F72', 'L0_S10_F244', 'L0_S5_F116', 'L2_S26_F3099_T143', 'L1_S24_D1826', 'L1_S24_D1511', 'L1_S24_F1652', 'L3_S29_F3412', 'L1_S24_D1576', 'L1_S24_F1773', 'L0_S3_F68', 'L3_S34_F3880', 'L3_S30_F3564', 'L3_S29_F3433', 'L1_S24_F1838', 'L1_S24_F1578', 'L0_S22_F566', 'L0_S12_F346', 'L1_S24_F1662', 'L1_S24_F1758', 'L3_S29_F3464', 'L0_S14_F374', 'L2_S26_F3055', 'L0_S10_F249', 'L1_S24_F1788', 'L0_S3_F100', 'L0_S14_F382', 'L0_S9_F160', 'L3_S30_F3829', 'L0_S2_F56', 'L2_S27_F3170', 'L0_S22_F571', 'L1_S24_F1695', 'L1_S24_F1575', 'L1_S24_F1768', 'L2_S26_F3040', 'L0_S6_D120', 'L3_S33_F3859', 'L2_S26_F3047', 'L3_S35_F3898', 'L0_S12_F342', 'L1_S24_D1583', 'L0_S13_F354', 'L0_S11_F286', 'L0_S20_D462', 'L0_S12_D331', 'L0_S0_F6', 'L1_S24_F1622', 'L3_S33_F3871', 'L2_S26_F3038_T1', 'L1_S24_F1778', 'L0_S2_F48', 'L1_S24_F1667', 'L0_S10_F224', 'L3_S30_F3689', 'L2_S27_F3206', 'L1_S24_F1594', 'L1_S24_F1850', 'L3_S29_F3360', 'L3_S37_F3946', 'L0_S1_D26', 'L3_S36_F3926', 'L0_S11_F302', 'L3_S30_F3674', 'L0_S22_F611', 'L3_S29_F3318', 'L0_S11_F306', 'L1_S24_D1809', 'L0_S12_F338', 'L0_S9_F175', 'L0_S0_D1', 'L0_S22_F551', 'L3_S29_F3407', 'L3_S29_F3351', 'L0_S17_F433', 'L3_S35_F3884', 'L3_S30_F3574', 'L3_S36_D3919', 'L1_S24_F1738', 'L2_S26_F3117', 'L0_S2_F40', 'L0_S6_F132', 'L3_S30_F3704', 'L0_S8_F146', 'L1_S24_F1514', 'L3_S35_F3913', 'L0_S9_D152', 'L3_S35_D3886', 'L3_S30_F3609', 'L1_S24_F1700', 'L3_S30_F3749', 'L3_S29_F3470', 'L0_S3_F92', 'L3_S30_F3644', 'L0_S5_F114', 'L1_S24_F1510_T3', 'L2_S26_D3037', 'L3_S30_F3634', 'L0_S10_F269', 'L1_S24_F1743', 'L3_S33_F3873', 'L1_S24_F1846', 'L0_S9_F170', 'L2_S27_F3131_T1', 'L2_S27_D3130', 'L0_S9_F155', 'L0_S9_F210', 'L3_S29_F3482', 'L1_S24_F1842', 'L3_S30_F3684', 'L2_S26_F3069', 'L3_S29_F3315', 'L3_S30_F3504', 'L3_S29_F3357', 'L3_S33_F3857', 'L0_S3_D70', 'L3_S30_F3629', 'L3_S29_F3330', 'L3_S30_F3799', 'L2_S27_F3140', 'L1_S24_F1824', 'L0_S9_F205', 'L3_S29_F3336', 'L0_S9_F200', 'L0_S6_F122', 'L0_S20_F461', 'L1_S24_F1582_T1', 'L3_S35_F3894', 'L0_S10_D216', 'L0_S14_F366', 'L3_S30_F3624', 'L2_S27_F3166', 'L0_S22_F586', 'L1_S24_F1836', 'L2_S26_F3099_T145', 'L3_S36_F3918', 'L3_S35_F3908', 'L0_S0_F10', 'L1_S24_F1816', 'L0_S22_F601', 'L3_S30_F3534', 'L3_S29_F3376', 'L1_S24_F1848', 'L3_S29_F3430', 'L3_S29_F3476', 'L0_S2_D34', 'L3_S29_F3321', 'L1_S24_F1544', 'L3_S30_F3724', 'L3_S29_F3488', 'L3_S30_F3679', 'L1_S24_F1581', 'L0_S10_F274', 'L0_S12_F348', 'L0_S17_D432', 'L1_S24_F1818', 'L0_S22_F556', 'L0_S0_F22', 'L0_S22_F576', 'L0_S17_F431', 'L2_S26_F3113', 'L3_S29_F3342', 'L3_S30_F3764', 'L3_S36_F3930', 'L0_S20_F463', 'L0_S4_F104', 'L1_S24_F1518', 'L0_S22_F581', 'L3_S30_F3509', 'L3_S32_F3851_T1', 'L3_S32_F3854_T128', 'L3_S30_F3579', 'L0_S2_F60', 'L0_S0_F8', 'L3_S29_F3473', 'L0_S7_F136', 'L3_S29_F3436', 'L0_S10_F259', 'L1_S24_D1568', 'L2_S26_F3125', 'L3_S30_F3604', 'L2_S26_F3051', 'L0_S5_D115', 'L3_S29_F3373', 'L0_S13_F356', 'L3_S35_F3889', 'L0_S0_F20', 'L3_S29_F3491', 'L0_S10_F264', 'L3_S30_F3739', 'L1_S24_F1808', 'L3_S33_F3867', 'L1_S24_D1566', 'L3_S30_F3519', 'L0_S2_F32', 'L0_S11_F290', 'L1_S24_F1647', 'L0_S0_F18', 'L0_S18_F439', 'L0_S3_F96', 'L3_S30_D3496', 'L0_S12_F330', 'L1_S24_F1539', 'L1_S24_F1812', 'L3_S30_F3709']\n"
     ]
    }
   ],
   "source": [
    "print(b)"
   ]
  },
  {
   "cell_type": "code",
   "execution_count": 22,
   "id": "1c23af12",
   "metadata": {},
   "outputs": [],
   "source": [
    "b.append('Response')"
   ]
  },
  {
   "cell_type": "code",
   "execution_count": 23,
   "id": "e2d6618c",
   "metadata": {},
   "outputs": [],
   "source": [
    "exc_df = pd.read_csv('exc.csv' , usecols = b)"
   ]
  },
  {
   "cell_type": "code",
   "execution_count": 24,
   "id": "a0bcb22d",
   "metadata": {},
   "outputs": [
    {
     "data": {
      "text/plain": [
       "(547820, 387)"
      ]
     },
     "execution_count": 24,
     "metadata": {},
     "output_type": "execute_result"
    }
   ],
   "source": [
    "exc_df.shape"
   ]
  },
  {
   "cell_type": "code",
   "execution_count": 25,
   "id": "100ac304",
   "metadata": {},
   "outputs": [],
   "source": [
    "exc_df = exc_df.fillna(0)"
   ]
  },
  {
   "cell_type": "code",
   "execution_count": 26,
   "id": "e497fb85",
   "metadata": {},
   "outputs": [
    {
     "data": {
      "text/html": [
       "<div>\n",
       "<style scoped>\n",
       "    .dataframe tbody tr th:only-of-type {\n",
       "        vertical-align: middle;\n",
       "    }\n",
       "\n",
       "    .dataframe tbody tr th {\n",
       "        vertical-align: top;\n",
       "    }\n",
       "\n",
       "    .dataframe thead th {\n",
       "        text-align: right;\n",
       "    }\n",
       "</style>\n",
       "<table border=\"1\" class=\"dataframe\">\n",
       "  <thead>\n",
       "    <tr style=\"text-align: right;\">\n",
       "      <th></th>\n",
       "      <th>L0_S0_F0</th>\n",
       "      <th>L0_S0_F2</th>\n",
       "      <th>L0_S0_F4</th>\n",
       "      <th>L0_S0_F6</th>\n",
       "      <th>L0_S0_F8</th>\n",
       "      <th>L0_S0_F10</th>\n",
       "      <th>L0_S0_F12</th>\n",
       "      <th>L0_S0_F14</th>\n",
       "      <th>L0_S0_F16</th>\n",
       "      <th>L0_S0_F18</th>\n",
       "      <th>...</th>\n",
       "      <th>L2_S26_F3099_T143</th>\n",
       "      <th>L2_S26_F3099_T145</th>\n",
       "      <th>L2_S27_F3131_T1</th>\n",
       "      <th>L2_S27_F3192_T143</th>\n",
       "      <th>L2_S27_F3192_T145</th>\n",
       "      <th>L2_S28_F3224_T1</th>\n",
       "      <th>L3_S29_F3317_T1</th>\n",
       "      <th>L3_S32_F3851_T1</th>\n",
       "      <th>L3_S32_F3854_T128</th>\n",
       "      <th>L3_S32_F3854_T2</th>\n",
       "    </tr>\n",
       "  </thead>\n",
       "  <tbody>\n",
       "    <tr>\n",
       "      <th>0</th>\n",
       "      <td>0.030</td>\n",
       "      <td>-0.034</td>\n",
       "      <td>-0.197</td>\n",
       "      <td>-0.179</td>\n",
       "      <td>0.118</td>\n",
       "      <td>0.116</td>\n",
       "      <td>-0.015</td>\n",
       "      <td>-0.032</td>\n",
       "      <td>0.020</td>\n",
       "      <td>0.083</td>\n",
       "      <td>...</td>\n",
       "      <td>0</td>\n",
       "      <td>0</td>\n",
       "      <td>0</td>\n",
       "      <td>0</td>\n",
       "      <td>0</td>\n",
       "      <td>0</td>\n",
       "      <td>0</td>\n",
       "      <td>0</td>\n",
       "      <td>0</td>\n",
       "      <td>0</td>\n",
       "    </tr>\n",
       "    <tr>\n",
       "      <th>1</th>\n",
       "      <td>0.000</td>\n",
       "      <td>0.000</td>\n",
       "      <td>0.000</td>\n",
       "      <td>0.000</td>\n",
       "      <td>0.000</td>\n",
       "      <td>0.000</td>\n",
       "      <td>0.000</td>\n",
       "      <td>0.000</td>\n",
       "      <td>0.000</td>\n",
       "      <td>0.000</td>\n",
       "      <td>...</td>\n",
       "      <td>0</td>\n",
       "      <td>0</td>\n",
       "      <td>0</td>\n",
       "      <td>0</td>\n",
       "      <td>0</td>\n",
       "      <td>0</td>\n",
       "      <td>0</td>\n",
       "      <td>0</td>\n",
       "      <td>0</td>\n",
       "      <td>0</td>\n",
       "    </tr>\n",
       "    <tr>\n",
       "      <th>2</th>\n",
       "      <td>0.000</td>\n",
       "      <td>0.000</td>\n",
       "      <td>0.000</td>\n",
       "      <td>0.000</td>\n",
       "      <td>0.000</td>\n",
       "      <td>0.000</td>\n",
       "      <td>0.000</td>\n",
       "      <td>0.000</td>\n",
       "      <td>0.000</td>\n",
       "      <td>0.000</td>\n",
       "      <td>...</td>\n",
       "      <td>0</td>\n",
       "      <td>0</td>\n",
       "      <td>0</td>\n",
       "      <td>0</td>\n",
       "      <td>0</td>\n",
       "      <td>0</td>\n",
       "      <td>1</td>\n",
       "      <td>0</td>\n",
       "      <td>0</td>\n",
       "      <td>0</td>\n",
       "    </tr>\n",
       "    <tr>\n",
       "      <th>3</th>\n",
       "      <td>-0.016</td>\n",
       "      <td>-0.041</td>\n",
       "      <td>-0.179</td>\n",
       "      <td>-0.179</td>\n",
       "      <td>-0.056</td>\n",
       "      <td>0.161</td>\n",
       "      <td>-0.007</td>\n",
       "      <td>-0.032</td>\n",
       "      <td>-0.082</td>\n",
       "      <td>0.163</td>\n",
       "      <td>...</td>\n",
       "      <td>0</td>\n",
       "      <td>0</td>\n",
       "      <td>0</td>\n",
       "      <td>0</td>\n",
       "      <td>0</td>\n",
       "      <td>0</td>\n",
       "      <td>1</td>\n",
       "      <td>0</td>\n",
       "      <td>0</td>\n",
       "      <td>0</td>\n",
       "    </tr>\n",
       "    <tr>\n",
       "      <th>4</th>\n",
       "      <td>0.000</td>\n",
       "      <td>0.000</td>\n",
       "      <td>0.000</td>\n",
       "      <td>0.000</td>\n",
       "      <td>0.000</td>\n",
       "      <td>0.000</td>\n",
       "      <td>0.000</td>\n",
       "      <td>0.000</td>\n",
       "      <td>0.000</td>\n",
       "      <td>0.000</td>\n",
       "      <td>...</td>\n",
       "      <td>0</td>\n",
       "      <td>0</td>\n",
       "      <td>0</td>\n",
       "      <td>0</td>\n",
       "      <td>0</td>\n",
       "      <td>0</td>\n",
       "      <td>1</td>\n",
       "      <td>0</td>\n",
       "      <td>0</td>\n",
       "      <td>0</td>\n",
       "    </tr>\n",
       "  </tbody>\n",
       "</table>\n",
       "<p>5 rows × 387 columns</p>\n",
       "</div>"
      ],
      "text/plain": [
       "   L0_S0_F0  L0_S0_F2  L0_S0_F4  L0_S0_F6  L0_S0_F8  L0_S0_F10  L0_S0_F12  \\\n",
       "0     0.030    -0.034    -0.197    -0.179     0.118      0.116     -0.015   \n",
       "1     0.000     0.000     0.000     0.000     0.000      0.000      0.000   \n",
       "2     0.000     0.000     0.000     0.000     0.000      0.000      0.000   \n",
       "3    -0.016    -0.041    -0.179    -0.179    -0.056      0.161     -0.007   \n",
       "4     0.000     0.000     0.000     0.000     0.000      0.000      0.000   \n",
       "\n",
       "   L0_S0_F14  L0_S0_F16  L0_S0_F18  ...  L2_S26_F3099_T143  L2_S26_F3099_T145  \\\n",
       "0     -0.032      0.020      0.083  ...                  0                  0   \n",
       "1      0.000      0.000      0.000  ...                  0                  0   \n",
       "2      0.000      0.000      0.000  ...                  0                  0   \n",
       "3     -0.032     -0.082      0.163  ...                  0                  0   \n",
       "4      0.000      0.000      0.000  ...                  0                  0   \n",
       "\n",
       "   L2_S27_F3131_T1  L2_S27_F3192_T143  L2_S27_F3192_T145  L2_S28_F3224_T1  \\\n",
       "0                0                  0                  0                0   \n",
       "1                0                  0                  0                0   \n",
       "2                0                  0                  0                0   \n",
       "3                0                  0                  0                0   \n",
       "4                0                  0                  0                0   \n",
       "\n",
       "   L3_S29_F3317_T1  L3_S32_F3851_T1  L3_S32_F3854_T128  L3_S32_F3854_T2  \n",
       "0                0                0                  0                0  \n",
       "1                0                0                  0                0  \n",
       "2                1                0                  0                0  \n",
       "3                1                0                  0                0  \n",
       "4                1                0                  0                0  \n",
       "\n",
       "[5 rows x 387 columns]"
      ]
     },
     "execution_count": 26,
     "metadata": {},
     "output_type": "execute_result"
    }
   ],
   "source": [
    "exc_df.head()"
   ]
  },
  {
   "cell_type": "code",
   "execution_count": 27,
   "id": "11a0ce47",
   "metadata": {},
   "outputs": [],
   "source": [
    "exc_df.to_csv(r'D:/bosch_production/1/exc_def.csv', index = False)"
   ]
  },
  {
   "cell_type": "code",
   "execution_count": 17,
   "id": "a4071bae",
   "metadata": {},
   "outputs": [],
   "source": [
    "exc_df = pd.read_csv('exc_def.csv')"
   ]
  },
  {
   "cell_type": "code",
   "execution_count": 3,
   "id": "fd8df72d",
   "metadata": {},
   "outputs": [
    {
     "data": {
      "text/html": [
       "<div>\n",
       "<style scoped>\n",
       "    .dataframe tbody tr th:only-of-type {\n",
       "        vertical-align: middle;\n",
       "    }\n",
       "\n",
       "    .dataframe tbody tr th {\n",
       "        vertical-align: top;\n",
       "    }\n",
       "\n",
       "    .dataframe thead th {\n",
       "        text-align: right;\n",
       "    }\n",
       "</style>\n",
       "<table border=\"1\" class=\"dataframe\">\n",
       "  <thead>\n",
       "    <tr style=\"text-align: right;\">\n",
       "      <th></th>\n",
       "      <th>L0_S0_F0</th>\n",
       "      <th>L0_S0_F2</th>\n",
       "      <th>L0_S0_F4</th>\n",
       "      <th>L0_S0_F6</th>\n",
       "      <th>L0_S0_F8</th>\n",
       "      <th>L0_S0_F10</th>\n",
       "      <th>L0_S0_F12</th>\n",
       "      <th>L0_S0_F14</th>\n",
       "      <th>L0_S0_F16</th>\n",
       "      <th>L0_S0_F18</th>\n",
       "      <th>...</th>\n",
       "      <th>L2_S26_F3099_T143</th>\n",
       "      <th>L2_S26_F3099_T145</th>\n",
       "      <th>L2_S27_F3131_T1</th>\n",
       "      <th>L2_S27_F3192_T143</th>\n",
       "      <th>L2_S27_F3192_T145</th>\n",
       "      <th>L2_S28_F3224_T1</th>\n",
       "      <th>L3_S29_F3317_T1</th>\n",
       "      <th>L3_S32_F3851_T1</th>\n",
       "      <th>L3_S32_F3854_T128</th>\n",
       "      <th>L3_S32_F3854_T2</th>\n",
       "    </tr>\n",
       "  </thead>\n",
       "  <tbody>\n",
       "    <tr>\n",
       "      <th>0</th>\n",
       "      <td>0.030</td>\n",
       "      <td>-0.034</td>\n",
       "      <td>-0.197</td>\n",
       "      <td>-0.179</td>\n",
       "      <td>0.118</td>\n",
       "      <td>0.116</td>\n",
       "      <td>-0.015</td>\n",
       "      <td>-0.032</td>\n",
       "      <td>0.020</td>\n",
       "      <td>0.083</td>\n",
       "      <td>...</td>\n",
       "      <td>0</td>\n",
       "      <td>0</td>\n",
       "      <td>0</td>\n",
       "      <td>0</td>\n",
       "      <td>0</td>\n",
       "      <td>0</td>\n",
       "      <td>0</td>\n",
       "      <td>0</td>\n",
       "      <td>0</td>\n",
       "      <td>0</td>\n",
       "    </tr>\n",
       "    <tr>\n",
       "      <th>1</th>\n",
       "      <td>0.000</td>\n",
       "      <td>0.000</td>\n",
       "      <td>0.000</td>\n",
       "      <td>0.000</td>\n",
       "      <td>0.000</td>\n",
       "      <td>0.000</td>\n",
       "      <td>0.000</td>\n",
       "      <td>0.000</td>\n",
       "      <td>0.000</td>\n",
       "      <td>0.000</td>\n",
       "      <td>...</td>\n",
       "      <td>0</td>\n",
       "      <td>0</td>\n",
       "      <td>0</td>\n",
       "      <td>0</td>\n",
       "      <td>0</td>\n",
       "      <td>0</td>\n",
       "      <td>0</td>\n",
       "      <td>0</td>\n",
       "      <td>0</td>\n",
       "      <td>0</td>\n",
       "    </tr>\n",
       "    <tr>\n",
       "      <th>2</th>\n",
       "      <td>0.000</td>\n",
       "      <td>0.000</td>\n",
       "      <td>0.000</td>\n",
       "      <td>0.000</td>\n",
       "      <td>0.000</td>\n",
       "      <td>0.000</td>\n",
       "      <td>0.000</td>\n",
       "      <td>0.000</td>\n",
       "      <td>0.000</td>\n",
       "      <td>0.000</td>\n",
       "      <td>...</td>\n",
       "      <td>0</td>\n",
       "      <td>0</td>\n",
       "      <td>0</td>\n",
       "      <td>0</td>\n",
       "      <td>0</td>\n",
       "      <td>0</td>\n",
       "      <td>1</td>\n",
       "      <td>0</td>\n",
       "      <td>0</td>\n",
       "      <td>0</td>\n",
       "    </tr>\n",
       "    <tr>\n",
       "      <th>3</th>\n",
       "      <td>-0.016</td>\n",
       "      <td>-0.041</td>\n",
       "      <td>-0.179</td>\n",
       "      <td>-0.179</td>\n",
       "      <td>-0.056</td>\n",
       "      <td>0.161</td>\n",
       "      <td>-0.007</td>\n",
       "      <td>-0.032</td>\n",
       "      <td>-0.082</td>\n",
       "      <td>0.163</td>\n",
       "      <td>...</td>\n",
       "      <td>0</td>\n",
       "      <td>0</td>\n",
       "      <td>0</td>\n",
       "      <td>0</td>\n",
       "      <td>0</td>\n",
       "      <td>0</td>\n",
       "      <td>1</td>\n",
       "      <td>0</td>\n",
       "      <td>0</td>\n",
       "      <td>0</td>\n",
       "    </tr>\n",
       "    <tr>\n",
       "      <th>4</th>\n",
       "      <td>0.000</td>\n",
       "      <td>0.000</td>\n",
       "      <td>0.000</td>\n",
       "      <td>0.000</td>\n",
       "      <td>0.000</td>\n",
       "      <td>0.000</td>\n",
       "      <td>0.000</td>\n",
       "      <td>0.000</td>\n",
       "      <td>0.000</td>\n",
       "      <td>0.000</td>\n",
       "      <td>...</td>\n",
       "      <td>0</td>\n",
       "      <td>0</td>\n",
       "      <td>0</td>\n",
       "      <td>0</td>\n",
       "      <td>0</td>\n",
       "      <td>0</td>\n",
       "      <td>1</td>\n",
       "      <td>0</td>\n",
       "      <td>0</td>\n",
       "      <td>0</td>\n",
       "    </tr>\n",
       "  </tbody>\n",
       "</table>\n",
       "<p>5 rows × 387 columns</p>\n",
       "</div>"
      ],
      "text/plain": [
       "   L0_S0_F0  L0_S0_F2  L0_S0_F4  L0_S0_F6  L0_S0_F8  L0_S0_F10  L0_S0_F12  \\\n",
       "0     0.030    -0.034    -0.197    -0.179     0.118      0.116     -0.015   \n",
       "1     0.000     0.000     0.000     0.000     0.000      0.000      0.000   \n",
       "2     0.000     0.000     0.000     0.000     0.000      0.000      0.000   \n",
       "3    -0.016    -0.041    -0.179    -0.179    -0.056      0.161     -0.007   \n",
       "4     0.000     0.000     0.000     0.000     0.000      0.000      0.000   \n",
       "\n",
       "   L0_S0_F14  L0_S0_F16  L0_S0_F18  ...  L2_S26_F3099_T143  L2_S26_F3099_T145  \\\n",
       "0     -0.032      0.020      0.083  ...                  0                  0   \n",
       "1      0.000      0.000      0.000  ...                  0                  0   \n",
       "2      0.000      0.000      0.000  ...                  0                  0   \n",
       "3     -0.032     -0.082      0.163  ...                  0                  0   \n",
       "4      0.000      0.000      0.000  ...                  0                  0   \n",
       "\n",
       "   L2_S27_F3131_T1  L2_S27_F3192_T143  L2_S27_F3192_T145  L2_S28_F3224_T1  \\\n",
       "0                0                  0                  0                0   \n",
       "1                0                  0                  0                0   \n",
       "2                0                  0                  0                0   \n",
       "3                0                  0                  0                0   \n",
       "4                0                  0                  0                0   \n",
       "\n",
       "   L3_S29_F3317_T1  L3_S32_F3851_T1  L3_S32_F3854_T128  L3_S32_F3854_T2  \n",
       "0                0                0                  0                0  \n",
       "1                0                0                  0                0  \n",
       "2                1                0                  0                0  \n",
       "3                1                0                  0                0  \n",
       "4                1                0                  0                0  \n",
       "\n",
       "[5 rows x 387 columns]"
      ]
     },
     "execution_count": 3,
     "metadata": {},
     "output_type": "execute_result"
    }
   ],
   "source": [
    "exc_df.head()"
   ]
  },
  {
   "cell_type": "code",
   "execution_count": 4,
   "id": "8434c152",
   "metadata": {},
   "outputs": [],
   "source": [
    "smt = SMOTETomek(random_state=42)\n",
    "def sampling(X, y):\n",
    "    X_res, y_res = smt.fit_resample(X, y)\n",
    "    return X_res , y_res"
   ]
  },
  {
   "cell_type": "code",
   "execution_count": 5,
   "id": "1779ef4e",
   "metadata": {},
   "outputs": [],
   "source": [
    "max_acc_dict = {}\n",
    "min_acc_dict = {}\n",
    "overall_acc_dict = {}\n",
    "std_dev_dict = {}\n",
    "matrix = {}\n",
    "feature_imp_dict = {}\n",
    "def storing(feature_imp, y_test ,y_pred, max_acc, min_acc , overall_acc , std_dev, product_name):\n",
    "    max_acc_dict[product_name] = max_acc\n",
    "    min_acc_dict[product_name] = min_acc\n",
    "    overall_acc_dict[product_name] = overall_acc\n",
    "    std_dev_dict[product_name] = std_dev\n",
    "    feature_imp_dict[product_name] = feature_imp\n",
    "    tn, fp, fn, tp = confusion_matrix(y_test ,y_pred).ravel()\n",
    "    matrix[product_name] = [tn, fp, fn, tp]"
   ]
  },
  {
   "cell_type": "code",
   "execution_count": 6,
   "id": "870f95bf",
   "metadata": {},
   "outputs": [],
   "source": [
    "def stratified_model_training(X, y):\n",
    "    skf = StratifiedKFold(n_splits=5, shuffle=True, random_state=1)\n",
    "    acc_stratified = []\n",
    "    model = lgb.LGBMClassifier()\n",
    "    product_name = 'exc'\n",
    "    for train_index, test_index in skf.split(X, y):\n",
    "        X_train_fold, X_test_fold = X.iloc[train_index], X.iloc[test_index]\n",
    "        y_train_fold, y_test_fold = y.iloc[train_index], y.iloc[test_index]\n",
    "        scaler = StandardScaler()\n",
    "        X_train_scaled = scaler.fit_transform(X_train_fold)\n",
    "        model.fit(X_train_scaled, y_train_fold)\n",
    "        X_test_scaled = scaler.transform(X_test_fold)\n",
    "        y_pred = model.predict(X_test_scaled)\n",
    "        acc_stratified.append(model.score(X_test_scaled, y_test_fold))\n",
    "    max_acc = max(acc_stratified)*100\n",
    "    min_acc = min(acc_stratified)*100\n",
    "    overall_acc = np.array(acc_stratified).mean()*100\n",
    "    std_dev = np.std(acc_stratified)\n",
    "    feature_imp = pd.DataFrame(sorted(zip(model.feature_importances_,X.columns)), columns=['Value','Feature'])\n",
    "    y_pred = model.predict(X_test_scaled)\n",
    "    storing(feature_imp, y_test_fold ,y_pred, max_acc, min_acc , overall_acc , std_dev, product_name)\n",
    "    print('Done!')"
   ]
  },
  {
   "cell_type": "code",
   "execution_count": 6,
   "id": "40d8d289",
   "metadata": {},
   "outputs": [
    {
     "data": {
      "text/html": [
       "<div>\n",
       "<style scoped>\n",
       "    .dataframe tbody tr th:only-of-type {\n",
       "        vertical-align: middle;\n",
       "    }\n",
       "\n",
       "    .dataframe tbody tr th {\n",
       "        vertical-align: top;\n",
       "    }\n",
       "\n",
       "    .dataframe thead th {\n",
       "        text-align: right;\n",
       "    }\n",
       "</style>\n",
       "<table border=\"1\" class=\"dataframe\">\n",
       "  <thead>\n",
       "    <tr style=\"text-align: right;\">\n",
       "      <th></th>\n",
       "      <th>L0_S0_F0</th>\n",
       "      <th>L0_S0_F2</th>\n",
       "      <th>L0_S0_F4</th>\n",
       "      <th>L0_S0_F6</th>\n",
       "      <th>L0_S0_F8</th>\n",
       "      <th>L0_S0_F10</th>\n",
       "      <th>L0_S0_F12</th>\n",
       "      <th>L0_S0_F14</th>\n",
       "      <th>L0_S0_F16</th>\n",
       "      <th>L0_S0_F18</th>\n",
       "      <th>...</th>\n",
       "      <th>L2_S26_F3099_T143</th>\n",
       "      <th>L2_S26_F3099_T145</th>\n",
       "      <th>L2_S27_F3131_T1</th>\n",
       "      <th>L2_S27_F3192_T143</th>\n",
       "      <th>L2_S27_F3192_T145</th>\n",
       "      <th>L2_S28_F3224_T1</th>\n",
       "      <th>L3_S29_F3317_T1</th>\n",
       "      <th>L3_S32_F3851_T1</th>\n",
       "      <th>L3_S32_F3854_T128</th>\n",
       "      <th>L3_S32_F3854_T2</th>\n",
       "    </tr>\n",
       "  </thead>\n",
       "  <tbody>\n",
       "    <tr>\n",
       "      <th>0</th>\n",
       "      <td>0.030</td>\n",
       "      <td>-0.034</td>\n",
       "      <td>-0.197</td>\n",
       "      <td>-0.179</td>\n",
       "      <td>0.118</td>\n",
       "      <td>0.116</td>\n",
       "      <td>-0.015</td>\n",
       "      <td>-0.032</td>\n",
       "      <td>0.020</td>\n",
       "      <td>0.083</td>\n",
       "      <td>...</td>\n",
       "      <td>0</td>\n",
       "      <td>0</td>\n",
       "      <td>0</td>\n",
       "      <td>0</td>\n",
       "      <td>0</td>\n",
       "      <td>0</td>\n",
       "      <td>0</td>\n",
       "      <td>0</td>\n",
       "      <td>0</td>\n",
       "      <td>0</td>\n",
       "    </tr>\n",
       "    <tr>\n",
       "      <th>1</th>\n",
       "      <td>0.000</td>\n",
       "      <td>0.000</td>\n",
       "      <td>0.000</td>\n",
       "      <td>0.000</td>\n",
       "      <td>0.000</td>\n",
       "      <td>0.000</td>\n",
       "      <td>0.000</td>\n",
       "      <td>0.000</td>\n",
       "      <td>0.000</td>\n",
       "      <td>0.000</td>\n",
       "      <td>...</td>\n",
       "      <td>0</td>\n",
       "      <td>0</td>\n",
       "      <td>0</td>\n",
       "      <td>0</td>\n",
       "      <td>0</td>\n",
       "      <td>0</td>\n",
       "      <td>0</td>\n",
       "      <td>0</td>\n",
       "      <td>0</td>\n",
       "      <td>0</td>\n",
       "    </tr>\n",
       "    <tr>\n",
       "      <th>2</th>\n",
       "      <td>0.000</td>\n",
       "      <td>0.000</td>\n",
       "      <td>0.000</td>\n",
       "      <td>0.000</td>\n",
       "      <td>0.000</td>\n",
       "      <td>0.000</td>\n",
       "      <td>0.000</td>\n",
       "      <td>0.000</td>\n",
       "      <td>0.000</td>\n",
       "      <td>0.000</td>\n",
       "      <td>...</td>\n",
       "      <td>0</td>\n",
       "      <td>0</td>\n",
       "      <td>0</td>\n",
       "      <td>0</td>\n",
       "      <td>0</td>\n",
       "      <td>0</td>\n",
       "      <td>1</td>\n",
       "      <td>0</td>\n",
       "      <td>0</td>\n",
       "      <td>0</td>\n",
       "    </tr>\n",
       "    <tr>\n",
       "      <th>3</th>\n",
       "      <td>-0.016</td>\n",
       "      <td>-0.041</td>\n",
       "      <td>-0.179</td>\n",
       "      <td>-0.179</td>\n",
       "      <td>-0.056</td>\n",
       "      <td>0.161</td>\n",
       "      <td>-0.007</td>\n",
       "      <td>-0.032</td>\n",
       "      <td>-0.082</td>\n",
       "      <td>0.163</td>\n",
       "      <td>...</td>\n",
       "      <td>0</td>\n",
       "      <td>0</td>\n",
       "      <td>0</td>\n",
       "      <td>0</td>\n",
       "      <td>0</td>\n",
       "      <td>0</td>\n",
       "      <td>1</td>\n",
       "      <td>0</td>\n",
       "      <td>0</td>\n",
       "      <td>0</td>\n",
       "    </tr>\n",
       "    <tr>\n",
       "      <th>4</th>\n",
       "      <td>0.000</td>\n",
       "      <td>0.000</td>\n",
       "      <td>0.000</td>\n",
       "      <td>0.000</td>\n",
       "      <td>0.000</td>\n",
       "      <td>0.000</td>\n",
       "      <td>0.000</td>\n",
       "      <td>0.000</td>\n",
       "      <td>0.000</td>\n",
       "      <td>0.000</td>\n",
       "      <td>...</td>\n",
       "      <td>0</td>\n",
       "      <td>0</td>\n",
       "      <td>0</td>\n",
       "      <td>0</td>\n",
       "      <td>0</td>\n",
       "      <td>0</td>\n",
       "      <td>1</td>\n",
       "      <td>0</td>\n",
       "      <td>0</td>\n",
       "      <td>0</td>\n",
       "    </tr>\n",
       "  </tbody>\n",
       "</table>\n",
       "<p>5 rows × 387 columns</p>\n",
       "</div>"
      ],
      "text/plain": [
       "   L0_S0_F0  L0_S0_F2  L0_S0_F4  L0_S0_F6  L0_S0_F8  L0_S0_F10  L0_S0_F12  \\\n",
       "0     0.030    -0.034    -0.197    -0.179     0.118      0.116     -0.015   \n",
       "1     0.000     0.000     0.000     0.000     0.000      0.000      0.000   \n",
       "2     0.000     0.000     0.000     0.000     0.000      0.000      0.000   \n",
       "3    -0.016    -0.041    -0.179    -0.179    -0.056      0.161     -0.007   \n",
       "4     0.000     0.000     0.000     0.000     0.000      0.000      0.000   \n",
       "\n",
       "   L0_S0_F14  L0_S0_F16  L0_S0_F18  ...  L2_S26_F3099_T143  L2_S26_F3099_T145  \\\n",
       "0     -0.032      0.020      0.083  ...                  0                  0   \n",
       "1      0.000      0.000      0.000  ...                  0                  0   \n",
       "2      0.000      0.000      0.000  ...                  0                  0   \n",
       "3     -0.032     -0.082      0.163  ...                  0                  0   \n",
       "4      0.000      0.000      0.000  ...                  0                  0   \n",
       "\n",
       "   L2_S27_F3131_T1  L2_S27_F3192_T143  L2_S27_F3192_T145  L2_S28_F3224_T1  \\\n",
       "0                0                  0                  0                0   \n",
       "1                0                  0                  0                0   \n",
       "2                0                  0                  0                0   \n",
       "3                0                  0                  0                0   \n",
       "4                0                  0                  0                0   \n",
       "\n",
       "   L3_S29_F3317_T1  L3_S32_F3851_T1  L3_S32_F3854_T128  L3_S32_F3854_T2  \n",
       "0                0                0                  0                0  \n",
       "1                0                0                  0                0  \n",
       "2                1                0                  0                0  \n",
       "3                1                0                  0                0  \n",
       "4                1                0                  0                0  \n",
       "\n",
       "[5 rows x 387 columns]"
      ]
     },
     "execution_count": 6,
     "metadata": {},
     "output_type": "execute_result"
    }
   ],
   "source": [
    "exc_df.head()"
   ]
  },
  {
   "cell_type": "code",
   "execution_count": 7,
   "id": "3aaf9c18",
   "metadata": {},
   "outputs": [],
   "source": [
    "df = exc_df\n",
    "X = df.drop('Response' , 1)\n",
    "y = df['Response']\n",
    "X_res , y_res = sampling(X, y)"
   ]
  },
  {
   "cell_type": "code",
   "execution_count": 8,
   "id": "d11477de",
   "metadata": {},
   "outputs": [
    {
     "name": "stdout",
     "output_type": "stream",
     "text": [
      "(1087706, 386)\n",
      "(1087706,)\n"
     ]
    }
   ],
   "source": [
    "print(X_res.shape)\n",
    "print(y_res.shape)"
   ]
  },
  {
   "cell_type": "code",
   "execution_count": 9,
   "id": "a63d7301",
   "metadata": {},
   "outputs": [],
   "source": [
    "X_res.to_csv(r'X_res.csv', index = False)\n",
    "y_res.to_csv(r'y_res.csv', index = False)"
   ]
  },
  {
   "cell_type": "code",
   "execution_count": 2,
   "id": "b03fc2f8",
   "metadata": {},
   "outputs": [],
   "source": [
    "X_res = pd.read_csv('X_res.csv')\n",
    "y_res = pd.read_csv('y_res.csv')"
   ]
  },
  {
   "cell_type": "code",
   "execution_count": 7,
   "id": "cac585b4",
   "metadata": {},
   "outputs": [
    {
     "name": "stdout",
     "output_type": "stream",
     "text": [
      "Done!\n",
      "301.3333902359009\n"
     ]
    }
   ],
   "source": [
    "start = time.time()\n",
    "stratified_model_training(X_res, y_res)\n",
    "end = time.time()\n",
    "print(end- start)"
   ]
  },
  {
   "cell_type": "code",
   "execution_count": 8,
   "id": "6a43c74a",
   "metadata": {},
   "outputs": [
    {
     "data": {
      "text/plain": [
       "{'exc':      Value       Feature\n",
       " 0        0      L0_S0_F0\n",
       " 1        0     L0_S0_F18\n",
       " 2        0   L0_S10_F219\n",
       " 3        0   L0_S10_F244\n",
       " 4        0   L0_S10_F249\n",
       " ..     ...           ...\n",
       " 381     69  L3_S33_F3855\n",
       " 382     85      L0_S0_F8\n",
       " 383    121  L3_S30_F3799\n",
       " 384    173  L3_S30_F3764\n",
       " 385    193  L3_S29_F3354\n",
       " \n",
       " [386 rows x 2 columns]}"
      ]
     },
     "execution_count": 8,
     "metadata": {},
     "output_type": "execute_result"
    }
   ],
   "source": [
    "feature_imp_dict"
   ]
  },
  {
   "cell_type": "code",
   "execution_count": 9,
   "id": "caff76a7",
   "metadata": {},
   "outputs": [
    {
     "data": {
      "text/plain": [
       "{'exc': 98.70369263724999}"
      ]
     },
     "execution_count": 9,
     "metadata": {},
     "output_type": "execute_result"
    }
   ],
   "source": [
    "max_acc_dict"
   ]
  },
  {
   "cell_type": "code",
   "execution_count": 10,
   "id": "85704e0f",
   "metadata": {},
   "outputs": [
    {
     "data": {
      "text/plain": [
       "{'exc': 98.58095715290452}"
      ]
     },
     "execution_count": 10,
     "metadata": {},
     "output_type": "execute_result"
    }
   ],
   "source": [
    "min_acc_dict"
   ]
  },
  {
   "cell_type": "code",
   "execution_count": 11,
   "id": "2c7ca330",
   "metadata": {},
   "outputs": [
    {
     "data": {
      "text/plain": [
       "{'exc': 98.62977680314515}"
      ]
     },
     "execution_count": 11,
     "metadata": {},
     "output_type": "execute_result"
    }
   ],
   "source": [
    "overall_acc_dict"
   ]
  },
  {
   "cell_type": "code",
   "execution_count": 12,
   "id": "2b949466",
   "metadata": {},
   "outputs": [
    {
     "data": {
      "text/plain": [
       "{'exc': 0.00045964831225390535}"
      ]
     },
     "execution_count": 12,
     "metadata": {},
     "output_type": "execute_result"
    }
   ],
   "source": [
    "std_dev_dict"
   ]
  },
  {
   "cell_type": "code",
   "execution_count": 13,
   "id": "9aa5e30e",
   "metadata": {},
   "outputs": [
    {
     "data": {
      "text/html": [
       "<div>\n",
       "<style scoped>\n",
       "    .dataframe tbody tr th:only-of-type {\n",
       "        vertical-align: middle;\n",
       "    }\n",
       "\n",
       "    .dataframe tbody tr th {\n",
       "        vertical-align: top;\n",
       "    }\n",
       "\n",
       "    .dataframe thead th {\n",
       "        text-align: right;\n",
       "    }\n",
       "</style>\n",
       "<table border=\"1\" class=\"dataframe\">\n",
       "  <thead>\n",
       "    <tr style=\"text-align: right;\">\n",
       "      <th></th>\n",
       "      <th>Value</th>\n",
       "      <th>Feature</th>\n",
       "    </tr>\n",
       "  </thead>\n",
       "  <tbody>\n",
       "    <tr>\n",
       "      <th>129</th>\n",
       "      <td>1</td>\n",
       "      <td>L0_S0_F22</td>\n",
       "    </tr>\n",
       "    <tr>\n",
       "      <th>130</th>\n",
       "      <td>1</td>\n",
       "      <td>L0_S11_F282</td>\n",
       "    </tr>\n",
       "    <tr>\n",
       "      <th>131</th>\n",
       "      <td>1</td>\n",
       "      <td>L0_S11_F290</td>\n",
       "    </tr>\n",
       "    <tr>\n",
       "      <th>132</th>\n",
       "      <td>1</td>\n",
       "      <td>L0_S11_F302</td>\n",
       "    </tr>\n",
       "    <tr>\n",
       "      <th>133</th>\n",
       "      <td>1</td>\n",
       "      <td>L0_S11_F318</td>\n",
       "    </tr>\n",
       "    <tr>\n",
       "      <th>...</th>\n",
       "      <td>...</td>\n",
       "      <td>...</td>\n",
       "    </tr>\n",
       "    <tr>\n",
       "      <th>381</th>\n",
       "      <td>69</td>\n",
       "      <td>L3_S33_F3855</td>\n",
       "    </tr>\n",
       "    <tr>\n",
       "      <th>382</th>\n",
       "      <td>85</td>\n",
       "      <td>L0_S0_F8</td>\n",
       "    </tr>\n",
       "    <tr>\n",
       "      <th>383</th>\n",
       "      <td>121</td>\n",
       "      <td>L3_S30_F3799</td>\n",
       "    </tr>\n",
       "    <tr>\n",
       "      <th>384</th>\n",
       "      <td>173</td>\n",
       "      <td>L3_S30_F3764</td>\n",
       "    </tr>\n",
       "    <tr>\n",
       "      <th>385</th>\n",
       "      <td>193</td>\n",
       "      <td>L3_S29_F3354</td>\n",
       "    </tr>\n",
       "  </tbody>\n",
       "</table>\n",
       "<p>257 rows × 2 columns</p>\n",
       "</div>"
      ],
      "text/plain": [
       "     Value       Feature\n",
       "129      1     L0_S0_F22\n",
       "130      1   L0_S11_F282\n",
       "131      1   L0_S11_F290\n",
       "132      1   L0_S11_F302\n",
       "133      1   L0_S11_F318\n",
       "..     ...           ...\n",
       "381     69  L3_S33_F3855\n",
       "382     85      L0_S0_F8\n",
       "383    121  L3_S30_F3799\n",
       "384    173  L3_S30_F3764\n",
       "385    193  L3_S29_F3354\n",
       "\n",
       "[257 rows x 2 columns]"
      ]
     },
     "execution_count": 13,
     "metadata": {},
     "output_type": "execute_result"
    }
   ],
   "source": [
    "feature_imp = feature_imp_dict['exc']\n",
    "feature_imp = feature_imp[feature_imp['Value'] > 0]\n",
    "feature_imp"
   ]
  },
  {
   "cell_type": "code",
   "execution_count": 14,
   "id": "e1461b1c",
   "metadata": {},
   "outputs": [
    {
     "data": {
      "text/html": [
       "<div>\n",
       "<style scoped>\n",
       "    .dataframe tbody tr th:only-of-type {\n",
       "        vertical-align: middle;\n",
       "    }\n",
       "\n",
       "    .dataframe tbody tr th {\n",
       "        vertical-align: top;\n",
       "    }\n",
       "\n",
       "    .dataframe thead th {\n",
       "        text-align: right;\n",
       "    }\n",
       "</style>\n",
       "<table border=\"1\" class=\"dataframe\">\n",
       "  <thead>\n",
       "    <tr style=\"text-align: right;\">\n",
       "      <th></th>\n",
       "      <th>Value</th>\n",
       "      <th>Feature</th>\n",
       "    </tr>\n",
       "  </thead>\n",
       "  <tbody>\n",
       "    <tr>\n",
       "      <th>366</th>\n",
       "      <td>33</td>\n",
       "      <td>L3_S36_F3918</td>\n",
       "    </tr>\n",
       "    <tr>\n",
       "      <th>367</th>\n",
       "      <td>34</td>\n",
       "      <td>L0_S11_F298</td>\n",
       "    </tr>\n",
       "    <tr>\n",
       "      <th>368</th>\n",
       "      <td>36</td>\n",
       "      <td>L3_S29_F3321</td>\n",
       "    </tr>\n",
       "    <tr>\n",
       "      <th>369</th>\n",
       "      <td>36</td>\n",
       "      <td>L3_S30_F3754</td>\n",
       "    </tr>\n",
       "    <tr>\n",
       "      <th>370</th>\n",
       "      <td>37</td>\n",
       "      <td>L0_S0_F4</td>\n",
       "    </tr>\n",
       "    <tr>\n",
       "      <th>371</th>\n",
       "      <td>37</td>\n",
       "      <td>L3_S35_F3894</td>\n",
       "    </tr>\n",
       "    <tr>\n",
       "      <th>372</th>\n",
       "      <td>38</td>\n",
       "      <td>L0_S14_F366</td>\n",
       "    </tr>\n",
       "    <tr>\n",
       "      <th>373</th>\n",
       "      <td>38</td>\n",
       "      <td>L3_S29_F3360</td>\n",
       "    </tr>\n",
       "    <tr>\n",
       "      <th>374</th>\n",
       "      <td>41</td>\n",
       "      <td>L3_S29_F3482</td>\n",
       "    </tr>\n",
       "    <tr>\n",
       "      <th>375</th>\n",
       "      <td>47</td>\n",
       "      <td>L0_S22_F581</td>\n",
       "    </tr>\n",
       "    <tr>\n",
       "      <th>376</th>\n",
       "      <td>48</td>\n",
       "      <td>L3_S30_F3509</td>\n",
       "    </tr>\n",
       "    <tr>\n",
       "      <th>377</th>\n",
       "      <td>51</td>\n",
       "      <td>L3_S30_F3519</td>\n",
       "    </tr>\n",
       "    <tr>\n",
       "      <th>378</th>\n",
       "      <td>55</td>\n",
       "      <td>L3_S29_F3357</td>\n",
       "    </tr>\n",
       "    <tr>\n",
       "      <th>379</th>\n",
       "      <td>57</td>\n",
       "      <td>L0_S14_F358</td>\n",
       "    </tr>\n",
       "    <tr>\n",
       "      <th>380</th>\n",
       "      <td>67</td>\n",
       "      <td>L3_S30_F3514</td>\n",
       "    </tr>\n",
       "    <tr>\n",
       "      <th>381</th>\n",
       "      <td>69</td>\n",
       "      <td>L3_S33_F3855</td>\n",
       "    </tr>\n",
       "    <tr>\n",
       "      <th>382</th>\n",
       "      <td>85</td>\n",
       "      <td>L0_S0_F8</td>\n",
       "    </tr>\n",
       "    <tr>\n",
       "      <th>383</th>\n",
       "      <td>121</td>\n",
       "      <td>L3_S30_F3799</td>\n",
       "    </tr>\n",
       "    <tr>\n",
       "      <th>384</th>\n",
       "      <td>173</td>\n",
       "      <td>L3_S30_F3764</td>\n",
       "    </tr>\n",
       "    <tr>\n",
       "      <th>385</th>\n",
       "      <td>193</td>\n",
       "      <td>L3_S29_F3354</td>\n",
       "    </tr>\n",
       "  </tbody>\n",
       "</table>\n",
       "</div>"
      ],
      "text/plain": [
       "     Value       Feature\n",
       "366     33  L3_S36_F3918\n",
       "367     34   L0_S11_F298\n",
       "368     36  L3_S29_F3321\n",
       "369     36  L3_S30_F3754\n",
       "370     37      L0_S0_F4\n",
       "371     37  L3_S35_F3894\n",
       "372     38   L0_S14_F366\n",
       "373     38  L3_S29_F3360\n",
       "374     41  L3_S29_F3482\n",
       "375     47   L0_S22_F581\n",
       "376     48  L3_S30_F3509\n",
       "377     51  L3_S30_F3519\n",
       "378     55  L3_S29_F3357\n",
       "379     57   L0_S14_F358\n",
       "380     67  L3_S30_F3514\n",
       "381     69  L3_S33_F3855\n",
       "382     85      L0_S0_F8\n",
       "383    121  L3_S30_F3799\n",
       "384    173  L3_S30_F3764\n",
       "385    193  L3_S29_F3354"
      ]
     },
     "execution_count": 14,
     "metadata": {},
     "output_type": "execute_result"
    }
   ],
   "source": [
    "features_ = feature_imp.tail(20)\n",
    "features_"
   ]
  },
  {
   "cell_type": "code",
   "execution_count": 15,
   "id": "b16c568b",
   "metadata": {},
   "outputs": [
    {
     "data": {
      "text/plain": [
       "{'exc': [107999, 771, 2049, 106722]}"
      ]
     },
     "execution_count": 15,
     "metadata": {},
     "output_type": "execute_result"
    }
   ],
   "source": [
    "matrix"
   ]
  },
  {
   "cell_type": "code",
   "execution_count": 18,
   "id": "f7ba3982",
   "metadata": {},
   "outputs": [],
   "source": [
    "df = exc_df\n",
    "features_ = feature_imp.tail(20)\n",
    "features = list(features_['Feature'].values)\n",
    "features.append('Response')\n",
    "df = pd.DataFrame(df, columns=features)\n",
    "X = df.drop('Response' , 1)\n",
    "y = df['Response']"
   ]
  },
  {
   "cell_type": "code",
   "execution_count": 19,
   "id": "8516a156",
   "metadata": {},
   "outputs": [
    {
     "name": "stdout",
     "output_type": "stream",
     "text": [
      "637.664776802063\n"
     ]
    }
   ],
   "source": [
    "start = time.time()\n",
    "X_res_feat , y_res = sampling(X, y)\n",
    "end = time.time()\n",
    "print(end - start)"
   ]
  },
  {
   "cell_type": "code",
   "execution_count": 20,
   "id": "63a05e53",
   "metadata": {},
   "outputs": [
    {
     "name": "stdout",
     "output_type": "stream",
     "text": [
      "(1087706, 386)\n",
      "(1088654, 20)\n"
     ]
    }
   ],
   "source": [
    "print(X_res.shape)\n",
    "print(X_res_feat.shape)"
   ]
  },
  {
   "cell_type": "code",
   "execution_count": 23,
   "id": "9c95f1ab",
   "metadata": {},
   "outputs": [
    {
     "name": "stdout",
     "output_type": "stream",
     "text": [
      "Done!\n",
      "16.479312658309937\n"
     ]
    }
   ],
   "source": [
    "start = time.time()\n",
    "stratified_model_training(X_res_feat, y_res)\n",
    "end = time.time()\n",
    "print(end - start)"
   ]
  },
  {
   "cell_type": "code",
   "execution_count": 24,
   "id": "6fad467f",
   "metadata": {},
   "outputs": [
    {
     "data": {
      "text/plain": [
       "{'exc': 96.53792983084631}"
      ]
     },
     "execution_count": 24,
     "metadata": {},
     "output_type": "execute_result"
    }
   ],
   "source": [
    "max_acc_dict"
   ]
  },
  {
   "cell_type": "code",
   "execution_count": 25,
   "id": "c9f926d0",
   "metadata": {},
   "outputs": [
    {
     "data": {
      "text/plain": [
       "{'exc': 96.32023000858858}"
      ]
     },
     "execution_count": 25,
     "metadata": {},
     "output_type": "execute_result"
    }
   ],
   "source": [
    "min_acc_dict"
   ]
  },
  {
   "cell_type": "code",
   "execution_count": 26,
   "id": "ff47d47c",
   "metadata": {},
   "outputs": [
    {
     "data": {
      "text/plain": [
       "{'exc': 96.43210796578981}"
      ]
     },
     "execution_count": 26,
     "metadata": {},
     "output_type": "execute_result"
    }
   ],
   "source": [
    "overall_acc_dict"
   ]
  },
  {
   "cell_type": "code",
   "execution_count": 27,
   "id": "83455f15",
   "metadata": {},
   "outputs": [
    {
     "data": {
      "text/plain": [
       "{'exc': 0.0007740160251118373}"
      ]
     },
     "execution_count": 27,
     "metadata": {},
     "output_type": "execute_result"
    }
   ],
   "source": [
    "std_dev_dict"
   ]
  },
  {
   "cell_type": "code",
   "execution_count": 28,
   "id": "9e338d9a",
   "metadata": {},
   "outputs": [
    {
     "data": {
      "text/plain": [
       "{'exc': [108255, 610, 7016, 101849]}"
      ]
     },
     "execution_count": 28,
     "metadata": {},
     "output_type": "execute_result"
    }
   ],
   "source": [
    "matrix"
   ]
  },
  {
   "cell_type": "code",
   "execution_count": null,
   "id": "3feb2763",
   "metadata": {},
   "outputs": [],
   "source": []
  }
 ],
 "metadata": {
  "kernelspec": {
   "display_name": "Python 3 (ipykernel)",
   "language": "python",
   "name": "python3"
  },
  "language_info": {
   "codemirror_mode": {
    "name": "ipython",
    "version": 3
   },
   "file_extension": ".py",
   "mimetype": "text/x-python",
   "name": "python",
   "nbconvert_exporter": "python",
   "pygments_lexer": "ipython3",
   "version": "3.10.9"
  }
 },
 "nbformat": 4,
 "nbformat_minor": 5
}
